{
 "cells": [
  {
   "cell_type": "code",
   "execution_count": 2,
   "metadata": {
    "collapsed": true,
    "gather": {
     "logged": 1604083600409
    },
    "jupyter": {
     "outputs_hidden": true,
     "source_hidden": false
    },
    "nteract": {
     "transient": {
      "deleting": false
     }
    }
   },
   "outputs": [],
   "source": [
    "import os\r\n",
    "import boto3\r\n",
    "import tarfile"
   ]
  },
  {
   "cell_type": "code",
   "execution_count": 3,
   "metadata": {
    "collapsed": true,
    "gather": {
     "logged": 1604083601666
    },
    "jupyter": {
     "outputs_hidden": true,
     "source_hidden": false
    },
    "nteract": {
     "transient": {
      "deleting": false
     }
    }
   },
   "outputs": [],
   "source": [
    "os.environ['AWS_ACCESS_KEY_ID'] = ''\r\n",
    "os.environ['AWS_SECRET_ACCESS_KEY'] = l'"
   ]
  },
  {
   "cell_type": "code",
   "execution_count": 4,
   "metadata": {
    "collapsed": true,
    "gather": {
     "logged": 1604083604558
    },
    "jupyter": {
     "outputs_hidden": true,
     "source_hidden": false
    },
    "nteract": {
     "transient": {
      "deleting": false
     }
    }
   },
   "outputs": [],
   "source": [
    "session = boto3.Session(\r\n",
    "    aws_access_key_id=os.getenv('AWS_ACCESS_KEY_ID'),\r\n",
    "    aws_secret_access_key=os.getenv('AWS_SECRET_ACCESS_KEY'),\r\n",
    ")\r\n",
    "s3 = boto3.client('s3')\r\n",
    "\r\n",
    "s3.download_file('sagemaker-us-east-2-561323288832',\r\n",
    "                 'rf-scikit-2020-10-30-10-41-32-087/output/model.tar.gz',\r\n",
    "                 'model.tar.gz')\r\n",
    "\r\n",
    "tar = tarfile.open('model.tar.gz', \"r:gz\")\r\n",
    "tar.extractall()\r\n",
    "tar.close()"
   ]
  },
  {
   "cell_type": "code",
   "execution_count": 5,
   "metadata": {
    "collapsed": true,
    "gather": {
     "logged": 1604083605965
    },
    "jupyter": {
     "outputs_hidden": true,
     "source_hidden": false
    },
    "nteract": {
     "transient": {
      "deleting": false
     }
    }
   },
   "outputs": [],
   "source": [
    "from azureml.core import Workspace\r\n",
    "\r\n",
    "ws = Workspace.get(name=\"ajg\",\r\n",
    "                    subscription_id='df21e948-9b6b-4c98-a2d2-de09e55c34d8',\r\n",
    "                    resource_group='miax5')"
   ]
  },
  {
   "cell_type": "code",
   "execution_count": 6,
   "metadata": {
    "gather": {
     "logged": 1604083607350
    }
   },
   "outputs": [
    {
     "name": "stdout",
     "output_type": "stream",
     "text": [
      "Registering model bme_isotonic\n"
     ]
    }
   ],
   "source": [
    "from azureml.core.model import Model\r\n",
    "model = Model.register(model_path = \"model.joblib\",\r\n",
    "                        model_name = \"bme_isotonic\",\r\n",
    "                        description = \"BME AJG Isotonic Regression\",\r\n",
    "                        workspace = ws)\r\n"
   ]
  },
  {
   "cell_type": "code",
   "execution_count": 7,
   "metadata": {
    "collapsed": true,
    "gather": {
     "logged": 1604083607999
    },
    "jupyter": {
     "outputs_hidden": true,
     "source_hidden": false
    },
    "nteract": {
     "transient": {
      "deleting": false
     }
    }
   },
   "outputs": [],
   "source": [
    "from azureml.core.model import InferenceConfig\r\n",
    "from azureml.core.environment import Environment\r\n",
    "from azureml.core.conda_dependencies import CondaDependencies\r\n",
    "\r\n",
    "# Create the environment\r\n",
    "myenv = Environment(name=\"myenv\")\r\n",
    "conda_dep = CondaDependencies()\r\n",
    "\r\n",
    "# Define the packages needed by the model and scripts\r\n",
    "conda_dep.add_conda_package(\"pandas\")\r\n",
    "conda_dep.add_conda_package(\"scikit-learn\")\r\n",
    "conda_dep.add_conda_package(\"numpy\")\r\n",
    "# You must list azureml-defaults as a pip dependency\r\n",
    "conda_dep.add_pip_package(\"azureml-defaults\")\r\n",
    "\r\n",
    "# Adds dependencies to PythonSection of myenv\r\n",
    "myenv.python.conda_dependencies=conda_dep\r\n",
    "\r\n",
    "inference_config = InferenceConfig(entry_script=\"script.py\",\r\n",
    "                                   environment=myenv)"
   ]
  },
  {
   "cell_type": "code",
   "execution_count": 8,
   "metadata": {
    "collapsed": true,
    "gather": {
     "logged": 1604083609871
    },
    "jupyter": {
     "outputs_hidden": true,
     "source_hidden": false
    },
    "nteract": {
     "transient": {
      "deleting": false
     }
    }
   },
   "outputs": [],
   "source": [
    "from azureml.core.webservice import LocalWebservice\r\n",
    "\r\n",
    "deployment_config = LocalWebservice.deploy_configuration()"
   ]
  },
  {
   "cell_type": "code",
   "execution_count": 9,
   "metadata": {
    "collapsed": true,
    "gather": {
     "logged": 1604083674756
    },
    "jupyter": {
     "outputs_hidden": true,
     "source_hidden": false
    },
    "nteract": {
     "transient": {
      "deleting": false
     }
    }
   },
   "outputs": [
    {
     "name": "stdout",
     "output_type": "stream",
     "text": [
      "Downloading model bme_isotonic:4 to /tmp/azureml_4otg8bga/bme_isotonic/4\n",
      "Generating Docker build context.\n",
      "Package creation Succeeded\n",
      "Logging into Docker registry 5d2d3b530c3d4082b84a4176bb8fc15a.azurecr.io\n",
      "Logging into Docker registry 5d2d3b530c3d4082b84a4176bb8fc15a.azurecr.io\n",
      "Building Docker image from Dockerfile...\n",
      "Step 1/5 : FROM 5d2d3b530c3d4082b84a4176bb8fc15a.azurecr.io/azureml/azureml_46a81e82cfb6bc4cdf2ad0452b2ab68a\n",
      " ---> 7418682aff13\n",
      "Step 2/5 : COPY azureml-app /var/azureml-app\n",
      " ---> e5c677ac6b16\n",
      "Step 3/5 : RUN mkdir -p '/var/azureml-app' && echo eyJhY2NvdW50Q29udGV4dCI6eyJzdWJzY3JpcHRpb25JZCI6ImRmMjFlOTQ4LTliNmItNGM5OC1hMmQyLWRlMDllNTVjMzRkOCIsInJlc291cmNlR3JvdXBOYW1lIjoibWlheDUiLCJhY2NvdW50TmFtZSI6ImFqZyIsIndvcmtzcGFjZUlkIjoiNWQyZDNiNTMtMGMzZC00MDgyLWI4NGEtNDE3NmJiOGZjMTVhIn0sIm1vZGVscyI6e30sIm1vZGVsc0luZm8iOnt9fQ== | base64 --decode > /var/azureml-app/model_config_map.json\n",
      " ---> Running in 1f1b88b05b0f\n",
      " ---> e9b5cebb38c6\n",
      "Step 4/5 : RUN mv '/var/azureml-app/tmps9vcnvze.py' /var/azureml-app/main.py\n",
      " ---> Running in 7f783579280f\n",
      " ---> d6530ced2864\n",
      "Step 5/5 : CMD [\"runsvdir\",\"/var/runit\"]\n",
      " ---> Running in c9bc70879f4f\n",
      " ---> e84d9c9dfeaf\n",
      "Successfully built e84d9c9dfeaf\n",
      "Successfully tagged myservice:latest\n",
      "Container (name:admiring_morse, id:4ddbc799c5538d2236c8165e1ec5dd5aa2e925e7797ef97670e7a6be7efc867b) cannot be killed.\n",
      "Container has been successfully cleaned up.\n",
      "Image sha256:f1f339e6365fd230ee64591b68f2688039ba7b5af9ad507cf14df3623e8a0ac9 successfully removed.\n",
      "Starting Docker container...\n",
      "Docker container running.\n",
      "Checking container health...\n",
      "Local webservice is running at http://localhost:32769\n",
      "running\n",
      "scoring URI: http://localhost:32769/score\n"
     ]
    }
   ],
   "source": [
    "from azureml.core.model import Model\r\n",
    "\r\n",
    "model = Model(ws, name=\"bme_isotonic\")\r\n",
    "service = Model.deploy(ws, 'myservice', [model], inference_config, deployment_config)\r\n",
    "\r\n",
    "service.wait_for_deployment(True)\r\n",
    "print(service.state)\r\n",
    "print(\"scoring URI: \" + service.scoring_uri)"
   ]
  },
  {
   "cell_type": "code",
   "execution_count": 10,
   "metadata": {
    "collapsed": true,
    "gather": {
     "logged": 1604083674829
    },
    "jupyter": {
     "outputs_hidden": true,
     "source_hidden": false
    },
    "nteract": {
     "transient": {
      "deleting": false
     }
    }
   },
   "outputs": [],
   "source": [
    "import requests\r\n",
    "import json\r\n",
    "\r\n",
    "scoring_uri = 'http://localhost:32769/score'\r\n",
    "headers = {'Content-Type':'application/json'}"
   ]
  },
  {
   "cell_type": "code",
   "execution_count": 11,
   "metadata": {
    "collapsed": true,
    "gather": {
     "logged": 1604083674888
    },
    "jupyter": {
     "outputs_hidden": true,
     "source_hidden": false
    },
    "nteract": {
     "transient": {
      "deleting": false
     }
    }
   },
   "outputs": [
    {
     "name": "stdout",
     "output_type": "stream",
     "text": [
      "200\n",
      "0:00:00.053068\n",
      "{'pred': '[1.20171548]'}\n"
     ]
    }
   ],
   "source": [
    "test_data = json.dumps({'number':  [1.2]})\r\n",
    "\r\n",
    "response = requests.post(scoring_uri, data=test_data, headers=headers)\r\n",
    "print(response.status_code)\r\n",
    "print(response.elapsed)\r\n",
    "print(response.json())"
   ]
  },
  {
   "cell_type": "code",
   "execution_count": 12,
   "metadata": {
    "collapsed": true,
    "gather": {
     "logged": 1604083674943
    },
    "jupyter": {
     "outputs_hidden": true,
     "source_hidden": false
    },
    "nteract": {
     "transient": {
      "deleting": false
     }
    }
   },
   "outputs": [],
   "source": [
    "import pandas as pd\r\n",
    "import numpy as np"
   ]
  },
  {
   "cell_type": "code",
   "execution_count": 13,
   "metadata": {
    "collapsed": true,
    "gather": {
     "logged": 1604083678079
    },
    "jupyter": {
     "outputs_hidden": true,
     "source_hidden": false
    },
    "nteract": {
     "transient": {
      "deleting": false
     }
    }
   },
   "outputs": [],
   "source": [
    "data = pd.read_csv('s3://sagemakerbmeironia/sagemaker_input_data/data.csv', sep=';')\r\n",
    "data.set_index('date_ws', inplace=True)\r\n",
    "\r\n",
    "check_equal_df = False\r\n",
    "while not check_equal_df:\r\n",
    "    data_pre = data.copy()\r\n",
    "    data.fillna(method='ffill', inplace=True)\r\n",
    "    check_equal_df = data.equals(data_pre)\r\n",
    "\r\n",
    "check_equal_df = False\r\n",
    "while not check_equal_df:\r\n",
    "    data_pre = data.copy()\r\n",
    "    data.fillna(method='bfill', inplace=True)\r\n",
    "    check_equal_df = data.equals(data_pre)\r\n",
    "    \r\n",
    "returns = np.log(data).diff()\r\n",
    "\r\n",
    "market = returns.mean(axis=1)\r\n",
    "market.iloc[0] = 1\r\n",
    "market_cum = market.cumsum()\r\n",
    "inputs = market_cum[:-1]\r\n",
    "target = market_cum[1:]"
   ]
  },
  {
   "cell_type": "code",
   "execution_count": 14,
   "metadata": {
    "collapsed": true,
    "gather": {
     "logged": 1604083678143
    },
    "jupyter": {
     "outputs_hidden": true,
     "source_hidden": false
    },
    "nteract": {
     "transient": {
      "deleting": false
     }
    }
   },
   "outputs": [],
   "source": [
    "perc_train = 0.7\r\n",
    "perc_test = 0.2"
   ]
  },
  {
   "cell_type": "code",
   "execution_count": 15,
   "metadata": {
    "collapsed": true,
    "gather": {
     "logged": 1604083678216
    },
    "jupyter": {
     "outputs_hidden": true,
     "source_hidden": false
    },
    "nteract": {
     "transient": {
      "deleting": false
     }
    }
   },
   "outputs": [],
   "source": [
    "train_x, train_y = inputs.iloc[:int(len(inputs)*perc_train)] , target.iloc[:int(len(inputs)*perc_train)]\r\n",
    "test_x, test_y = inputs.iloc[int(len(inputs)*perc_train):int(len(inputs)*(perc_train+perc_test))] , target.iloc[int(len(inputs)*perc_train):int(len(inputs)*(perc_train+perc_test))]\r\n",
    "val_x, val_y = inputs.iloc[int(len(inputs)*(perc_train+perc_test)):] , target.iloc[int(len(inputs)*(perc_train+perc_test)):]"
   ]
  },
  {
   "cell_type": "code",
   "execution_count": 16,
   "metadata": {
    "collapsed": true,
    "gather": {
     "logged": 1604083679396
    },
    "jupyter": {
     "outputs_hidden": true,
     "source_hidden": false
    },
    "nteract": {
     "transient": {
      "deleting": false
     }
    }
   },
   "outputs": [],
   "source": [
    "predictions = []\r\n",
    "for elem in val_x.tolist():\r\n",
    "    test_data = json.dumps({'number':  [elem]})\r\n",
    "    response = requests.post(scoring_uri, data=test_data, headers=headers)\r\n",
    "    pred_str = response.json()['pred']\r\n",
    "    pred = float(pred_str.split('[')[1].split(']')[0])\r\n",
    "    predictions.append(pred)"
   ]
  },
  {
   "cell_type": "code",
   "execution_count": 17,
   "metadata": {
    "collapsed": true,
    "gather": {
     "logged": 1604083680326
    },
    "jupyter": {
     "outputs_hidden": true,
     "source_hidden": false
    },
    "nteract": {
     "transient": {
      "deleting": false
     }
    }
   },
   "outputs": [],
   "source": [
    "import matplotlib.pyplot as plt\r\n",
    "%matplotlib inline"
   ]
  },
  {
   "cell_type": "code",
   "execution_count": 18,
   "metadata": {
    "collapsed": true,
    "gather": {
     "logged": 1604083681215
    },
    "jupyter": {
     "outputs_hidden": true,
     "source_hidden": false
    },
    "nteract": {
     "transient": {
      "deleting": false
     }
    }
   },
   "outputs": [
    {
     "data": {
      "image/png": "[encoded data removed]",
      "text/plain": [
       "<Figure size 1332x504 with 1 Axes>"
      ]
     },
     "metadata": {
      "needs_background": "light"
     },
     "output_type": "display_data"
    }
   ],
   "source": [
    "fig, ax1 = plt.subplots()\r\n",
    "ax1.plot(predictions, color='tab:green')\r\n",
    "ax1.plot(val_y.tolist(), color='tab:blue')\r\n",
    "fig.tight_layout()\r\n",
    "fig.set_size_inches(18.5, 7, forward=True)\r\n",
    "plt.show()"
   ]
  },
  {
   "cell_type": "code",
   "execution_count": 19,
   "metadata": {
    "collapsed": true,
    "gather": {
     "logged": 1604083681363
    },
    "jupyter": {
     "outputs_hidden": true,
     "source_hidden": false
    },
    "nteract": {
     "transient": {
      "deleting": false
     }
    }
   },
   "outputs": [
    {
     "data": {
      "text/plain": [
       "-0.12299566470877377"
      ]
     },
     "execution_count": 19,
     "metadata": {},
     "output_type": "execute_result"
    }
   ],
   "source": [
    "from sklearn.metrics import r2_score\r\n",
    "r2_score(val_y.tolist(), predictions)"
   ]
  }
 ],
 "metadata": {
  "kernel_info": {
   "name": "python3-azureml"
  },
  "kernelspec": {
   "display_name": "Python 3.6 - AzureML",
   "language": "python",
   "name": "python3-azureml"
  },
  "language_info": {
   "codemirror_mode": {
    "name": "ipython",
    "version": 3
   },
   "file_extension": ".py",
   "mimetype": "text/x-python",
   "name": "python",
   "nbconvert_exporter": "python",
   "pygments_lexer": "ipython3",
   "version": "3.6.9"
  },
  "nteract": {
   "version": "nteract-front-end@1.0.0"
  }
 },
 "nbformat": 4,
 "nbformat_minor": 4
}
