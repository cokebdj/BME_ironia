{
 "cells": [
  {
   "cell_type": "markdown",
   "metadata": {},
   "source": [
    "https://github.com/aws/amazon-sagemaker-examples/blob/master/sagemaker-python-sdk/scikit_learn_randomforest/Sklearn_on_SageMaker_end2end.ipynb"
   ]
  },
  {
   "cell_type": "code",
   "execution_count": 1,
   "metadata": {},
   "outputs": [],
   "source": [
    "import os\n",
    "import boto3\n",
    "import re\n",
    "import sagemaker\n",
    "import pandas as pd\n",
    "import json\n",
    "import numpy as np\n",
    "from sagemaker import get_execution_role\n",
    "from sklearn.metrics import r2_score\n",
    "import pprint\n",
    "\n",
    "role = sagemaker.get_execution_role()\n",
    "region = boto3.Session().region_name\n",
    "sm_boto3 = boto3.client('sagemaker')\n",
    "sess = sagemaker.Session()\n",
    "\n",
    "bucket = sagemaker.Session().default_bucket()\n",
    "prefix = 'sagemaker/bmeajg31'\n",
    "bucket_path = 'https://s3-{}.amazonaws.com/{}'.format(region, bucket)"
   ]
  },
  {
   "cell_type": "code",
   "execution_count": 2,
   "metadata": {},
   "outputs": [],
   "source": [
    "data = pd.read_csv('s3://sagemakerbmeironia/sagemaker_input_data/data.csv', sep=';')\n",
    "data.set_index('date_ws', inplace=True)"
   ]
  },
  {
   "cell_type": "code",
   "execution_count": 3,
   "metadata": {},
   "outputs": [],
   "source": [
    "s3 = boto3.resource('s3')\n",
    "content_object = s3.Object('sagemakerbmeironia', 'sagemaker_input_data/names.json')\n",
    "file_content = content_object.get()['Body'].read().decode('utf-8')\n",
    "names_dict = json.loads(file_content)"
   ]
  },
  {
   "cell_type": "markdown",
   "metadata": {},
   "source": [
    "# Filtrado de fondos"
   ]
  },
  {
   "cell_type": "code",
   "execution_count": 4,
   "metadata": {},
   "outputs": [],
   "source": [
    "n = 10\n",
    "filt_columns = data.columns.tolist()[:10]\n",
    "filt_names = {v:k for k,v in names_dict.items() if str(v) in filt_columns}\n",
    "data_filt = data[filt_columns]"
   ]
  },
  {
   "cell_type": "code",
   "execution_count": 5,
   "metadata": {},
   "outputs": [
    {
     "name": "stderr",
     "output_type": "stream",
     "text": [
      "/home/ec2-user/anaconda3/envs/python3/lib/python3.6/site-packages/pandas/core/frame.py:4153: SettingWithCopyWarning: \n",
      "A value is trying to be set on a copy of a slice from a DataFrame\n",
      "\n",
      "See the caveats in the documentation: https://pandas.pydata.org/pandas-docs/stable/user_guide/indexing.html#returning-a-view-versus-a-copy\n",
      "  downcast=downcast,\n"
     ]
    }
   ],
   "source": [
    "check_equal_df = False\n",
    "while not check_equal_df:\n",
    "    data_pre = data_filt.copy()\n",
    "    data_filt.fillna(method='ffill', inplace=True)\n",
    "    check_equal_df = data_filt.equals(data_pre)\n",
    "\n",
    "check_equal_df = False\n",
    "while not check_equal_df:\n",
    "    data_pre = data_filt.copy()\n",
    "    data_filt.fillna(method='bfill', inplace=True)\n",
    "    check_equal_df = data_filt.equals(data_pre)"
   ]
  },
  {
   "cell_type": "code",
   "execution_count": 6,
   "metadata": {},
   "outputs": [],
   "source": [
    "returns = np.log(data_filt).diff()"
   ]
  },
  {
   "cell_type": "code",
   "execution_count": 7,
   "metadata": {},
   "outputs": [],
   "source": [
    "ret_f1 = returns.shift(-1)"
   ]
  },
  {
   "cell_type": "code",
   "execution_count": 8,
   "metadata": {},
   "outputs": [],
   "source": [
    "ret_p1 = returns.shift(1)\n",
    "ret_p1.columns = [elem+'_1' for elem in returns.columns.tolist()]\n",
    "ret_p2 = returns.shift(2)\n",
    "ret_p2.columns = [elem+'_2' for elem in returns.columns.tolist()]\n",
    "ret_p3 = returns.shift(3)\n",
    "ret_p3.columns = [elem+'_3' for elem in returns.columns.tolist()]\n",
    "ret_p4 = returns.shift(4)\n",
    "ret_p4.columns = [elem+'_4' for elem in returns.columns.tolist()]\n",
    "ret_p5 = returns.shift(5)\n",
    "ret_p5.columns = [elem+'_5' for elem in returns.columns.tolist()]"
   ]
  },
  {
   "cell_type": "code",
   "execution_count": 9,
   "metadata": {},
   "outputs": [],
   "source": [
    "inputs = pd.concat([returns, ret_p1, ret_p2, ret_p3, ret_p4, ret_p5], axis=1).iloc[5+1:-1]\n",
    "target = ret_f1.iloc[5+1:-1]"
   ]
  },
  {
   "cell_type": "markdown",
   "metadata": {},
   "source": [
    "# División en train, test y split"
   ]
  },
  {
   "cell_type": "code",
   "execution_count": 10,
   "metadata": {},
   "outputs": [],
   "source": [
    "perc_train = 0.7\n",
    "perc_test = 0.2"
   ]
  },
  {
   "cell_type": "code",
   "execution_count": 11,
   "metadata": {},
   "outputs": [],
   "source": [
    "train_x, train_y = inputs.iloc[:int(len(inputs)*perc_train)] , target.iloc[:int(len(inputs)*perc_train)]\n",
    "test_x, test_y = inputs.iloc[int(len(inputs)*perc_train):int(len(inputs)*(perc_train+perc_test))] , target.iloc[int(len(inputs)*perc_train):int(len(inputs)*(perc_train+perc_test))]\n",
    "val_x, val_y = inputs.iloc[int(len(inputs)*(perc_train+perc_test)):] , target.iloc[int(len(inputs)*(perc_train+perc_test)):]"
   ]
  },
  {
   "cell_type": "markdown",
   "metadata": {},
   "source": [
    "# Persistimos los datos"
   ]
  },
  {
   "cell_type": "code",
   "execution_count": 12,
   "metadata": {},
   "outputs": [],
   "source": [
    "with open('fund_names.json', 'w') as fp:\n",
    "    json.dump(filt_names, fp)"
   ]
  },
  {
   "cell_type": "code",
   "execution_count": 13,
   "metadata": {},
   "outputs": [],
   "source": [
    "train_x.to_csv('train_x.csv', index=False)\n",
    "train_y.to_csv('train_y.csv', index=False)\n",
    "test_x.to_csv('test_x.csv', index=False)\n",
    "test_y.to_csv('test_y.csv', index=False)"
   ]
  },
  {
   "cell_type": "code",
   "execution_count": 14,
   "metadata": {},
   "outputs": [],
   "source": [
    "names = sess.upload_data(\n",
    "    path='fund_names.json', bucket=bucket,\n",
    "    key_prefix='sagemaker/sklearncontainer')\n",
    "\n",
    "train_x_path = sess.upload_data(\n",
    "    path='train_x.csv', bucket=bucket,\n",
    "    key_prefix='sagemaker/sklearncontainer')\n",
    "\n",
    "train_y_path = sess.upload_data(\n",
    "    path='train_y.csv', bucket=bucket,\n",
    "    key_prefix='sagemaker/sklearncontainer')\n",
    "\n",
    "test_x_path = sess.upload_data(\n",
    "    path='test_x.csv', bucket=bucket,\n",
    "    key_prefix='sagemaker/sklearncontainer')\n",
    "\n",
    "test_y_path = sess.upload_data(\n",
    "    path='test_y.csv', bucket=bucket,\n",
    "    key_prefix='sagemaker/sklearncontainer')"
   ]
  },
  {
   "cell_type": "markdown",
   "metadata": {},
   "source": [
    "# Generamos script"
   ]
  },
  {
   "cell_type": "code",
   "execution_count": 15,
   "metadata": {},
   "outputs": [
    {
     "name": "stdout",
     "output_type": "stream",
     "text": [
      "Writing script.py\n"
     ]
    }
   ],
   "source": [
    "%%writefile script.py\n",
    "\n",
    "import argparse\n",
    "import joblib\n",
    "import json\n",
    "import os\n",
    "import pprint\n",
    "\n",
    "import boto3\n",
    "import numpy as np\n",
    "import pandas as pd\n",
    "from sklearn.ensemble import RandomForestRegressor\n",
    "from sklearn.metrics import r2_score\n",
    "\n",
    "import subprocess\n",
    "import sys\n",
    "\n",
    "\n",
    "\n",
    "# inference functions ---------------\n",
    "def model_fn(model_dir):\n",
    "    clf = joblib.load(os.path.join(model_dir, \"model.joblib\"))\n",
    "    return clf\n",
    "\n",
    "\n",
    "\n",
    "if __name__ =='__main__':\n",
    "    \n",
    "    subprocess.check_call([sys.executable, \"-m\", \"pip\", \"install\", \"s3fs\"])\n",
    "    subprocess.check_call([sys.executable, \"-m\", \"pip\", \"install\", \"fsspec\"])\n",
    "    \n",
    "\n",
    "    print('extracting arguments')\n",
    "    parser = argparse.ArgumentParser()\n",
    "\n",
    "    # hyperparameters sent by the client are passed as command-line arguments to the script.\n",
    "    # to simplify the demo we don't use all sklearn RandomForest hyperparameters\n",
    "    parser.add_argument('--n-estimators', type=int, default=10)\n",
    "\n",
    "    # Data, model, and output directories\n",
    "    parser.add_argument('--model-dir', type=str, default=os.environ.get('SM_MODEL_DIR'))\n",
    "    parser.add_argument('--train', type=str, default=os.environ.get('SM_CHANNEL_TRAIN'))\n",
    "    parser.add_argument('--test', type=str, default=os.environ.get('SM_CHANNEL_TEST'))\n",
    "    parser.add_argument('--x_train_file', type=str, default='train_x.csv')\n",
    "    parser.add_argument('--y_train_file', type=str, default='train_y.csv')\n",
    "    parser.add_argument('--x_test_file', type=str, default='test_x.csv')\n",
    "    parser.add_argument('--y_test_file', type=str, default='test_y.csv')\n",
    "    parser.add_argument('--names_file', type=str, default='fund_names.json')\n",
    "\n",
    "    args, _ = parser.parse_known_args()\n",
    "\n",
    "\n",
    "    if args.train == 'unused':\n",
    "        print('reading data')\n",
    "        x_train = pd.read_csv(args.x_train_file).values\n",
    "        y_train = pd.read_csv(args.y_train_file).values\n",
    "        x_test = pd.read_csv(args.x_test_file).values\n",
    "        y_test_df = pd.read_csv(args.y_test_file)\n",
    "        y_test = y_test_df.values\n",
    "        columns = y_test_df.columns.tolist()\n",
    "        \n",
    "        print('reading fund names')\n",
    "        s3 = boto3.resource('s3')\n",
    "        a = args.names_file\n",
    "        bucket = a.split('//')[1].split('/')[0]\n",
    "        file = a.split(bucket)[1][1:]\n",
    "        content_object = s3.Object(bucket, file)\n",
    "        file_content = content_object.get()['Body'].read().decode('utf-8')\n",
    "        names_dict = json.loads(file_content)\n",
    "        \n",
    "    else:\n",
    "        print('reading data')\n",
    "        x_train = pd.read_csv(os.path.join(args.train, args.x_train_file)).values\n",
    "        y_train = pd.read_csv(os.path.join(args.train, args.y_train_file)).values\n",
    "        x_test = pd.read_csv(os.path.join(args.test, args.x_test_file)).values\n",
    "        y_test_df = pd.read_csv(os.path.join(args.test, args.y_test_file))\n",
    "        y_test = y_test_df.values\n",
    "        columns = y_test_df.columns.tolist()\n",
    "\n",
    "        print('reading fund names')\n",
    "        json_file = open(os.path.join(args.train, args.names_file))\n",
    "        json_str = json_file.read()\n",
    "        names_dict = json.loads(json_str)\n",
    "\n",
    "\n",
    "    print('training model')\n",
    "    model = RandomForestRegressor(\n",
    "        n_estimators=args.n_estimators)\n",
    "    \n",
    "    model.fit(x_train, y_train)\n",
    "\n",
    "    # print abs error\n",
    "    print('validating model')\n",
    "    pred = model.predict(x_test)\n",
    "    results_dict = {}\n",
    "    for index, elem in enumerate(columns):\n",
    "        score = r2_score(y_test[:,index], pred[:,index])\n",
    "        results_dict[names_dict[elem]] = score\n",
    "\n",
    "    pprint.pprint(results_dict)\n",
    "\n",
    "    # persist model\n",
    "    path = os.path.join(args.model_dir, \"model.joblib\")\n",
    "    joblib.dump(model, path)\n",
    "    print('model persisted at ' + path)"
   ]
  },
  {
   "cell_type": "markdown",
   "metadata": {},
   "source": [
    "# Test local"
   ]
  },
  {
   "cell_type": "code",
   "execution_count": 16,
   "metadata": {},
   "outputs": [
    {
     "name": "stdout",
     "output_type": "stream",
     "text": [
      "Requirement already satisfied: s3fs in /home/ec2-user/anaconda3/envs/python3/lib/python3.6/site-packages (0.4.2)\n",
      "Requirement already satisfied: fsspec>=0.6.0 in /home/ec2-user/anaconda3/envs/python3/lib/python3.6/site-packages (from s3fs) (0.6.2)\n",
      "Requirement already satisfied: botocore>=1.12.91 in /home/ec2-user/anaconda3/envs/python3/lib/python3.6/site-packages (from s3fs) (1.19.6)\n",
      "Requirement already satisfied: urllib3<1.26,>=1.25.4; python_version != \"3.4\" in /home/ec2-user/anaconda3/envs/python3/lib/python3.6/site-packages (from botocore>=1.12.91->s3fs) (1.25.10)\n",
      "Requirement already satisfied: python-dateutil<3.0.0,>=2.1 in /home/ec2-user/anaconda3/envs/python3/lib/python3.6/site-packages (from botocore>=1.12.91->s3fs) (2.8.1)\n",
      "Requirement already satisfied: jmespath<1.0.0,>=0.7.1 in /home/ec2-user/anaconda3/envs/python3/lib/python3.6/site-packages (from botocore>=1.12.91->s3fs) (0.10.0)\n",
      "Requirement already satisfied: six>=1.5 in /home/ec2-user/anaconda3/envs/python3/lib/python3.6/site-packages (from python-dateutil<3.0.0,>=2.1->botocore>=1.12.91->s3fs) (1.14.0)\n",
      "\u001b[33mWARNING: You are using pip version 20.0.2; however, version 20.2.4 is available.\n",
      "You should consider upgrading via the '/home/ec2-user/anaconda3/envs/python3/bin/python -m pip install --upgrade pip' command.\u001b[0m\n",
      "Requirement already satisfied: fsspec in /home/ec2-user/anaconda3/envs/python3/lib/python3.6/site-packages (0.6.2)\n",
      "\u001b[33mWARNING: You are using pip version 20.0.2; however, version 20.2.4 is available.\n",
      "You should consider upgrading via the '/home/ec2-user/anaconda3/envs/python3/bin/python -m pip install --upgrade pip' command.\u001b[0m\n",
      "extracting arguments\n",
      "reading data\n",
      "reading fund names\n",
      "training model\n",
      "validating model\n",
      "{'\"FRANKLIN BIOTECHNOLOGY DISCOVERY \"\"I\"\"\"': -0.04987917634918415,\n",
      " '\"FRANKLIN EURO HIGH YIELD \"\"I\"\" (EUR) ACC\"': 0.04963080896920735,\n",
      " '\"FRANKLIN EURO HIGH YIELD \"\"I\"\" (EUR) INC\"': -0.07302500118418909,\n",
      " '\"FRANKLIN EUROPEAN GROWTH \"\"I\"\"\"': 0.01302759380208618,\n",
      " '\"FRANKLIN GLOBAL REAL ESTATE \"\"I\"\" ACC\"': -0.04477176260211735,\n",
      " '\"FRANKLIN INCOME \"\"I\"\"\"': -0.004758254547868601,\n",
      " '\"FRANKLIN INDIA \"\"I\"\" (USD)\"': -0.04610736340032506,\n",
      " '\"JAN HEN GLOBAL EQUITY \"\"R\"\" (GBP) ACC\"': -0.038341412148969356,\n",
      " '\"JAN HEN GLOBAL EQUITY \"\"R\"\" (USD) ACC\"': -0.019338519139112886,\n",
      " '\"JAN HEN UK ABSOLUTE RETURN \"\"R\"\" (GBP) ACC\"': -0.00040235172699620847}\n",
      "model persisted at ./model.joblib\n"
     ]
    }
   ],
   "source": [
    "! python script.py --n-estimators 100 \\\n",
    "                   --model-dir ./ \\\n",
    "                   --train ./ \\\n",
    "                   --test ./ \\"
   ]
  },
  {
   "cell_type": "markdown",
   "metadata": {},
   "source": [
    "# Entranamos en Sagemaker"
   ]
  },
  {
   "cell_type": "code",
   "execution_count": 17,
   "metadata": {},
   "outputs": [],
   "source": [
    "from sagemaker.sklearn.estimator import SKLearn\n",
    "\n",
    "FRAMEWORK_VERSION = '0.23-1'\n",
    "\n",
    "sklearn_estimator = SKLearn(\n",
    "    entry_point='script.py',\n",
    "    role = get_execution_role(),\n",
    "    train_instance_count=1,\n",
    "    train_instance_type='ml.m5.large',\n",
    "    framework_version=FRAMEWORK_VERSION,\n",
    "    base_job_name='rf-scikit',\n",
    "    hyperparameters = {'n-estimators': 100,\n",
    "                       'train':'unused',\n",
    "                       'test':'unused',\n",
    "                       'x_train_file': train_x_path,\n",
    "                       'y_train_file': train_y_path,\n",
    "                       'x_test_file': test_x_path,\n",
    "                       'y_test_file': test_y_path,\n",
    "                       'names_file': names})"
   ]
  },
  {
   "cell_type": "code",
   "execution_count": 18,
   "metadata": {},
   "outputs": [],
   "source": [
    "sklearn_estimator.fit( wait=False)"
   ]
  },
  {
   "cell_type": "markdown",
   "metadata": {},
   "source": [
    "# Desplegar un endpoint"
   ]
  },
  {
   "cell_type": "code",
   "execution_count": 19,
   "metadata": {},
   "outputs": [
    {
     "name": "stdout",
     "output_type": "stream",
     "text": [
      "2020-10-31 12:31:39 Starting - Starting the training job...\n",
      "2020-10-31 12:31:41 Starting - Launching requested ML instances......\n",
      "2020-10-31 12:32:44 Starting - Preparing the instances for training...\n",
      "2020-10-31 12:33:25 Downloading - Downloading input data...\n",
      "2020-10-31 12:33:41 Training - Downloading the training image...\n",
      "2020-10-31 12:34:32 Training - Training image download completed. Training in progress..\u001b[34m2020-10-31 12:34:32,090 sagemaker-training-toolkit INFO     Imported framework sagemaker_sklearn_container.training\u001b[0m\n",
      "\u001b[34m2020-10-31 12:34:32,092 sagemaker-training-toolkit INFO     No GPUs detected (normal if no gpus installed)\u001b[0m\n",
      "\u001b[34m2020-10-31 12:34:32,101 sagemaker_sklearn_container.training INFO     Invoking user training script.\u001b[0m\n",
      "\u001b[34m2020-10-31 12:34:32,375 sagemaker-training-toolkit INFO     No GPUs detected (normal if no gpus installed)\u001b[0m\n",
      "\u001b[34m2020-10-31 12:34:33,831 sagemaker-training-toolkit INFO     No GPUs detected (normal if no gpus installed)\u001b[0m\n",
      "\u001b[34m2020-10-31 12:34:33,842 sagemaker-training-toolkit INFO     No GPUs detected (normal if no gpus installed)\u001b[0m\n",
      "\u001b[34m2020-10-31 12:34:33,851 sagemaker-training-toolkit INFO     Invoking user script\n",
      "\u001b[0m\n",
      "\u001b[34mTraining Env:\n",
      "\u001b[0m\n",
      "\u001b[34m{\n",
      "    \"additional_framework_parameters\": {},\n",
      "    \"channel_input_dirs\": {},\n",
      "    \"current_host\": \"algo-1\",\n",
      "    \"framework_module\": \"sagemaker_sklearn_container.training:main\",\n",
      "    \"hosts\": [\n",
      "        \"algo-1\"\n",
      "    ],\n",
      "    \"hyperparameters\": {\n",
      "        \"test\": \"unused\",\n",
      "        \"names_file\": \"s3://sagemaker-us-east-2-561323288832/sagemaker/sklearncontainer/fund_names.json\",\n",
      "        \"y_train_file\": \"s3://sagemaker-us-east-2-561323288832/sagemaker/sklearncontainer/train_y.csv\",\n",
      "        \"x_test_file\": \"s3://sagemaker-us-east-2-561323288832/sagemaker/sklearncontainer/test_x.csv\",\n",
      "        \"n-estimators\": 100,\n",
      "        \"y_test_file\": \"s3://sagemaker-us-east-2-561323288832/sagemaker/sklearncontainer/test_y.csv\",\n",
      "        \"x_train_file\": \"s3://sagemaker-us-east-2-561323288832/sagemaker/sklearncontainer/train_x.csv\",\n",
      "        \"train\": \"unused\"\n",
      "    },\n",
      "    \"input_config_dir\": \"/opt/ml/input/config\",\n",
      "    \"input_data_config\": {},\n",
      "    \"input_dir\": \"/opt/ml/input\",\n",
      "    \"is_master\": true,\n",
      "    \"job_name\": \"rf-scikit-2020-10-31-12-31-39-347\",\n",
      "    \"log_level\": 20,\n",
      "    \"master_hostname\": \"algo-1\",\n",
      "    \"model_dir\": \"/opt/ml/model\",\n",
      "    \"module_dir\": \"s3://sagemaker-us-east-2-561323288832/rf-scikit-2020-10-31-12-31-39-347/source/sourcedir.tar.gz\",\n",
      "    \"module_name\": \"script\",\n",
      "    \"network_interface_name\": \"eth0\",\n",
      "    \"num_cpus\": 2,\n",
      "    \"num_gpus\": 0,\n",
      "    \"output_data_dir\": \"/opt/ml/output/data\",\n",
      "    \"output_dir\": \"/opt/ml/output\",\n",
      "    \"output_intermediate_dir\": \"/opt/ml/output/intermediate\",\n",
      "    \"resource_config\": {\n",
      "        \"current_host\": \"algo-1\",\n",
      "        \"hosts\": [\n",
      "            \"algo-1\"\n",
      "        ],\n",
      "        \"network_interface_name\": \"eth0\"\n",
      "    },\n",
      "    \"user_entry_point\": \"script.py\"\u001b[0m\n",
      "\u001b[34m}\n",
      "\u001b[0m\n",
      "\u001b[34mEnvironment variables:\n",
      "\u001b[0m\n",
      "\u001b[34mSM_HOSTS=[\"algo-1\"]\u001b[0m\n",
      "\u001b[34mSM_NETWORK_INTERFACE_NAME=eth0\u001b[0m\n",
      "\u001b[34mSM_HPS={\"n-estimators\":100,\"names_file\":\"s3://sagemaker-us-east-2-561323288832/sagemaker/sklearncontainer/fund_names.json\",\"test\":\"unused\",\"train\":\"unused\",\"x_test_file\":\"s3://sagemaker-us-east-2-561323288832/sagemaker/sklearncontainer/test_x.csv\",\"x_train_file\":\"s3://sagemaker-us-east-2-561323288832/sagemaker/sklearncontainer/train_x.csv\",\"y_test_file\":\"s3://sagemaker-us-east-2-561323288832/sagemaker/sklearncontainer/test_y.csv\",\"y_train_file\":\"s3://sagemaker-us-east-2-561323288832/sagemaker/sklearncontainer/train_y.csv\"}\u001b[0m\n",
      "\u001b[34mSM_USER_ENTRY_POINT=script.py\u001b[0m\n",
      "\u001b[34mSM_FRAMEWORK_PARAMS={}\u001b[0m\n",
      "\u001b[34mSM_RESOURCE_CONFIG={\"current_host\":\"algo-1\",\"hosts\":[\"algo-1\"],\"network_interface_name\":\"eth0\"}\u001b[0m\n",
      "\u001b[34mSM_INPUT_DATA_CONFIG={}\u001b[0m\n",
      "\u001b[34mSM_OUTPUT_DATA_DIR=/opt/ml/output/data\u001b[0m\n",
      "\u001b[34mSM_CHANNELS=[]\u001b[0m\n",
      "\u001b[34mSM_CURRENT_HOST=algo-1\u001b[0m\n",
      "\u001b[34mSM_MODULE_NAME=script\u001b[0m\n",
      "\u001b[34mSM_LOG_LEVEL=20\u001b[0m\n",
      "\u001b[34mSM_FRAMEWORK_MODULE=sagemaker_sklearn_container.training:main\u001b[0m\n",
      "\u001b[34mSM_INPUT_DIR=/opt/ml/input\u001b[0m\n",
      "\u001b[34mSM_INPUT_CONFIG_DIR=/opt/ml/input/config\u001b[0m\n",
      "\u001b[34mSM_OUTPUT_DIR=/opt/ml/output\u001b[0m\n",
      "\u001b[34mSM_NUM_CPUS=2\u001b[0m\n",
      "\u001b[34mSM_NUM_GPUS=0\u001b[0m\n",
      "\u001b[34mSM_MODEL_DIR=/opt/ml/model\u001b[0m\n",
      "\u001b[34mSM_MODULE_DIR=s3://sagemaker-us-east-2-561323288832/rf-scikit-2020-10-31-12-31-39-347/source/sourcedir.tar.gz\u001b[0m\n",
      "\u001b[34mSM_TRAINING_ENV={\"additional_framework_parameters\":{},\"channel_input_dirs\":{},\"current_host\":\"algo-1\",\"framework_module\":\"sagemaker_sklearn_container.training:main\",\"hosts\":[\"algo-1\"],\"hyperparameters\":{\"n-estimators\":100,\"names_file\":\"s3://sagemaker-us-east-2-561323288832/sagemaker/sklearncontainer/fund_names.json\",\"test\":\"unused\",\"train\":\"unused\",\"x_test_file\":\"s3://sagemaker-us-east-2-561323288832/sagemaker/sklearncontainer/test_x.csv\",\"x_train_file\":\"s3://sagemaker-us-east-2-561323288832/sagemaker/sklearncontainer/train_x.csv\",\"y_test_file\":\"s3://sagemaker-us-east-2-561323288832/sagemaker/sklearncontainer/test_y.csv\",\"y_train_file\":\"s3://sagemaker-us-east-2-561323288832/sagemaker/sklearncontainer/train_y.csv\"},\"input_config_dir\":\"/opt/ml/input/config\",\"input_data_config\":{},\"input_dir\":\"/opt/ml/input\",\"is_master\":true,\"job_name\":\"rf-scikit-2020-10-31-12-31-39-347\",\"log_level\":20,\"master_hostname\":\"algo-1\",\"model_dir\":\"/opt/ml/model\",\"module_dir\":\"s3://sagemaker-us-east-2-561323288832/rf-scikit-2020-10-31-12-31-39-347/source/sourcedir.tar.gz\",\"module_name\":\"script\",\"network_interface_name\":\"eth0\",\"num_cpus\":2,\"num_gpus\":0,\"output_data_dir\":\"/opt/ml/output/data\",\"output_dir\":\"/opt/ml/output\",\"output_intermediate_dir\":\"/opt/ml/output/intermediate\",\"resource_config\":{\"current_host\":\"algo-1\",\"hosts\":[\"algo-1\"],\"network_interface_name\":\"eth0\"},\"user_entry_point\":\"script.py\"}\u001b[0m\n",
      "\u001b[34mSM_USER_ARGS=[\"--n-estimators\",\"100\",\"--names_file\",\"s3://sagemaker-us-east-2-561323288832/sagemaker/sklearncontainer/fund_names.json\",\"--test\",\"unused\",\"--train\",\"unused\",\"--x_test_file\",\"s3://sagemaker-us-east-2-561323288832/sagemaker/sklearncontainer/test_x.csv\",\"--x_train_file\",\"s3://sagemaker-us-east-2-561323288832/sagemaker/sklearncontainer/train_x.csv\",\"--y_test_file\",\"s3://sagemaker-us-east-2-561323288832/sagemaker/sklearncontainer/test_y.csv\",\"--y_train_file\",\"s3://sagemaker-us-east-2-561323288832/sagemaker/sklearncontainer/train_y.csv\"]\u001b[0m\n",
      "\u001b[34mSM_OUTPUT_INTERMEDIATE_DIR=/opt/ml/output/intermediate\u001b[0m\n",
      "\u001b[34mSM_HP_TEST=unused\u001b[0m\n",
      "\u001b[34mSM_HP_NAMES_FILE=s3://sagemaker-us-east-2-561323288832/sagemaker/sklearncontainer/fund_names.json\u001b[0m\n",
      "\u001b[34mSM_HP_Y_TRAIN_FILE=s3://sagemaker-us-east-2-561323288832/sagemaker/sklearncontainer/train_y.csv\u001b[0m\n",
      "\u001b[34mSM_HP_X_TEST_FILE=s3://sagemaker-us-east-2-561323288832/sagemaker/sklearncontainer/test_x.csv\u001b[0m\n",
      "\u001b[34mSM_HP_N-ESTIMATORS=100\u001b[0m\n",
      "\u001b[34mSM_HP_Y_TEST_FILE=s3://sagemaker-us-east-2-561323288832/sagemaker/sklearncontainer/test_y.csv\u001b[0m\n",
      "\u001b[34mSM_HP_X_TRAIN_FILE=s3://sagemaker-us-east-2-561323288832/sagemaker/sklearncontainer/train_x.csv\u001b[0m\n",
      "\u001b[34mSM_HP_TRAIN=unused\u001b[0m\n",
      "\u001b[34mPYTHONPATH=/opt/ml/code:/miniconda3/bin:/miniconda3/lib/python37.zip:/miniconda3/lib/python3.7:/miniconda3/lib/python3.7/lib-dynload:/miniconda3/lib/python3.7/site-packages\n",
      "\u001b[0m\n",
      "\u001b[34mInvoking script with the following command:\n",
      "\u001b[0m\n",
      "\u001b[34m/miniconda3/bin/python script.py --n-estimators 100 --names_file s3://sagemaker-us-east-2-561323288832/sagemaker/sklearncontainer/fund_names.json --test unused --train unused --x_test_file s3://sagemaker-us-east-2-561323288832/sagemaker/sklearncontainer/test_x.csv --x_train_file s3://sagemaker-us-east-2-561323288832/sagemaker/sklearncontainer/train_x.csv --y_test_file s3://sagemaker-us-east-2-561323288832/sagemaker/sklearncontainer/test_y.csv --y_train_file s3://sagemaker-us-east-2-561323288832/sagemaker/sklearncontainer/train_y.csv\n",
      "\n",
      "\u001b[0m\n",
      "\u001b[34mCollecting s3fs\n",
      "  Downloading s3fs-0.5.1-py3-none-any.whl (21 kB)\u001b[0m\n",
      "\u001b[34mCollecting aiobotocore>=1.0.1\n",
      "  Downloading aiobotocore-1.1.2-py3-none-any.whl (45 kB)\u001b[0m\n",
      "\u001b[34mCollecting fsspec>=0.8.0\n",
      "  Downloading fsspec-0.8.4-py3-none-any.whl (91 kB)\u001b[0m\n",
      "\u001b[34mCollecting botocore<1.17.45,>=1.17.44\n",
      "  Downloading botocore-1.17.44-py2.py3-none-any.whl (6.5 MB)\u001b[0m\n",
      "\u001b[34mCollecting wrapt>=1.10.10\n",
      "  Downloading wrapt-1.12.1.tar.gz (27 kB)\u001b[0m\n",
      "\u001b[34mCollecting aioitertools>=0.5.1\n",
      "  Downloading aioitertools-0.7.0-py3-none-any.whl (20 kB)\u001b[0m\n",
      "\u001b[34mCollecting aiohttp>=3.3.1\n",
      "  Downloading aiohttp-3.7.2-cp37-cp37m-manylinux2014_x86_64.whl (1.3 MB)\u001b[0m\n",
      "\u001b[34mRequirement already satisfied: python-dateutil<3.0.0,>=2.1 in /miniconda3/lib/python3.7/site-packages (from botocore<1.17.45,>=1.17.44->aiobotocore>=1.0.1->s3fs) (2.8.1)\u001b[0m\n",
      "\u001b[34mCollecting docutils<0.16,>=0.10\n",
      "  Downloading docutils-0.15.2-py3-none-any.whl (547 kB)\u001b[0m\n",
      "\u001b[34mRequirement already satisfied: urllib3<1.26,>=1.20; python_version != \"3.4\" in /miniconda3/lib/python3.7/site-packages (from botocore<1.17.45,>=1.17.44->aiobotocore>=1.0.1->s3fs) (1.25.10)\u001b[0m\n",
      "\u001b[34mRequirement already satisfied: jmespath<1.0.0,>=0.7.1 in /miniconda3/lib/python3.7/site-packages (from botocore<1.17.45,>=1.17.44->aiobotocore>=1.0.1->s3fs) (0.10.0)\u001b[0m\n",
      "\u001b[34mCollecting typing_extensions>=3.7\n",
      "  Downloading typing_extensions-3.7.4.3-py3-none-any.whl (22 kB)\u001b[0m\n",
      "\u001b[34mCollecting multidict<7.0,>=4.5\n",
      "  Downloading multidict-5.0.0-cp37-cp37m-manylinux2014_x86_64.whl (142 kB)\u001b[0m\n",
      "\u001b[34mCollecting async-timeout<4.0,>=3.0\n",
      "  Downloading async_timeout-3.0.1-py3-none-any.whl (8.2 kB)\u001b[0m\n",
      "\u001b[34mCollecting yarl<2.0,>=1.0\n",
      "  Downloading yarl-1.6.2-cp37-cp37m-manylinux2014_x86_64.whl (295 kB)\u001b[0m\n",
      "\u001b[34mRequirement already satisfied: chardet<4.0,>=2.0 in /miniconda3/lib/python3.7/site-packages (from aiohttp>=3.3.1->aiobotocore>=1.0.1->s3fs) (3.0.4)\u001b[0m\n",
      "\u001b[34mCollecting attrs>=17.3.0\n",
      "  Downloading attrs-20.2.0-py2.py3-none-any.whl (48 kB)\u001b[0m\n",
      "\u001b[34mRequirement already satisfied: six>=1.5 in /miniconda3/lib/python3.7/site-packages (from python-dateutil<3.0.0,>=2.1->botocore<1.17.45,>=1.17.44->aiobotocore>=1.0.1->s3fs) (1.15.0)\u001b[0m\n",
      "\u001b[34mRequirement already satisfied: idna>=2.0 in /miniconda3/lib/python3.7/site-packages (from yarl<2.0,>=1.0->aiohttp>=3.3.1->aiobotocore>=1.0.1->s3fs) (2.10)\u001b[0m\n",
      "\u001b[34mBuilding wheels for collected packages: wrapt\n",
      "  Building wheel for wrapt (setup.py): started\u001b[0m\n",
      "\u001b[34m  Building wheel for wrapt (setup.py): finished with status 'done'\n",
      "  Created wheel for wrapt: filename=wrapt-1.12.1-cp37-cp37m-linux_x86_64.whl size=66382 sha256=ccdd14d22e94a03f1181f22720c2acd397a4e2668b16fd3b839b4d96ec58cc4d\n",
      "  Stored in directory: /root/.cache/pip/wheels/62/76/4c/aa25851149f3f6d9785f6c869387ad82b3fd37582fa8147ac6\u001b[0m\n",
      "\u001b[34mSuccessfully built wrapt\u001b[0m\n",
      "\u001b[34mInstalling collected packages: docutils, botocore, wrapt, typing-extensions, aioitertools, multidict, async-timeout, yarl, attrs, aiohttp, aiobotocore, fsspec, s3fs\n",
      "  Attempting uninstall: botocore\n",
      "    Found existing installation: botocore 1.18.9\n",
      "    Uninstalling botocore-1.18.9:\n",
      "      Successfully uninstalled botocore-1.18.9\u001b[0m\n",
      "\u001b[34mERROR: After October 2020 you may experience errors when installing or updating packages. This is because pip will change the way that it resolves dependency conflicts.\n",
      "\u001b[0m\n",
      "\u001b[34mWe recommend you use --use-feature=2020-resolver to test your packages with the new resolver before it becomes the default.\n",
      "\u001b[0m\n",
      "\u001b[34mboto3 1.15.9 requires botocore<1.19.0,>=1.18.9, but you'll have botocore 1.17.44 which is incompatible.\u001b[0m\n",
      "\u001b[34mSuccessfully installed aiobotocore-1.1.2 aiohttp-3.7.2 aioitertools-0.7.0 async-timeout-3.0.1 attrs-20.2.0 botocore-1.17.44 docutils-0.15.2 fsspec-0.8.4 multidict-5.0.0 s3fs-0.5.1 typing-extensions-3.7.4.3 wrapt-1.12.1 yarl-1.6.2\u001b[0m\n",
      "\u001b[34mRequirement already satisfied: fsspec in /miniconda3/lib/python3.7/site-packages (0.8.4)\u001b[0m\n",
      "\u001b[34mextracting arguments\u001b[0m\n",
      "\u001b[34mreading data\u001b[0m\n",
      "\u001b[34mreading fund names\u001b[0m\n",
      "\u001b[34mtraining model\u001b[0m\n",
      "\n",
      "2020-10-31 12:35:03 Uploading - Uploading generated training model\u001b[34mvalidating model\u001b[0m\n",
      "\u001b[34m{'\"FRANKLIN BIOTECHNOLOGY DISCOVERY \"\"I\"\"\"': -0.05760570414263433,\n",
      " '\"FRANKLIN EURO HIGH YIELD \"\"I\"\" (EUR) ACC\"': 0.05357278295560952,\n",
      " '\"FRANKLIN EURO HIGH YIELD \"\"I\"\" (EUR) INC\"': -0.07549268514295426,\n",
      " '\"FRANKLIN EUROPEAN GROWTH \"\"I\"\"\"': 0.008600056663003897,\n",
      " '\"FRANKLIN GLOBAL REAL ESTATE \"\"I\"\" ACC\"': -0.0589040678769952,\n",
      " '\"FRANKLIN INCOME \"\"I\"\"\"': -0.030749123357182384,\n",
      " '\"FRANKLIN INDIA \"\"I\"\" (USD)\"': -0.02361205614316786,\n",
      " '\"JAN HEN GLOBAL EQUITY \"\"R\"\" (GBP) ACC\"': -0.04187737989265816,\n",
      " '\"JAN HEN GLOBAL EQUITY \"\"R\"\" (USD) ACC\"': -0.026946918051924174,\n",
      " '\"JAN HEN UK ABSOLUTE RETURN \"\"R\"\" (GBP) ACC\"': 0.0015407973408383402}\u001b[0m\n",
      "\u001b[34mmodel persisted at /opt/ml/model/model.joblib\u001b[0m\n",
      "\u001b[34m2020-10-31 12:35:01,233 sagemaker-training-toolkit INFO     Reporting training SUCCESS\u001b[0m\n",
      "\n",
      "2020-10-31 12:35:15 Completed - Training job completed\n",
      "Training seconds: 110\n",
      "Billable seconds: 110\n",
      "Model artifact persisted at s3://sagemaker-us-east-2-561323288832/rf-scikit-2020-10-31-12-31-39-347/output/model.tar.gz\n"
     ]
    }
   ],
   "source": [
    "sklearn_estimator.latest_training_job.wait()\n",
    "artifact = sm_boto3.describe_training_job(\n",
    "    TrainingJobName=sklearn_estimator.latest_training_job.name)['ModelArtifacts']['S3ModelArtifacts']\n",
    "\n",
    "print('Model artifact persisted at ' + artifact)"
   ]
  },
  {
   "cell_type": "code",
   "execution_count": 20,
   "metadata": {},
   "outputs": [
    {
     "name": "stderr",
     "output_type": "stream",
     "text": [
      "Parameter image will be renamed to image_uri in SageMaker Python SDK v2.\n"
     ]
    }
   ],
   "source": [
    "from sagemaker.sklearn.model import SKLearnModel\n",
    "\n",
    "model = SKLearnModel(\n",
    "    model_data=artifact,\n",
    "    role=get_execution_role(),\n",
    "    entry_point='script.py',\n",
    "    framework_version=FRAMEWORK_VERSION)"
   ]
  },
  {
   "cell_type": "code",
   "execution_count": 21,
   "metadata": {},
   "outputs": [
    {
     "name": "stdout",
     "output_type": "stream",
     "text": [
      "---------------------!"
     ]
    }
   ],
   "source": [
    "predictor = model.deploy(\n",
    "    instance_type='ml.t2.medium',\n",
    "    initial_instance_count=1)"
   ]
  },
  {
   "cell_type": "markdown",
   "metadata": {},
   "source": [
    "# Predicciones"
   ]
  },
  {
   "cell_type": "code",
   "execution_count": 22,
   "metadata": {},
   "outputs": [],
   "source": [
    "runtime = boto3.client('sagemaker-runtime')"
   ]
  },
  {
   "cell_type": "code",
   "execution_count": 23,
   "metadata": {},
   "outputs": [],
   "source": [
    "response = runtime.invoke_endpoint(\n",
    "    EndpointName=predictor.endpoint,\n",
    "    Body=val_x.to_csv(header=False, index=False).encode('utf-8'),\n",
    "    ContentType='text/csv')"
   ]
  },
  {
   "cell_type": "code",
   "execution_count": 24,
   "metadata": {},
   "outputs": [],
   "source": [
    "pred = np.asarray(json.loads(response['Body'].read().decode()))"
   ]
  },
  {
   "cell_type": "code",
   "execution_count": 26,
   "metadata": {},
   "outputs": [],
   "source": [
    "columns = returns.columns.tolist()\n",
    "dict_results = {}\n",
    "dict_metrics = {}\n",
    "for elem in range(pred.shape[1]):\n",
    "    dict_results[filt_names[int(columns[elem])]] = pred[:,elem]\n",
    "    dict_metrics[filt_names[int(columns[elem])]] = r2_score(val_y.values[:,elem],pred[:,elem])"
   ]
  },
  {
   "cell_type": "code",
   "execution_count": 27,
   "metadata": {},
   "outputs": [
    {
     "name": "stdout",
     "output_type": "stream",
     "text": [
      "{'\"FRANKLIN BIOTECHNOLOGY DISCOVERY \"\"I\"\"\"': -0.01280736176890862,\n",
      " '\"FRANKLIN EURO HIGH YIELD \"\"I\"\" (EUR) ACC\"': 0.23036996498375562,\n",
      " '\"FRANKLIN EURO HIGH YIELD \"\"I\"\" (EUR) INC\"': 0.07674783599098578,\n",
      " '\"FRANKLIN EUROPEAN GROWTH \"\"I\"\"\"': 0.054970468441639886,\n",
      " '\"FRANKLIN GLOBAL REAL ESTATE \"\"I\"\" ACC\"': -0.033814530076192506,\n",
      " '\"FRANKLIN INCOME \"\"I\"\"\"': 0.06471463291704915,\n",
      " '\"FRANKLIN INDIA \"\"I\"\" (USD)\"': 0.01670012172389801,\n",
      " '\"JAN HEN GLOBAL EQUITY \"\"R\"\" (GBP) ACC\"': 0.000636133245301651,\n",
      " '\"JAN HEN GLOBAL EQUITY \"\"R\"\" (USD) ACC\"': -0.001286615885380149,\n",
      " '\"JAN HEN UK ABSOLUTE RETURN \"\"R\"\" (GBP) ACC\"': -0.1590348695713526}\n"
     ]
    }
   ],
   "source": [
    "pprint.pprint(dict_metrics)"
   ]
  },
  {
   "cell_type": "code",
   "execution_count": 28,
   "metadata": {},
   "outputs": [
    {
     "data": {
      "text/plain": [
       "array([ 5.98545981e-03, -2.06560987e-03, -1.75772289e-03,  4.66344078e-04,\n",
       "        2.01076206e-03, -1.50827680e-04,  5.11689174e-04,  2.26000492e-03,\n",
       "       -1.98446696e-04,  2.83056315e-03,  8.08962142e-03,  1.44598122e-03,\n",
       "        1.01876094e-03,  3.96069822e-03,  1.97694840e-03,  4.24837211e-03,\n",
       "        2.51251127e-03,  1.31869668e-03, -9.13528199e-04, -2.41273560e-03,\n",
       "        2.87619330e-03,  6.03999760e-04, -1.18147304e-03, -4.48268478e-04,\n",
       "       -1.67327978e-03,  2.82515139e-03,  1.36658792e-03,  2.37096975e-03,\n",
       "        8.63296570e-05, -4.01784641e-03, -3.00708625e-03, -3.94984065e-04,\n",
       "        1.47440221e-03,  3.61872443e-04, -1.30471497e-03,  9.69871303e-04,\n",
       "       -1.16060215e-03,  2.06084712e-03, -1.47244691e-03,  2.38671534e-03,\n",
       "       -7.62066956e-04,  7.17562497e-04,  1.73357711e-03, -7.12408134e-04,\n",
       "       -3.02554975e-04,  2.23746959e-03, -3.69154979e-03, -1.39809204e-04,\n",
       "       -2.81844488e-04,  7.34745883e-04, -1.16792085e-03,  1.11070109e-03,\n",
       "        9.64005637e-04,  2.21011757e-03,  4.21039880e-03,  9.69861143e-04,\n",
       "       -8.59167599e-04,  1.59771991e-03, -2.97410280e-03,  1.37524780e-03,\n",
       "        1.42749079e-03, -2.30487876e-03,  2.22999952e-03, -2.83842211e-04,\n",
       "       -4.89081894e-04, -3.74563403e-04,  2.03135452e-03,  1.88083826e-03,\n",
       "       -4.32231442e-04,  5.06803716e-04,  4.73070807e-04, -2.98374611e-04,\n",
       "       -4.89827858e-04,  1.48342125e-03, -1.00317915e-03,  1.16299891e-03,\n",
       "       -2.13102144e-04, -3.36142732e-04, -8.52217672e-05, -1.30462107e-03,\n",
       "       -1.00453947e-03, -1.80471738e-05, -1.35659861e-03, -8.73081859e-05,\n",
       "       -1.75961677e-03,  2.48189507e-03,  3.11316310e-03,  9.66533080e-04,\n",
       "        2.83093412e-03, -1.17341484e-03, -1.26532049e-03,  2.59260698e-03,\n",
       "        2.26711202e-03,  1.80454729e-03,  9.62770376e-04, -4.12947155e-05,\n",
       "        8.42216880e-04,  1.95532086e-03,  1.20238569e-03,  6.59035340e-03,\n",
       "        5.22130100e-04, -2.60265973e-03,  3.94307046e-04,  7.09351773e-04,\n",
       "       -2.19202646e-03,  3.55636300e-03, -1.47435505e-03, -4.01411623e-03,\n",
       "        6.64285126e-04, -1.47990554e-03,  3.53440820e-04, -1.14430976e-03,\n",
       "       -3.28352020e-04,  1.48082494e-03,  1.72251635e-05,  1.91047264e-03,\n",
       "        2.78072603e-03, -2.09408592e-03,  1.69449679e-03, -3.66037176e-03,\n",
       "       -1.50890377e-02,  4.45456918e-03, -5.94618721e-03, -6.17601741e-03,\n",
       "        8.65768605e-03, -6.02123192e-03,  4.71644503e-03, -3.35342517e-03,\n",
       "       -1.17688745e-02,  1.63101659e-02, -2.39875386e-02, -5.03468615e-04,\n",
       "       -5.84816826e-03, -1.61262443e-02,  2.58004990e-03, -2.10295303e-02,\n",
       "        1.35697125e-02, -7.32741594e-03,  1.74116028e-02, -1.15005686e-02,\n",
       "        1.29009012e-02,  1.23049782e-03,  2.70055134e-03, -1.07389162e-02,\n",
       "       -1.96588639e-02, -1.53012171e-03, -9.73245089e-03, -2.03519605e-02,\n",
       "       -7.99124936e-04, -3.73395447e-03,  1.16092433e-02, -6.62707925e-03,\n",
       "       -8.05559032e-03, -7.92187272e-03, -1.36883246e-02, -3.91092520e-03,\n",
       "       -8.24047033e-03, -1.14329649e-02,  3.96901104e-03, -4.92289867e-03,\n",
       "       -7.42006119e-03,  9.83285560e-05,  2.01655751e-03,  5.97259715e-03,\n",
       "       -2.47541728e-03, -1.13234704e-03, -7.00337679e-04, -7.19691221e-04,\n",
       "       -4.29013612e-03, -3.55114023e-03,  6.39256837e-04, -6.58920732e-03,\n",
       "       -2.04889313e-03, -7.21942540e-03, -8.13163345e-04, -5.05093323e-03,\n",
       "       -2.09083447e-03,  3.44509194e-04, -2.66363261e-03,  5.06566599e-03,\n",
       "        1.32275665e-03, -1.00000080e-02, -1.06816012e-02, -1.22337840e-04,\n",
       "       -7.24775441e-03,  2.80090587e-03,  5.18038107e-03, -5.91583970e-03,\n",
       "       -2.33407436e-04,  4.70840458e-04,  3.73953243e-03, -3.05980555e-04,\n",
       "       -2.77716041e-03, -1.99813926e-03, -2.59750364e-03, -9.22051090e-03,\n",
       "       -6.49823693e-03, -1.24513503e-02,  1.32595560e-03,  1.01138558e-02,\n",
       "        6.20101558e-03, -1.31984962e-03, -8.56864543e-03, -4.23555192e-03,\n",
       "        2.09217084e-03, -6.80687569e-03, -4.43215383e-03, -9.45272628e-03,\n",
       "        5.20322874e-03, -1.41435927e-03,  5.30054750e-03, -1.61220990e-03,\n",
       "        6.35627983e-03,  8.71376607e-04, -1.19188423e-05, -4.80198318e-03,\n",
       "       -2.10465103e-03,  6.42014216e-03, -8.45285185e-04,  6.82453228e-04,\n",
       "        1.02420979e-03,  4.05818352e-03, -1.36248303e-03,  3.26777294e-03,\n",
       "       -2.88470131e-04, -2.68303903e-03,  9.45801159e-04, -7.53460931e-04,\n",
       "       -1.77869722e-03,  3.21109183e-03, -1.17034255e-04,  1.18343230e-03,\n",
       "        1.08470821e-03, -5.36832541e-03,  1.97392544e-03, -3.06567638e-03,\n",
       "       -3.90389841e-03,  1.19024114e-04, -5.29110908e-04,  7.58316827e-04,\n",
       "       -1.31511612e-03,  1.06001492e-03, -6.58825762e-04,  3.92353020e-04,\n",
       "        1.80920839e-04,  3.66087145e-03, -9.59893588e-04, -7.16369904e-04,\n",
       "        1.14620452e-03, -6.60872534e-04, -3.30298695e-04, -1.64981577e-03,\n",
       "        2.21870404e-03,  1.55505979e-03,  3.23122212e-04, -1.86056376e-03,\n",
       "       -5.84159472e-03, -6.54301497e-03,  2.59432785e-03, -4.99304503e-03,\n",
       "        5.39691811e-04, -2.81170514e-03,  7.26254197e-03, -5.72825985e-03,\n",
       "        7.82980291e-03,  1.75210148e-03,  1.72120464e-03,  3.14179156e-04,\n",
       "        1.33559272e-03, -1.28481897e-03, -7.19085597e-03,  1.83248585e-03,\n",
       "        1.04543461e-03,  3.97914305e-03, -1.34374124e-03, -1.38462428e-03,\n",
       "        2.56806411e-04, -2.00725338e-03, -2.22101745e-04])"
      ]
     },
     "execution_count": 28,
     "metadata": {},
     "output_type": "execute_result"
    }
   ],
   "source": [
    "dict_results['\"FRANKLIN BIOTECHNOLOGY DISCOVERY \"\"I\"\"\"']"
   ]
  },
  {
   "cell_type": "markdown",
   "metadata": {},
   "source": [
    "# Borrar el endpoint"
   ]
  },
  {
   "cell_type": "code",
   "execution_count": 29,
   "metadata": {},
   "outputs": [
    {
     "data": {
      "text/plain": [
       "{'ResponseMetadata': {'RequestId': '63d837cb-cf97-419a-9fd9-bde3b4894b50',\n",
       "  'HTTPStatusCode': 200,\n",
       "  'HTTPHeaders': {'x-amzn-requestid': '63d837cb-cf97-419a-9fd9-bde3b4894b50',\n",
       "   'content-type': 'application/x-amz-json-1.1',\n",
       "   'content-length': '0',\n",
       "   'date': 'Sat, 31 Oct 2020 12:47:47 GMT'},\n",
       "  'RetryAttempts': 0}}"
      ]
     },
     "execution_count": 29,
     "metadata": {},
     "output_type": "execute_result"
    }
   ],
   "source": [
    "sm_boto3.delete_endpoint(EndpointName=predictor.endpoint)"
   ]
  },
  {
   "cell_type": "code",
   "execution_count": null,
   "metadata": {},
   "outputs": [],
   "source": []
  }
 ],
 "metadata": {
  "kernelspec": {
   "display_name": "conda_python3",
   "language": "python",
   "name": "conda_python3"
  },
  "language_info": {
   "codemirror_mode": {
    "name": "ipython",
    "version": 3
   },
   "file_extension": ".py",
   "mimetype": "text/x-python",
   "name": "python",
   "nbconvert_exporter": "python",
   "pygments_lexer": "ipython3",
   "version": "3.6.10"
  }
 },
 "nbformat": 4,
 "nbformat_minor": 4
}
