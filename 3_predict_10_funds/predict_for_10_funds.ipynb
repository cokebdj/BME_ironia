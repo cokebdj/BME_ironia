{
 "cells": [
  {
   "cell_type": "markdown",
   "metadata": {},
   "source": [
    "https://github.com/aws/amazon-sagemaker-examples/blob/master/sagemaker-python-sdk/scikit_learn_randomforest/Sklearn_on_SageMaker_end2end.ipynb"
   ]
  },
  {
   "cell_type": "code",
   "execution_count": 41,
   "metadata": {},
   "outputs": [],
   "source": [
    "import os\n",
    "import boto3\n",
    "import re\n",
    "import sagemaker\n",
    "import pandas as pd\n",
    "import json\n",
    "import numpy as np\n",
    "from sagemaker import get_execution_role\n",
    "from sklearn.metrics import r2_score\n",
    "import pprint\n",
    "\n",
    "role = sagemaker.get_execution_role()\n",
    "region = boto3.Session().region_name\n",
    "sm_boto3 = boto3.client('sagemaker')\n",
    "sess = sagemaker.Session()\n",
    "\n",
    "bucket = sagemaker.Session().default_bucket()\n",
    "prefix = 'sagemaker/bmeajg31'\n",
    "bucket_path = 'https://s3-{}.amazonaws.com/{}'.format(region, bucket)"
   ]
  },
  {
   "cell_type": "code",
   "execution_count": 2,
   "metadata": {},
   "outputs": [],
   "source": [
    "data = pd.read_csv('s3://sagemakerbmeironia/sagemaker_input_data/data.csv', sep=';')\n",
    "data.set_index('date_ws', inplace=True)"
   ]
  },
  {
   "cell_type": "code",
   "execution_count": 3,
   "metadata": {},
   "outputs": [],
   "source": [
    "s3 = boto3.resource('s3')\n",
    "content_object = s3.Object('sagemakerbmeironia', 'sagemaker_input_data/names.json')\n",
    "file_content = content_object.get()['Body'].read().decode('utf-8')\n",
    "names_dict = json.loads(file_content)"
   ]
  },
  {
   "cell_type": "markdown",
   "metadata": {},
   "source": [
    "# Filtrado de fondos"
   ]
  },
  {
   "cell_type": "code",
   "execution_count": 4,
   "metadata": {},
   "outputs": [],
   "source": [
    "n = 10\n",
    "filt_columns = data.columns.tolist()[:10]\n",
    "filt_names = {v:k for k,v in names_dict.items() if str(v) in filt_columns}\n",
    "data_filt = data[filt_columns]"
   ]
  },
  {
   "cell_type": "code",
   "execution_count": 5,
   "metadata": {},
   "outputs": [
    {
     "name": "stderr",
     "output_type": "stream",
     "text": [
      "/home/ec2-user/anaconda3/envs/python3/lib/python3.6/site-packages/pandas/core/frame.py:4153: SettingWithCopyWarning: \n",
      "A value is trying to be set on a copy of a slice from a DataFrame\n",
      "\n",
      "See the caveats in the documentation: https://pandas.pydata.org/pandas-docs/stable/user_guide/indexing.html#returning-a-view-versus-a-copy\n",
      "  downcast=downcast,\n"
     ]
    }
   ],
   "source": [
    "check_equal_df = False\n",
    "while not check_equal_df:\n",
    "    data_pre = data_filt.copy()\n",
    "    data_filt.fillna(method='ffill', inplace=True)\n",
    "    check_equal_df = data_filt.equals(data_pre)\n",
    "\n",
    "check_equal_df = False\n",
    "while not check_equal_df:\n",
    "    data_pre = data_filt.copy()\n",
    "    data_filt.fillna(method='bfill', inplace=True)\n",
    "    check_equal_df = data_filt.equals(data_pre)"
   ]
  },
  {
   "cell_type": "code",
   "execution_count": 6,
   "metadata": {},
   "outputs": [],
   "source": [
    "returns = np.log(data_filt).diff()"
   ]
  },
  {
   "cell_type": "code",
   "execution_count": 7,
   "metadata": {},
   "outputs": [],
   "source": [
    "ret_f1 = returns.shift(-1)"
   ]
  },
  {
   "cell_type": "code",
   "execution_count": 8,
   "metadata": {},
   "outputs": [],
   "source": [
    "ret_p1 = returns.shift(1)\n",
    "ret_p1.columns = [elem+'_1' for elem in returns.columns.tolist()]\n",
    "ret_p2 = returns.shift(2)\n",
    "ret_p2.columns = [elem+'_2' for elem in returns.columns.tolist()]\n",
    "ret_p3 = returns.shift(3)\n",
    "ret_p3.columns = [elem+'_3' for elem in returns.columns.tolist()]\n",
    "ret_p4 = returns.shift(4)\n",
    "ret_p4.columns = [elem+'_4' for elem in returns.columns.tolist()]\n",
    "ret_p5 = returns.shift(5)\n",
    "ret_p5.columns = [elem+'_5' for elem in returns.columns.tolist()]"
   ]
  },
  {
   "cell_type": "code",
   "execution_count": 9,
   "metadata": {},
   "outputs": [],
   "source": [
    "inputs = pd.concat([returns, ret_p1, ret_p2, ret_p3, ret_p4, ret_p5], axis=1).iloc[5+1:-1]\n",
    "target = ret_f1.iloc[5+1:-1]"
   ]
  },
  {
   "cell_type": "markdown",
   "metadata": {},
   "source": [
    "# División en train, test y split"
   ]
  },
  {
   "cell_type": "code",
   "execution_count": 10,
   "metadata": {},
   "outputs": [],
   "source": [
    "perc_train = 0.7\n",
    "perc_test = 0.2"
   ]
  },
  {
   "cell_type": "code",
   "execution_count": 11,
   "metadata": {},
   "outputs": [],
   "source": [
    "train_x, train_y = inputs.iloc[:int(len(inputs)*perc_train)] , target.iloc[:int(len(inputs)*perc_train)]\n",
    "test_x, test_y = inputs.iloc[int(len(inputs)*perc_train):int(len(inputs)*(perc_train+perc_test))] , target.iloc[int(len(inputs)*perc_train):int(len(inputs)*(perc_train+perc_test))]\n",
    "val_x, val_y = inputs.iloc[int(len(inputs)*(perc_train+perc_test)):] , target.iloc[int(len(inputs)*(perc_train+perc_test)):]"
   ]
  },
  {
   "cell_type": "markdown",
   "metadata": {},
   "source": [
    "# Persistimos los datos"
   ]
  },
  {
   "cell_type": "code",
   "execution_count": 12,
   "metadata": {},
   "outputs": [],
   "source": [
    "with open('fund_names.json', 'w') as fp:\n",
    "    json.dump(filt_names, fp)"
   ]
  },
  {
   "cell_type": "code",
   "execution_count": 13,
   "metadata": {},
   "outputs": [],
   "source": [
    "train_x.to_csv('train_x.csv', index=False)\n",
    "train_y.to_csv('train_y.csv', index=False)\n",
    "test_x.to_csv('test_x.csv', index=False)\n",
    "test_y.to_csv('test_y.csv', index=False)"
   ]
  },
  {
   "cell_type": "code",
   "execution_count": 14,
   "metadata": {},
   "outputs": [],
   "source": [
    "names = sess.upload_data(\n",
    "    path='fund_names.json', bucket=bucket,\n",
    "    key_prefix='sagemaker/sklearncontainer')\n",
    "\n",
    "train_x_path = sess.upload_data(\n",
    "    path='train_x.csv', bucket=bucket,\n",
    "    key_prefix='sagemaker/sklearncontainer')\n",
    "\n",
    "train_y_path = sess.upload_data(\n",
    "    path='train_y.csv', bucket=bucket,\n",
    "    key_prefix='sagemaker/sklearncontainer')\n",
    "\n",
    "test_x_path = sess.upload_data(\n",
    "    path='test_x.csv', bucket=bucket,\n",
    "    key_prefix='sagemaker/sklearncontainer')\n",
    "\n",
    "test_y_path = sess.upload_data(\n",
    "    path='test_y.csv', bucket=bucket,\n",
    "    key_prefix='sagemaker/sklearncontainer')"
   ]
  },
  {
   "cell_type": "markdown",
   "metadata": {},
   "source": [
    "# Generamos script"
   ]
  },
  {
   "cell_type": "code",
   "execution_count": 15,
   "metadata": {},
   "outputs": [
    {
     "name": "stdout",
     "output_type": "stream",
     "text": [
      "Overwriting script.py\n"
     ]
    }
   ],
   "source": [
    "%%writefile script.py\n",
    "\n",
    "import argparse\n",
    "import joblib\n",
    "import json\n",
    "import os\n",
    "import pprint\n",
    "\n",
    "import boto3\n",
    "import numpy as np\n",
    "import pandas as pd\n",
    "from sklearn.ensemble import RandomForestRegressor\n",
    "from sklearn.metrics import r2_score\n",
    "\n",
    "import subprocess\n",
    "import sys\n",
    "\n",
    "\n",
    "\n",
    "# inference functions ---------------\n",
    "def model_fn(model_dir):\n",
    "    clf = joblib.load(os.path.join(model_dir, \"model.joblib\"))\n",
    "    return clf\n",
    "\n",
    "\n",
    "\n",
    "if __name__ =='__main__':\n",
    "    \n",
    "    subprocess.check_call([sys.executable, \"-m\", \"pip\", \"install\", \"s3fs\"])\n",
    "    subprocess.check_call([sys.executable, \"-m\", \"pip\", \"install\", \"fsspec\"])\n",
    "    \n",
    "\n",
    "    print('extracting arguments')\n",
    "    parser = argparse.ArgumentParser()\n",
    "\n",
    "    # hyperparameters sent by the client are passed as command-line arguments to the script.\n",
    "    # to simplify the demo we don't use all sklearn RandomForest hyperparameters\n",
    "    parser.add_argument('--n-estimators', type=int, default=10)\n",
    "\n",
    "    # Data, model, and output directories\n",
    "    parser.add_argument('--model-dir', type=str, default=os.environ.get('SM_MODEL_DIR'))\n",
    "    parser.add_argument('--train', type=str, default=os.environ.get('SM_CHANNEL_TRAIN'))\n",
    "    parser.add_argument('--test', type=str, default=os.environ.get('SM_CHANNEL_TEST'))\n",
    "    parser.add_argument('--x_train_file', type=str, default='train_x.csv')\n",
    "    parser.add_argument('--y_train_file', type=str, default='train_y.csv')\n",
    "    parser.add_argument('--x_test_file', type=str, default='test_x.csv')\n",
    "    parser.add_argument('--y_test_file', type=str, default='test_y.csv')\n",
    "    parser.add_argument('--names_file', type=str, default='fund_names.json')\n",
    "\n",
    "    args, _ = parser.parse_known_args()\n",
    "\n",
    "\n",
    "    if args.train == 'unused':\n",
    "        print('reading data')\n",
    "        x_train = pd.read_csv(args.x_train_file).values\n",
    "        y_train = pd.read_csv(args.y_train_file).values\n",
    "        x_test = pd.read_csv(args.x_test_file).values\n",
    "        y_test_df = pd.read_csv(args.y_test_file)\n",
    "        y_test = y_test_df.values\n",
    "        columns = y_test_df.columns.tolist()\n",
    "        \n",
    "        print('reading fund names')\n",
    "        s3 = boto3.resource('s3')\n",
    "        a = args.names_file\n",
    "        bucket = a.split('//')[1].split('/')[0]\n",
    "        file = a.split(bucket)[1][1:]\n",
    "        content_object = s3.Object(bucket, file)\n",
    "        file_content = content_object.get()['Body'].read().decode('utf-8')\n",
    "        names_dict = json.loads(file_content)\n",
    "        \n",
    "    else:\n",
    "        print('reading data')\n",
    "        x_train = pd.read_csv(os.path.join(args.train, args.x_train_file)).values\n",
    "        y_train = pd.read_csv(os.path.join(args.train, args.y_train_file)).values\n",
    "        x_test = pd.read_csv(os.path.join(args.test, args.x_test_file)).values\n",
    "        y_test_df = pd.read_csv(os.path.join(args.test, args.y_test_file))\n",
    "        y_test = y_test_df.values\n",
    "        columns = y_test_df.columns.tolist()\n",
    "\n",
    "        print('reading fund names')\n",
    "        json_file = open(os.path.join(args.train, args.names_file))\n",
    "        json_str = json_file.read()\n",
    "        names_dict = json.loads(json_str)\n",
    "\n",
    "\n",
    "    print('training model')\n",
    "    model = RandomForestRegressor(\n",
    "        n_estimators=args.n_estimators)\n",
    "    \n",
    "    model.fit(x_train, y_train)\n",
    "\n",
    "    # print abs error\n",
    "    print('validating model')\n",
    "    pred = model.predict(x_test)\n",
    "    results_dict = {}\n",
    "    for index, elem in enumerate(columns):\n",
    "        score = r2_score(y_test[:,index], pred[:,index])\n",
    "        results_dict[names_dict[elem]] = score\n",
    "\n",
    "    pprint.pprint(results_dict)\n",
    "\n",
    "    # persist model\n",
    "    path = os.path.join(args.model_dir, \"model.joblib\")\n",
    "    joblib.dump(model, path)\n",
    "    print('model persisted at ' + path)"
   ]
  },
  {
   "cell_type": "markdown",
   "metadata": {},
   "source": [
    "# Test local"
   ]
  },
  {
   "cell_type": "code",
   "execution_count": 16,
   "metadata": {},
   "outputs": [
    {
     "name": "stdout",
     "output_type": "stream",
     "text": [
      "Requirement already satisfied: s3fs in /home/ec2-user/anaconda3/envs/python3/lib/python3.6/site-packages (0.4.2)\n",
      "Requirement already satisfied: botocore>=1.12.91 in /home/ec2-user/anaconda3/envs/python3/lib/python3.6/site-packages (from s3fs) (1.18.16)\n",
      "Requirement already satisfied: fsspec>=0.6.0 in /home/ec2-user/anaconda3/envs/python3/lib/python3.6/site-packages (from s3fs) (0.6.2)\n",
      "Requirement already satisfied: urllib3<1.26,>=1.20; python_version != \"3.4\" in /home/ec2-user/anaconda3/envs/python3/lib/python3.6/site-packages (from botocore>=1.12.91->s3fs) (1.25.10)\n",
      "Requirement already satisfied: jmespath<1.0.0,>=0.7.1 in /home/ec2-user/anaconda3/envs/python3/lib/python3.6/site-packages (from botocore>=1.12.91->s3fs) (0.10.0)\n",
      "Requirement already satisfied: python-dateutil<3.0.0,>=2.1 in /home/ec2-user/anaconda3/envs/python3/lib/python3.6/site-packages (from botocore>=1.12.91->s3fs) (2.8.1)\n",
      "Requirement already satisfied: six>=1.5 in /home/ec2-user/anaconda3/envs/python3/lib/python3.6/site-packages (from python-dateutil<3.0.0,>=2.1->botocore>=1.12.91->s3fs) (1.14.0)\n",
      "\u001b[33mWARNING: You are using pip version 20.0.2; however, version 20.2.4 is available.\n",
      "You should consider upgrading via the '/home/ec2-user/anaconda3/envs/python3/bin/python -m pip install --upgrade pip' command.\u001b[0m\n",
      "Requirement already satisfied: fsspec in /home/ec2-user/anaconda3/envs/python3/lib/python3.6/site-packages (0.6.2)\n",
      "\u001b[33mWARNING: You are using pip version 20.0.2; however, version 20.2.4 is available.\n",
      "You should consider upgrading via the '/home/ec2-user/anaconda3/envs/python3/bin/python -m pip install --upgrade pip' command.\u001b[0m\n",
      "extracting arguments\n",
      "reading data\n",
      "reading fund names\n",
      "training model\n",
      "validating model\n",
      "{'\"FRANKLIN BIOTECHNOLOGY DISCOVERY \"\"I\"\"\"': -0.06535253419185749,\n",
      " '\"FRANKLIN EURO HIGH YIELD \"\"I\"\" (EUR) ACC\"': 0.0637345283567381,\n",
      " '\"FRANKLIN EURO HIGH YIELD \"\"I\"\" (EUR) INC\"': -0.1003302335526628,\n",
      " '\"FRANKLIN EUROPEAN GROWTH \"\"I\"\"\"': -0.00852899336990709,\n",
      " '\"FRANKLIN GLOBAL REAL ESTATE \"\"I\"\" ACC\"': -0.046054955864316405,\n",
      " '\"FRANKLIN INCOME \"\"I\"\"\"': -0.01096552349631752,\n",
      " '\"FRANKLIN INDIA \"\"I\"\" (USD)\"': -0.0241379230462877,\n",
      " '\"JAN HEN GLOBAL EQUITY \"\"R\"\" (GBP) ACC\"': -0.050897620215208494,\n",
      " '\"JAN HEN GLOBAL EQUITY \"\"R\"\" (USD) ACC\"': -0.03196791038012048,\n",
      " '\"JAN HEN UK ABSOLUTE RETURN \"\"R\"\" (GBP) ACC\"': -0.02048511964615174}\n",
      "model persisted at ./model.joblib\n"
     ]
    }
   ],
   "source": [
    "! python script.py --n-estimators 100 \\\n",
    "                   --model-dir ./ \\\n",
    "                   --train ./ \\\n",
    "                   --test ./ \\"
   ]
  },
  {
   "cell_type": "markdown",
   "metadata": {},
   "source": [
    "# Entranamos en Sagemaker"
   ]
  },
  {
   "cell_type": "code",
   "execution_count": 17,
   "metadata": {},
   "outputs": [],
   "source": [
    "from sagemaker.sklearn.estimator import SKLearn\n",
    "\n",
    "FRAMEWORK_VERSION = '0.23-1'\n",
    "\n",
    "sklearn_estimator = SKLearn(\n",
    "    entry_point='script.py',\n",
    "    role = get_execution_role(),\n",
    "    train_instance_count=1,\n",
    "    train_instance_type='ml.m5.large',\n",
    "    framework_version=FRAMEWORK_VERSION,\n",
    "    base_job_name='rf-scikit',\n",
    "    hyperparameters = {'n-estimators': 100,\n",
    "                       'train':'unused',\n",
    "                       'test':'unused',\n",
    "                       'x_train_file': train_x_path,\n",
    "                       'y_train_file': train_y_path,\n",
    "                       'x_test_file': test_x_path,\n",
    "                       'y_test_file': test_y_path,\n",
    "                       'names_file': names})"
   ]
  },
  {
   "cell_type": "code",
   "execution_count": 18,
   "metadata": {},
   "outputs": [],
   "source": [
    "sklearn_estimator.fit( wait=False)"
   ]
  },
  {
   "cell_type": "markdown",
   "metadata": {},
   "source": [
    "# Desplegar un endpoint"
   ]
  },
  {
   "cell_type": "code",
   "execution_count": 19,
   "metadata": {},
   "outputs": [
    {
     "name": "stdout",
     "output_type": "stream",
     "text": [
      "2020-10-29 21:32:00 Starting - Starting the training job...\n",
      "2020-10-29 21:32:02 Starting - Launching requested ML instances......\n",
      "2020-10-29 21:33:04 Starting - Preparing the instances for training......\n",
      "2020-10-29 21:34:28 Downloading - Downloading input data\n",
      "2020-10-29 21:34:28 Training - Downloading the training image....\u001b[34m2020-10-29 21:35:06,250 sagemaker-training-toolkit INFO     Imported framework sagemaker_sklearn_container.training\u001b[0m\n",
      "\u001b[34m2020-10-29 21:35:06,252 sagemaker-training-toolkit INFO     No GPUs detected (normal if no gpus installed)\u001b[0m\n",
      "\u001b[34m2020-10-29 21:35:06,261 sagemaker_sklearn_container.training INFO     Invoking user training script.\u001b[0m\n",
      "\u001b[34m2020-10-29 21:35:06,609 sagemaker-training-toolkit INFO     No GPUs detected (normal if no gpus installed)\u001b[0m\n",
      "\u001b[34m2020-10-29 21:35:12,862 sagemaker-training-toolkit INFO     No GPUs detected (normal if no gpus installed)\u001b[0m\n",
      "\u001b[34m2020-10-29 21:35:12,873 sagemaker-training-toolkit INFO     No GPUs detected (normal if no gpus installed)\u001b[0m\n",
      "\u001b[34m2020-10-29 21:35:12,882 sagemaker-training-toolkit INFO     Invoking user script\n",
      "\u001b[0m\n",
      "\u001b[34mTraining Env:\n",
      "\u001b[0m\n",
      "\u001b[34m{\n",
      "    \"additional_framework_parameters\": {},\n",
      "    \"channel_input_dirs\": {},\n",
      "    \"current_host\": \"algo-1\",\n",
      "    \"framework_module\": \"sagemaker_sklearn_container.training:main\",\n",
      "    \"hosts\": [\n",
      "        \"algo-1\"\n",
      "    ],\n",
      "    \"hyperparameters\": {\n",
      "        \"test\": \"unused\",\n",
      "        \"names_file\": \"s3://sagemaker-us-east-2-561323288832/sagemaker/sklearncontainer/fund_names.json\",\n",
      "        \"y_train_file\": \"s3://sagemaker-us-east-2-561323288832/sagemaker/sklearncontainer/train_y.csv\",\n",
      "        \"x_test_file\": \"s3://sagemaker-us-east-2-561323288832/sagemaker/sklearncontainer/test_x.csv\",\n",
      "        \"n-estimators\": 100,\n",
      "        \"y_test_file\": \"s3://sagemaker-us-east-2-561323288832/sagemaker/sklearncontainer/test_y.csv\",\n",
      "        \"x_train_file\": \"s3://sagemaker-us-east-2-561323288832/sagemaker/sklearncontainer/train_x.csv\",\n",
      "        \"train\": \"unused\"\n",
      "    },\n",
      "    \"input_config_dir\": \"/opt/ml/input/config\",\n",
      "    \"input_data_config\": {},\n",
      "    \"input_dir\": \"/opt/ml/input\",\n",
      "    \"is_master\": true,\n",
      "    \"job_name\": \"rf-scikit-2020-10-29-21-32-00-495\",\n",
      "    \"log_level\": 20,\n",
      "    \"master_hostname\": \"algo-1\",\n",
      "    \"model_dir\": \"/opt/ml/model\",\n",
      "    \"module_dir\": \"s3://sagemaker-us-east-2-561323288832/rf-scikit-2020-10-29-21-32-00-495/source/sourcedir.tar.gz\",\n",
      "    \"module_name\": \"script\",\n",
      "    \"network_interface_name\": \"eth0\",\n",
      "    \"num_cpus\": 2,\n",
      "    \"num_gpus\": 0,\n",
      "    \"output_data_dir\": \"/opt/ml/output/data\",\n",
      "    \"output_dir\": \"/opt/ml/output\",\n",
      "    \"output_intermediate_dir\": \"/opt/ml/output/intermediate\",\n",
      "    \"resource_config\": {\n",
      "        \"current_host\": \"algo-1\",\n",
      "        \"hosts\": [\n",
      "            \"algo-1\"\n",
      "        ],\n",
      "        \"network_interface_name\": \"eth0\"\n",
      "    },\n",
      "    \"user_entry_point\": \"script.py\"\u001b[0m\n",
      "\u001b[34m}\n",
      "\u001b[0m\n",
      "\u001b[34mEnvironment variables:\n",
      "\u001b[0m\n",
      "\u001b[34mSM_HOSTS=[\"algo-1\"]\u001b[0m\n",
      "\u001b[34mSM_NETWORK_INTERFACE_NAME=eth0\u001b[0m\n",
      "\u001b[34mSM_HPS={\"n-estimators\":100,\"names_file\":\"s3://sagemaker-us-east-2-561323288832/sagemaker/sklearncontainer/fund_names.json\",\"test\":\"unused\",\"train\":\"unused\",\"x_test_file\":\"s3://sagemaker-us-east-2-561323288832/sagemaker/sklearncontainer/test_x.csv\",\"x_train_file\":\"s3://sagemaker-us-east-2-561323288832/sagemaker/sklearncontainer/train_x.csv\",\"y_test_file\":\"s3://sagemaker-us-east-2-561323288832/sagemaker/sklearncontainer/test_y.csv\",\"y_train_file\":\"s3://sagemaker-us-east-2-561323288832/sagemaker/sklearncontainer/train_y.csv\"}\u001b[0m\n",
      "\u001b[34mSM_USER_ENTRY_POINT=script.py\u001b[0m\n",
      "\u001b[34mSM_FRAMEWORK_PARAMS={}\u001b[0m\n",
      "\u001b[34mSM_RESOURCE_CONFIG={\"current_host\":\"algo-1\",\"hosts\":[\"algo-1\"],\"network_interface_name\":\"eth0\"}\u001b[0m\n",
      "\u001b[34mSM_INPUT_DATA_CONFIG={}\u001b[0m\n",
      "\u001b[34mSM_OUTPUT_DATA_DIR=/opt/ml/output/data\u001b[0m\n",
      "\u001b[34mSM_CHANNELS=[]\u001b[0m\n",
      "\u001b[34mSM_CURRENT_HOST=algo-1\u001b[0m\n",
      "\u001b[34mSM_MODULE_NAME=script\u001b[0m\n",
      "\u001b[34mSM_LOG_LEVEL=20\u001b[0m\n",
      "\u001b[34mSM_FRAMEWORK_MODULE=sagemaker_sklearn_container.training:main\u001b[0m\n",
      "\u001b[34mSM_INPUT_DIR=/opt/ml/input\u001b[0m\n",
      "\u001b[34mSM_INPUT_CONFIG_DIR=/opt/ml/input/config\u001b[0m\n",
      "\u001b[34mSM_OUTPUT_DIR=/opt/ml/output\u001b[0m\n",
      "\u001b[34mSM_NUM_CPUS=2\u001b[0m\n",
      "\u001b[34mSM_NUM_GPUS=0\u001b[0m\n",
      "\u001b[34mSM_MODEL_DIR=/opt/ml/model\u001b[0m\n",
      "\u001b[34mSM_MODULE_DIR=s3://sagemaker-us-east-2-561323288832/rf-scikit-2020-10-29-21-32-00-495/source/sourcedir.tar.gz\u001b[0m\n",
      "\u001b[34mSM_TRAINING_ENV={\"additional_framework_parameters\":{},\"channel_input_dirs\":{},\"current_host\":\"algo-1\",\"framework_module\":\"sagemaker_sklearn_container.training:main\",\"hosts\":[\"algo-1\"],\"hyperparameters\":{\"n-estimators\":100,\"names_file\":\"s3://sagemaker-us-east-2-561323288832/sagemaker/sklearncontainer/fund_names.json\",\"test\":\"unused\",\"train\":\"unused\",\"x_test_file\":\"s3://sagemaker-us-east-2-561323288832/sagemaker/sklearncontainer/test_x.csv\",\"x_train_file\":\"s3://sagemaker-us-east-2-561323288832/sagemaker/sklearncontainer/train_x.csv\",\"y_test_file\":\"s3://sagemaker-us-east-2-561323288832/sagemaker/sklearncontainer/test_y.csv\",\"y_train_file\":\"s3://sagemaker-us-east-2-561323288832/sagemaker/sklearncontainer/train_y.csv\"},\"input_config_dir\":\"/opt/ml/input/config\",\"input_data_config\":{},\"input_dir\":\"/opt/ml/input\",\"is_master\":true,\"job_name\":\"rf-scikit-2020-10-29-21-32-00-495\",\"log_level\":20,\"master_hostname\":\"algo-1\",\"model_dir\":\"/opt/ml/model\",\"module_dir\":\"s3://sagemaker-us-east-2-561323288832/rf-scikit-2020-10-29-21-32-00-495/source/sourcedir.tar.gz\",\"module_name\":\"script\",\"network_interface_name\":\"eth0\",\"num_cpus\":2,\"num_gpus\":0,\"output_data_dir\":\"/opt/ml/output/data\",\"output_dir\":\"/opt/ml/output\",\"output_intermediate_dir\":\"/opt/ml/output/intermediate\",\"resource_config\":{\"current_host\":\"algo-1\",\"hosts\":[\"algo-1\"],\"network_interface_name\":\"eth0\"},\"user_entry_point\":\"script.py\"}\u001b[0m\n",
      "\u001b[34mSM_USER_ARGS=[\"--n-estimators\",\"100\",\"--names_file\",\"s3://sagemaker-us-east-2-561323288832/sagemaker/sklearncontainer/fund_names.json\",\"--test\",\"unused\",\"--train\",\"unused\",\"--x_test_file\",\"s3://sagemaker-us-east-2-561323288832/sagemaker/sklearncontainer/test_x.csv\",\"--x_train_file\",\"s3://sagemaker-us-east-2-561323288832/sagemaker/sklearncontainer/train_x.csv\",\"--y_test_file\",\"s3://sagemaker-us-east-2-561323288832/sagemaker/sklearncontainer/test_y.csv\",\"--y_train_file\",\"s3://sagemaker-us-east-2-561323288832/sagemaker/sklearncontainer/train_y.csv\"]\u001b[0m\n",
      "\u001b[34mSM_OUTPUT_INTERMEDIATE_DIR=/opt/ml/output/intermediate\u001b[0m\n",
      "\u001b[34mSM_HP_TEST=unused\u001b[0m\n",
      "\u001b[34mSM_HP_NAMES_FILE=s3://sagemaker-us-east-2-561323288832/sagemaker/sklearncontainer/fund_names.json\u001b[0m\n",
      "\u001b[34mSM_HP_Y_TRAIN_FILE=s3://sagemaker-us-east-2-561323288832/sagemaker/sklearncontainer/train_y.csv\u001b[0m\n",
      "\u001b[34mSM_HP_X_TEST_FILE=s3://sagemaker-us-east-2-561323288832/sagemaker/sklearncontainer/test_x.csv\u001b[0m\n",
      "\u001b[34mSM_HP_N-ESTIMATORS=100\u001b[0m\n",
      "\u001b[34mSM_HP_Y_TEST_FILE=s3://sagemaker-us-east-2-561323288832/sagemaker/sklearncontainer/test_y.csv\u001b[0m\n",
      "\u001b[34mSM_HP_X_TRAIN_FILE=s3://sagemaker-us-east-2-561323288832/sagemaker/sklearncontainer/train_x.csv\u001b[0m\n",
      "\u001b[34mSM_HP_TRAIN=unused\u001b[0m\n",
      "\u001b[34mPYTHONPATH=/opt/ml/code:/miniconda3/bin:/miniconda3/lib/python37.zip:/miniconda3/lib/python3.7:/miniconda3/lib/python3.7/lib-dynload:/miniconda3/lib/python3.7/site-packages\n",
      "\u001b[0m\n",
      "\u001b[34mInvoking script with the following command:\n",
      "\u001b[0m\n",
      "\u001b[34m/miniconda3/bin/python script.py --n-estimators 100 --names_file s3://sagemaker-us-east-2-561323288832/sagemaker/sklearncontainer/fund_names.json --test unused --train unused --x_test_file s3://sagemaker-us-east-2-561323288832/sagemaker/sklearncontainer/test_x.csv --x_train_file s3://sagemaker-us-east-2-561323288832/sagemaker/sklearncontainer/train_x.csv --y_test_file s3://sagemaker-us-east-2-561323288832/sagemaker/sklearncontainer/test_y.csv --y_train_file s3://sagemaker-us-east-2-561323288832/sagemaker/sklearncontainer/train_y.csv\n",
      "\n",
      "\u001b[0m\n",
      "\u001b[34mCollecting s3fs\n",
      "  Downloading s3fs-0.5.1-py3-none-any.whl (21 kB)\u001b[0m\n",
      "\u001b[34mCollecting aiobotocore>=1.0.1\n",
      "  Downloading aiobotocore-1.1.2-py3-none-any.whl (45 kB)\u001b[0m\n",
      "\u001b[34mCollecting fsspec>=0.8.0\n",
      "  Downloading fsspec-0.8.4-py3-none-any.whl (91 kB)\u001b[0m\n",
      "\u001b[34mCollecting aiohttp>=3.3.1\n",
      "  Downloading aiohttp-3.7.2-cp37-cp37m-manylinux2014_x86_64.whl (1.3 MB)\u001b[0m\n",
      "\u001b[34mCollecting wrapt>=1.10.10\n",
      "  Downloading wrapt-1.12.1.tar.gz (27 kB)\u001b[0m\n",
      "\u001b[34mCollecting aioitertools>=0.5.1\n",
      "  Downloading aioitertools-0.7.0-py3-none-any.whl (20 kB)\u001b[0m\n",
      "\u001b[34mCollecting botocore<1.17.45,>=1.17.44\n",
      "  Downloading botocore-1.17.44-py2.py3-none-any.whl (6.5 MB)\u001b[0m\n",
      "\u001b[34mCollecting yarl<2.0,>=1.0\n",
      "  Downloading yarl-1.6.2-cp37-cp37m-manylinux2014_x86_64.whl (295 kB)\u001b[0m\n",
      "\u001b[34mCollecting typing-extensions>=3.6.5\n",
      "  Downloading typing_extensions-3.7.4.3-py3-none-any.whl (22 kB)\u001b[0m\n",
      "\u001b[34mCollecting attrs>=17.3.0\n",
      "  Downloading attrs-20.2.0-py2.py3-none-any.whl (48 kB)\u001b[0m\n",
      "\u001b[34mRequirement already satisfied: chardet<4.0,>=2.0 in /miniconda3/lib/python3.7/site-packages (from aiohttp>=3.3.1->aiobotocore>=1.0.1->s3fs) (3.0.4)\u001b[0m\n",
      "\n",
      "2020-10-29 21:35:06 Training - Training image download completed. Training in progress.\u001b[34mCollecting multidict<7.0,>=4.5\n",
      "  Downloading multidict-5.0.0-cp37-cp37m-manylinux2014_x86_64.whl (142 kB)\u001b[0m\n",
      "\u001b[34mCollecting async-timeout<4.0,>=3.0\n",
      "  Downloading async_timeout-3.0.1-py3-none-any.whl (8.2 kB)\u001b[0m\n",
      "\u001b[34mRequirement already satisfied: urllib3<1.26,>=1.20; python_version != \"3.4\" in /miniconda3/lib/python3.7/site-packages (from botocore<1.17.45,>=1.17.44->aiobotocore>=1.0.1->s3fs) (1.25.10)\u001b[0m\n",
      "\u001b[34mCollecting docutils<0.16,>=0.10\n",
      "  Downloading docutils-0.15.2-py3-none-any.whl (547 kB)\u001b[0m\n",
      "\u001b[34mRequirement already satisfied: jmespath<1.0.0,>=0.7.1 in /miniconda3/lib/python3.7/site-packages (from botocore<1.17.45,>=1.17.44->aiobotocore>=1.0.1->s3fs) (0.10.0)\u001b[0m\n",
      "\u001b[34mRequirement already satisfied: python-dateutil<3.0.0,>=2.1 in /miniconda3/lib/python3.7/site-packages (from botocore<1.17.45,>=1.17.44->aiobotocore>=1.0.1->s3fs) (2.8.1)\u001b[0m\n",
      "\u001b[34mRequirement already satisfied: idna>=2.0 in /miniconda3/lib/python3.7/site-packages (from yarl<2.0,>=1.0->aiohttp>=3.3.1->aiobotocore>=1.0.1->s3fs) (2.10)\u001b[0m\n",
      "\u001b[34mRequirement already satisfied: six>=1.5 in /miniconda3/lib/python3.7/site-packages (from python-dateutil<3.0.0,>=2.1->botocore<1.17.45,>=1.17.44->aiobotocore>=1.0.1->s3fs) (1.15.0)\u001b[0m\n",
      "\u001b[34mBuilding wheels for collected packages: wrapt\n",
      "  Building wheel for wrapt (setup.py): started\u001b[0m\n",
      "\u001b[34m  Building wheel for wrapt (setup.py): finished with status 'done'\n",
      "  Created wheel for wrapt: filename=wrapt-1.12.1-cp37-cp37m-linux_x86_64.whl size=66369 sha256=8b82a4cae7256500a28e1f8ecd46a408c14965ba0e62c1270e5aa692941295ab\n",
      "  Stored in directory: /root/.cache/pip/wheels/62/76/4c/aa25851149f3f6d9785f6c869387ad82b3fd37582fa8147ac6\u001b[0m\n",
      "\u001b[34mSuccessfully built wrapt\u001b[0m\n",
      "\u001b[34mInstalling collected packages: typing-extensions, multidict, yarl, attrs, async-timeout, aiohttp, wrapt, aioitertools, docutils, botocore, aiobotocore, fsspec, s3fs\u001b[0m\n",
      "\u001b[34m  Attempting uninstall: botocore\n",
      "    Found existing installation: botocore 1.18.9\n",
      "    Uninstalling botocore-1.18.9:\n",
      "      Successfully uninstalled botocore-1.18.9\u001b[0m\n",
      "\u001b[34mERROR: After October 2020 you may experience errors when installing or updating packages. This is because pip will change the way that it resolves dependency conflicts.\n",
      "\u001b[0m\n",
      "\u001b[34mWe recommend you use --use-feature=2020-resolver to test your packages with the new resolver before it becomes the default.\n",
      "\u001b[0m\n",
      "\u001b[34mboto3 1.15.9 requires botocore<1.19.0,>=1.18.9, but you'll have botocore 1.17.44 which is incompatible.\u001b[0m\n",
      "\u001b[34mSuccessfully installed aiobotocore-1.1.2 aiohttp-3.7.2 aioitertools-0.7.0 async-timeout-3.0.1 attrs-20.2.0 botocore-1.17.44 docutils-0.15.2 fsspec-0.8.4 multidict-5.0.0 s3fs-0.5.1 typing-extensions-3.7.4.3 wrapt-1.12.1 yarl-1.6.2\u001b[0m\n",
      "\u001b[34mRequirement already satisfied: fsspec in /miniconda3/lib/python3.7/site-packages (0.8.4)\u001b[0m\n",
      "\u001b[34mextracting arguments\u001b[0m\n",
      "\u001b[34mreading data\u001b[0m\n",
      "\u001b[34mreading fund names\u001b[0m\n",
      "\u001b[34mtraining model\u001b[0m\n",
      "\u001b[34mvalidating model\u001b[0m\n",
      "\u001b[34m{'\"FRANKLIN BIOTECHNOLOGY DISCOVERY \"\"I\"\"\"': -0.0608303920957638,\n",
      " '\"FRANKLIN EURO HIGH YIELD \"\"I\"\" (EUR) ACC\"': 0.0688533587941983,\n",
      " '\"FRANKLIN EURO HIGH YIELD \"\"I\"\" (EUR) INC\"': -0.07336841823148021,\n",
      " '\"FRANKLIN EUROPEAN GROWTH \"\"I\"\"\"': 0.0055633928505022245,\n",
      " '\"FRANKLIN GLOBAL REAL ESTATE \"\"I\"\" ACC\"': -0.04834779736266315,\n",
      " '\"FRANKLIN INCOME \"\"I\"\"\"': -0.032503897216705546,\n",
      " '\"FRANKLIN INDIA \"\"I\"\" (USD)\"': -0.04740776560844262,\n",
      " '\"JAN HEN GLOBAL EQUITY \"\"R\"\" (GBP) ACC\"': -0.04887943096785485,\n",
      " '\"JAN HEN GLOBAL EQUITY \"\"R\"\" (USD) ACC\"': -0.034219352830596295,\n",
      " '\"JAN HEN UK ABSOLUTE RETURN \"\"R\"\" (GBP) ACC\"': 0.010791440026121646}\u001b[0m\n",
      "\u001b[34mmodel persisted at /opt/ml/model/model.joblib\u001b[0m\n",
      "\u001b[34m2020-10-29 21:35:40,514 sagemaker-training-toolkit INFO     Reporting training SUCCESS\u001b[0m\n",
      "\n",
      "2020-10-29 21:35:54 Uploading - Uploading generated training model\n",
      "2020-10-29 21:35:54 Completed - Training job completed\n",
      "Training seconds: 110\n",
      "Billable seconds: 110\n",
      "Model artifact persisted at s3://sagemaker-us-east-2-561323288832/rf-scikit-2020-10-29-21-32-00-495/output/model.tar.gz\n"
     ]
    }
   ],
   "source": [
    "sklearn_estimator.latest_training_job.wait()\n",
    "artifact = sm_boto3.describe_training_job(\n",
    "    TrainingJobName=sklearn_estimator.latest_training_job.name)['ModelArtifacts']['S3ModelArtifacts']\n",
    "\n",
    "print('Model artifact persisted at ' + artifact)"
   ]
  },
  {
   "cell_type": "code",
   "execution_count": 20,
   "metadata": {},
   "outputs": [
    {
     "name": "stderr",
     "output_type": "stream",
     "text": [
      "Parameter image will be renamed to image_uri in SageMaker Python SDK v2.\n"
     ]
    }
   ],
   "source": [
    "from sagemaker.sklearn.model import SKLearnModel\n",
    "\n",
    "model = SKLearnModel(\n",
    "    model_data=artifact,\n",
    "    role=get_execution_role(),\n",
    "    entry_point='script.py',\n",
    "    framework_version=FRAMEWORK_VERSION)"
   ]
  },
  {
   "cell_type": "code",
   "execution_count": 21,
   "metadata": {},
   "outputs": [
    {
     "name": "stdout",
     "output_type": "stream",
     "text": [
      "-------------------!"
     ]
    }
   ],
   "source": [
    "predictor = model.deploy(\n",
    "    instance_type='ml.t2.medium',\n",
    "    initial_instance_count=1)"
   ]
  },
  {
   "cell_type": "markdown",
   "metadata": {},
   "source": [
    "# Predicciones"
   ]
  },
  {
   "cell_type": "code",
   "execution_count": 151,
   "metadata": {},
   "outputs": [],
   "source": [
    "runtime = boto3.client('sagemaker-runtime')"
   ]
  },
  {
   "cell_type": "code",
   "execution_count": 152,
   "metadata": {},
   "outputs": [],
   "source": [
    "response = runtime.invoke_endpoint(\n",
    "    EndpointName=predictor.endpoint,\n",
    "    Body=val_x.to_csv(header=False, index=False).encode('utf-8'),\n",
    "    ContentType='text/csv')"
   ]
  },
  {
   "cell_type": "code",
   "execution_count": 153,
   "metadata": {},
   "outputs": [
    {
     "data": {
      "text/plain": [
       "{'ResponseMetadata': {'RequestId': '5aed36bc-be87-4e1b-bba7-fabaeaa7c415',\n",
       "  'HTTPStatusCode': 200,\n",
       "  'HTTPHeaders': {'x-amzn-requestid': '5aed36bc-be87-4e1b-bba7-fabaeaa7c415',\n",
       "   'x-amzn-invoked-production-variant': 'AllTraffic',\n",
       "   'date': 'Thu, 29 Oct 2020 22:11:36 GMT',\n",
       "   'content-type': 'application/json',\n",
       "   'content-length': '65522'},\n",
       "  'RetryAttempts': 0},\n",
       " 'ContentType': 'application/json',\n",
       " 'InvokedProductionVariant': 'AllTraffic',\n",
       " 'Body': <botocore.response.StreamingBody at 0x7f776fe0c518>}"
      ]
     },
     "execution_count": 153,
     "metadata": {},
     "output_type": "execute_result"
    }
   ],
   "source": [
    "response"
   ]
  },
  {
   "cell_type": "code",
   "execution_count": 154,
   "metadata": {},
   "outputs": [
    {
     "data": {
      "text/plain": [
       "b'[[0.002057374240859191, 0.0017837609048560199, 0.00037226514160447867, 0.0032458769973521973, 0.0007855385439955942, 0.00086642939543913, 0.000698064864798984, 0.0006813820432752804, 0.0007828945417060452, 0.0022711882470623657], [-0.003005360865975282, -0.0013256295768748383, -0.00046601713234225575, -0.0029021996261501216, -0.001183400481327279, -0.0009291875848658959, 0.00018068508665450623, -0.0004015209820539979, -0.00023859416850426473, -0.0015042369859764504], [-0.002483394983098104, -0.0014434790509766215, -0.0006296634075213237, 1.6775700837992242e-05, -0.0019513146653101954, -0.0013257467963799963, -0.00036574210673335995, -0.00033752268904342576, -0.0005375662115935632, -0.002166926789591619], [0.0010120592183098488, 0.00023397347438177234, 3.1475785592520695e-05, -0.0005719440755806062, 0.0006462216919083375, -0.0002628688846090711, 0.0005619744908116831, 0.0005216647308737343, -7.407261637463421e-05, 0.0007875260113436733], [0.0014474441525640658, 2.752244592914894e-05, 2.6419488009116155e-05, 0.0016111163513557525, 0.0004876299547402452, 0.00033050904250574235, 0.0005771924471679491, 0.0005504315561951678, 0.00028890149779909447, 0.0018271241758959045], [-0.0003237830862411406, -0.0002642916328021096, 7.910744310940965e-05, -0.00018927642708791215, 0.0006445360251584109, 0.00036223067790232657, 0.0007419602536087133, 0.0006838187549826724, 0.0003366616873450079, 0.0009314279037821693], [-0.0015608301406448023, -0.0015102674140443795, 4.7151160734779636e-05, -0.0010659216674078697, 0.0003135553459796636, 0.00011147742816236748, 0.0003250432359984634, 0.00021479687411959602, -0.00013946738966870596, 0.001203678640799062], [0.0007016215924926184, 0.0012276938014554673, 0.0003347315480680946, 0.0020753158934805516, 0.00038296373268917436, 0.0018711891662909009, 0.0003841863494549136, 0.0003891984369071233, 0.00011876930818675032, -1.8831216973524898e-05], [-0.00021352259835373034, 0.0003951337641530017, 0.00016388615761023129, 0.0006445776344773481, -0.00042309034080163067, 0.0009805879627066449, 0.0004239852816725032, 0.0005143113564245994, 8.810615933535715e-05, 0.0014570192325214348], [0.0017620225355176955, 0.0021256886490732983, 0.0005015227807386702, 0.0011469483585901453, 0.000991647498009245, 0.0025645126487930537, 0.0007225770016491273, 0.0007391465179608137, 0.0011324011252596255, 0.0018888073563527819], [0.0013664819469255019, 0.0024156617416997684, 0.001024087989888397, 0.0073616123714657315, 0.0036969899704994004, 0.0021967580135291566, 0.00075571726759605, -0.012424949073661908, 0.0011990916640068194, 0.0041182119602696556], [0.0014002824112689515, 0.00114280482097191, 0.0006509235054894358, 0.0026152769951959696, 0.0013665683006222507, 0.000863431387468363, 0.0003489290505210985, 0.000523562284554826, 0.00038548938228355923, 0.0014657171374942335], [-0.0010768992277569401, -0.0022409155928422696, -0.0006879630995969576, -0.0015504781979816995, -0.0023160108232478604, -0.001123886088308188, -0.0004892322945019423, -0.000880473430644364, -0.0008154530891456746, -0.0048059369154983276], [0.0015754121083743145, 0.002122835621460697, 0.0009099530082818519, 0.004723408919387512, 0.002453742863291506, 0.0018669387973453877, 0.00031108014365250014, 0.00031489792552809705, 0.0012124093185502804, 0.002113863131002645], [0.0015412517146342463, 0.0005290048687242011, 0.0004505853947595162, 0.00036832053415986694, 8.019997784550973e-05, 0.0004330648725856201, 0.00028514368103031094, -0.0012839878099203705, 0.000213484704794209, 0.002186860593212607], [0.0005432600829818735, 0.0006304958114022096, 0.0005101131423503513, 0.0021897857531388266, 0.0009403229193397289, 0.000111494952018667, 0.00018197737642649425, 0.00010408096744145112, 0.00025459906570469927, 0.001239462401920015], [0.002205214393745909, 0.002923192001281252, 0.0006403826396143686, 0.0015662830176543974, 0.002950570623967659, 0.0033042768286918323, 0.0005458510469357503, 0.0005261839758394426, 0.0017719917121414763, 0.004722133595458784], [0.0005984632753931973, -0.0002349400407488033, -0.0001357207990727316, 0.001304014180737245, -0.0014075924583175326, -0.0007976095295896646, -0.0005664241226664534, -0.0005858480208606664, -0.00013678110877974437, -0.0015468235210650948], [-0.0017555204673143665, -0.003618287195015715, -0.0007245114555177645, -0.0028681560384872552, -0.0017964505815216204, -0.0019526668860947516, -0.0016467077407775576, -0.0016288357444936752, -0.0020449357790679203, -0.004366254800346403], [0.000911929908843766, -9.429456087523879e-05, 0.0009447633014515422, -0.0030743300861407535, 0.0012671321257646674, 5.493744066491937e-05, 0.00014133225716345344, -0.002255918653303599, -0.0009664529021780588, 0.0009597449072924079], [8.679844458796318e-05, -0.0009729526501043107, -0.00044561154096092845, 0.0017565332141313572, -0.0007932695075324859, -0.0011876513037317026, -0.00014411858172566738, -5.1068769156170646e-05, -0.0008034673002748161, -0.0016734918607684878], [-0.0025320198122541202, -0.002451457632845069, -0.0004704750779809319, -0.0019428583320166394, -0.001272209871921124, -0.001142040116231895, -0.0006624215060474059, -0.0007211445328461475, -0.0006259564242524629, -0.0016676079748960237], [-0.0011261753084453742, -0.0007499691704540034, -0.0004516799473345734, 0.000326894621498437, -0.001011591139922632, -0.000648687754210846, -0.0008283371422268093, -0.0012815364069697654, -0.00041799256558930684, -0.0008718000334658351], [0.0005138383468542251, 0.002080763705075601, 0.000783518546194204, -0.00038539175991158636, 0.002101268842018298, 0.002444660184708467, 0.0008405003373909281, -0.0005505802930569814, 0.0015698888418558532, 0.0009740618618259766], [0.0019084453770973786, 0.0019996105098349435, 0.0006936188668559473, -0.00047608749067765463, 0.0011826650947595362, 0.0005430944869200794, 0.0005898054777999206, 0.0005631086938689433, 0.0005029844541221351, 0.0040061251181415965], [0.0031748406029906318, 0.004608111238562538, 0.0014197993345355009, 0.003562628083670676, 0.005124135765251516, 0.004436250122193233, 0.0013346340946369484, 0.0012229939147745262, 0.002497103934268843, 0.004660232825430968], [-4.9785684622918326e-05, 6.0176152853730346e-05, 0.000428169205642841, 0.0011017066479041837, 0.00043009846594442623, 0.0010048937289303783, 0.0007036309010365783, 0.0003093454519476424, 0.0003681912550183375, 0.002065159034964461], [0.0014946156387062493, 0.002455190163225267, 0.0007655687361002883, 0.0020062065226411985, 0.0026749676396730358, 0.0024720335037271336, 0.0012328672333496193, -0.0006500482252640349, 0.0013730363717168448, 0.0021899313110169062], [0.0008706610473352973, 0.0004245137369540908, -3.9676350386334006e-05, -0.001366107779014949, -0.0005543028975798014, -0.0002959488631313878, 0.0003765959110630934, 0.000369735626821206, 0.0001147469561369974, 0.0014030825364573563], [0.0006993642398778443, -0.00032690334360094167, 0.0002482884674566199, -0.0006915292039929399, -0.0006324258155121632, 0.00044668981369020864, 0.00043440591566436205, 0.00041631826167281893, 0.00022000443676093443, 0.0008062336273630242], [-0.0015224863504365027, -0.0021940022024850214, -0.00016048571898881315, -0.003286752153762498, -0.00135671732303706, -0.0016398552563791236, 0.0002338512950084981, 0.00018584715690324492, -0.0002909150944688532, -5.8224005247833564e-05], [0.0004826253487808496, 0.0007290669691352725, 0.000297715912085732, 0.002240554879066532, 0.0010075309035912916, -0.000883865492237148, 0.0006656781947550039, 0.0006487731807831754, 0.00023506678402144488, 0.0015543988830724186], [-0.0013330858131292511, -0.0015208929023702343, -0.0005933202121474446, -0.0018300764877033381, -0.0010150278335395325, 0.0010798313786930924, 0.00022688778274892573, 0.00029445207371660677, 5.0613312539900005e-05, -0.001279447740090203], [0.001380867041038123, 0.0017355616770442994, 0.0004645545953072816, 0.0008800799630688915, 0.0010258228653061208, 0.0014652396895803311, 0.0007576994765548761, 0.0007522614619944879, 0.00043888174853143444, 0.0015551759123100738], [0.0009089248636810865, 0.0006135701551042505, 0.00022136251764790172, -0.0007104227342014679, 0.0004796646210003573, 0.0011358809912070966, 0.00035317982464863287, 0.00021496148311078044, 0.0003713962413825511, 0.0012638318561329952], [0.0009183314941460452, 0.0013544355763661798, 0.0006033011547370403, 0.0027896372715396555, 0.0013036895944386418, 0.000818808431756537, 0.00038558991871412207, 0.000389507261417581, 0.0003010933421987039, 0.001361799774161674], [0.0010152438013114739, 0.00011664047684618593, 0.0002971733148299327, -0.0010566381700563854, -0.000253389603491665, 0.0006794344928285634, 0.0004762483838632914, 0.00044512934273817974, 0.00014369913661286483, 0.0011463426303147805], [0.0004029666981849256, -0.00023166887712723798, 0.00042853978643195956, -0.0004587850197442565, 0.0009714018611204667, -9.75028569035152e-05, 0.0004132740519043354, 0.0005031757391511649, -0.00020395975489508002, 0.0021707709551571286], [-0.0008214162453942929, -0.0005850268544944482, 8.24149818303166e-05, 0.0009972624642276306, 6.300285502108147e-05, -0.00039716904064104994, 0.00013066382715460012, 7.188186618714009e-05, -0.0002072493193209146, 0.001633066676624133], [0.0001990333586094239, -0.00029566261205794754, 0.00027634735830444734, 1.8489015549296614e-05, 0.0012260705994036546, -0.001081042198990194, 0.00016831982176182428, 0.0001955913979774282, -1.1723955859514954e-05, -0.0006953756743467209], [0.0006886048251942456, 0.0007698788525256806, 0.00011307416518791525, -0.0002551405639591529, 0.00045734866988325076, 0.0004968965892057087, 0.0003917170149429206, 0.00045866503536358573, -0.00023254450145925528, 0.002792036627130927], [0.0013225924393984866, 0.0008478626524686428, 0.00020245885636337667, 0.0013312892604578064, 0.00041924754248813924, 0.0001411312302165313, 0.0006327095158328433, -0.0003203001199439459, 0.0006134685476189272, 0.0007235680129757682], [-0.001185304513300285, -0.0010664940825311953, -0.00019435837423887993, 0.000535506588345198, -0.0015634686248741537, -0.0017545048611581771, 8.397283262437938e-05, 6.823185935022292e-05, -0.0008616184534167015, -0.0020043780566961055], [-0.0012118803966907966, -0.0003452674100428044, 0.00014428856595534938, 0.002225910952608725, 0.0006157359651063032, -0.0005053006973306418, 0.0003358792840965918, 0.0003438490274770301, 5.5288934021486825e-05, 0.0014976898889514122], [0.0008377709985655235, 0.0005605669526791046, 9.663980231164996e-05, 0.002998422303302428, -1.9180919162367078e-05, -0.0006125837255990052, 6.0079300144861844e-05, 0.0001220893261405198, 6.478055542814331e-05, -0.001185502934346241], [0.0006872106084644857, 0.0004110910571680714, -1.1952664060935813e-05, 0.0013610426460570757, -4.133723708092061e-05, -0.0004758493591209058, 0.0002717761129029128, 0.00024146517779914057, 0.00019368590940813669, 0.0009377196990260827], [0.000882094275037788, 0.000929101480174912, 0.00015794359837253968, -0.0010531668048166009, -0.0004806769278866207, 0.00039298035499841345, 0.00034253402763718467, 0.00028723690137777425, 0.00033553908418832546, 5.1833925817694816e-05], [0.0010526251327477997, 0.00042991845641725533, 0.0004533796688800318, -5.335324377722115e-05, -0.0002927901657264842, 5.277925479799881e-05, 0.0003929862636741532, 0.00032483932509527416, 2.1194396413357612e-05, -0.0002566004275375633], [0.0015608125501446878, 0.0014192958828447577, 0.00048461105817529604, 0.0033141530666663766, 0.0016410744898607676, 0.0009529440020443225, 0.0004489201091192063, 0.00048337014711961055, 0.0003114791713586085, 0.0016628915512039999], [0.0010150267309609752, 0.0007564488906652511, 0.00030793711812843405, 0.0005752830200731787, 0.0018843596852419252, 0.00013181574710267925, 0.00044101695263925933, 0.0004101159305949498, 6.381585972620837e-05, 0.0027479295223990265], [0.0004520933862859589, 0.00010446500707356643, 0.00020097159835598234, -0.0017919533680721455, -0.0010854095333759695, 0.00034517481358468336, 0.00039874950084730634, 0.0003545295695359041, -7.538083440583598e-05, 0.001410495226332209], [0.0010838359403453058, 0.0013933825925473275, 0.0003530709308319002, 0.0006273513979505774, 0.0008659694566969512, 0.0013666000764985542, 0.0005501386937723263, -0.00010531037835643354, 0.0007233458723649688, 0.0026884220255502054], [0.00038813842146291134, 0.00048229039313766984, 0.00023867133335327972, 0.00040208949470045053, 0.000984250424561739, 0.0008662727486219456, 0.0006407238026001716, 0.0006086206789333071, 0.0006534980266076529, 0.0032641602875434737], [0.0010267549080911985, 0.001238377104631574, 0.00018405587475604502, 0.002845682898530213, 0.0003239640769967167, -3.352665178167678e-05, 9.339349434088095e-05, 0.00014750445408238998, 0.000419833143717665, 8.420360408916067e-06], [0.00046988457296915254, 0.00019622421711460003, 0.0001182330384600716, 0.0030820060907172753, -0.000540257494058709, -0.0005814631611098653, -0.0002800808288956258, -0.0002336329738035392, -4.4491399924466785e-05, -0.0015698286155427432], [-0.0018103575018056884, -0.0011738055628747147, 0.00027976973653535465, -0.0010736728591853285, 0.0005982170606228944, -0.00015972896486527333, 0.0005376016708564979, 0.0005613920641320869, -0.0004634724793632561, 0.0010142012435781567], [0.0014620971307728547, 0.001801520728025141, 0.0005586859822572043, 0.0006097589722278895, 0.001551136340639494, 0.0013394595494822226, 0.001110918992410128, 0.0011206850377644883, 0.0006242518582066348, 0.003338352563439635], [0.002427226477320361, 0.0033627377374973078, 0.000977079142084234, 0.0027475015613380592, 0.0024073349096170693, 0.002493451714118835, 0.0009195596892548074, 0.00016331169421501812, 0.0013593499723093272, 0.001928129583678122], [0.001342176081896278, -0.00012786736678215504, 0.0002855690179330284, -0.0009792104254935552, 0.00037517422517236555, -0.0001511178909588828, 0.0007837571179988601, 0.0008293672158792953, 8.816351685382084e-05, -0.0005020166168017725], [-0.00035364879322917763, 0.0008493733612083853, 0.0005172518364127954, 0.003562744149386892, 0.0013325473531839015, 0.001203475574951447, 0.0008502625092241045, 0.0008871124298338051, 0.000619515828952446, 0.0026739287956336222], [4.833333116628362e-05, 0.00018896045768116432, 1.0566781346711363e-05, 0.002573683278769523, -0.000829143678036246, -0.00031869509275889613, 0.0003148435896898416, 0.0002880247321200713, 9.872995759511838e-05, 0.0001112575616014988], [-0.0006310758944395523, -0.0006382267481100157, -0.0005279843155274034, 0.0023394834389675622, -0.0015288656523370302, -0.00010165013313601312, -0.0003601903292088915, -0.0003888109689856023, -0.0003923111345919983, -0.0031100232992824317], [-1.7066256531075224e-05, 0.0008756336881272797, 0.0004530855412229384, 0.0024613818885884566, 8.328240146781684e-05, 0.0008410860708935264, -8.315545339272923e-05, -2.8352724109739213e-05, 0.0006903200949890964, 0.002219088605420696], [0.0008922580415882719, 0.0008002455998671953, 0.0005445495950192447, -0.000689616694032047, 0.0013218772407451152, 0.001350618860314341, 0.0007525723925221061, 0.0007776228777776284, 0.0002766168667393831, 0.0022162597999144974], [0.0012095850970151223, 0.001840651511945317, 0.000354711320850436, 0.0034029800762554754, 0.000718198875423286, 0.0012636938380873742, 0.0005752219027748717, 0.0005592905163716289, 0.0008671497382556526, 0.0015502497408327943], [-0.00019777894463067546, 0.0010915249024140118, 0.00045184779631865957, -5.729608990761467e-05, 0.001672347325770991, 0.0016263843330198303, 0.0007690073838478285, 0.0007658243185919922, 0.000759660790601262, 0.0023209205729152237], [-0.00013999874901863502, 0.00010938328519491732, 0.00022754898889781105, 0.00208358798606751, 0.0004285691817854742, -0.0001697119599170449, 0.00039527573203582025, 0.00042340894696093925, 0.0004722598851516979, -0.00015115342344570678], [-0.001950295598880578, -0.0007224658688456919, 0.00014355098600393079, 0.0018126286516864454, 0.0004296208141141111, -0.0011278279729295937, 0.0002438942846597536, 0.00030707836879583005, -0.00019536616456171884, -0.00023483957789538487], [-0.0003696540975342532, -0.0008156473104945783, 4.899204098104404e-05, -0.0016806217115698007, -0.000544516861861477, -0.0008200673624928, 0.0002110063316786448, 0.00019893343693897948, -0.0006455645709927893, -0.0004517513670953832], [0.0005337935511841918, 0.0005411783275504512, 0.0003033307659275652, 0.001938322514159858, 0.0012466345428814485, -3.990258966912075e-05, 0.0004814965613098998, 0.0004733171993856944, 0.00032553398817461335, -0.0008069597292061558], [0.000816348826247888, 0.00074474223651813, 0.00020185644876159704, -0.0005235419572316546, 0.0009250512182296199, 0.0009502648157132687, 0.001068855454669042, 0.0010004056209706924, 0.0001378989196355729, 0.002599706904547938], [-0.0010226907074081892, -0.0001772566301880385, -0.00011644619505053248, -0.0006728703762554567, -0.0004545229614082125, -7.28620246122458e-05, 0.0007988450990680196, 0.0008158186999483075, 0.00015758958831856517, -0.0002016899689053675], [-0.0023835540579752812, -0.002473110065247992, -0.0012352731577227227, -0.0018689216516754393, -0.0018087502463928961, -0.001493799214510656, -0.00011763909648029535, -0.0001648004358562449, -0.0009250361830989284, -0.001648291486558766], [-0.0011045647742988684, -0.0009326724842056522, 0.0002787088120638115, 0.0007026688233067934, -0.00028340961449895745, -0.0017174571528016979, 0.00040113582197993215, 0.0004057885360037927, -0.00028703621654732283, 0.0009035053500210299], [0.0004415463999382507, 0.0011008675272171952, 0.0004269446974156987, -0.00020327169484072528, 0.0006676980407083555, 0.00015730740885166572, 0.00046317009542760966, 0.00046180346642032077, 0.0006488295165996893, 0.002028780433836954], [0.0012944868211009375, 0.002173710764046537, 0.0006649165099367127, 0.002233753868804995, 0.002226016304047662, 0.00160073322542297, 0.0009071946593120384, 0.000890226908884193, 0.0009303927434386594, 0.003885637866729699], [4.2270347251538444e-05, 0.00029011131964570505, 0.00021842053466482602, -0.0009515159247799064, 0.0013019324479798123, 0.00016694818605281992, 0.0005509888515020034, 0.0005211457907597516, 0.00032919742128504123, 0.0019326575318915885], [0.00010671970631784818, 0.0010850785213475623, 5.6595456528758525e-05, -0.00019677986566049018, 0.0005282719053375784, 0.0010373476522143532, 0.0004999153528733657, 0.0004306454013472871, 0.0005447601893920684, 0.0005498343907755255], [-0.0005943947157468422, -0.0005095926789429783, -0.00010339724251270276, 0.0006061839816962688, -0.0007134919939102469, -0.0003483257067057188, 0.00038406185721143513, 0.0003633466109126848, 0.0001587024633789724, 0.00019988297197770066], [-1.813517945109304e-05, -1.6573779398372236e-05, 0.0001388786816037224, -0.0005093898797613061, 0.0006226934304804077, 0.00011298201748760171, 0.000568156302206253, 0.0005523709748238259, -0.0002603354276836756, 0.0017220607538068], [-0.0007880241627933149, -0.0009918937525750348, -0.00013737705870680238, -0.0019010946351635826, -0.0007848171090566191, -0.00021972677770906834, 4.797935147745846e-05, 9.87799183007665e-05, 8.595003183145432e-05, -0.0011637743905912633], [0.001216518190568714, 0.0010718400268673921, 0.00031228996017069853, -0.0011287807787884407, 0.0021355372154695917, 0.0007404275849611385, 0.0004589142413946634, 0.000501568479177803, 0.0007019027447440563, 0.0016542108149942658], [0.00026261898036366026, -0.0006497324318216302, 0.00024933654017218255, 0.0019899449007166493, -0.0008673500358389674, -0.0006622691717837494, 0.00042804948048364545, 0.00040455377467488065, -0.0003852035850689939, -0.0012555239447486378], [0.0007195358520248086, 0.0009925749981870302, 0.0001002824290210913, 0.0023658532160795343, 0.000891010175037894, 0.0016017843305123835, -0.0001504438916999673, -0.00021635187382982758, 0.0010479279430648657, 0.0001201862810023302], [-6.908689443380745e-05, 4.002884144328036e-05, 0.0003330947834886721, -0.0011423143117023082, 0.00034270522402207515, -0.00012865389298514886, 0.0002847727865476735, 0.0003326932098041402, 0.00012926078386946483, 0.0007550101897953132], [0.0012008667889244085, 0.0004801993392954551, 0.0003243556549837068, 0.000733387908395069, -0.0005280513645567986, 0.0002454841758986426, 0.00024402789553755079, 0.0002970284680910984, 0.00039669930085881153, -0.0007759662667124578], [0.0009492327125113676, 0.0024016954715196494, 0.0006091449973102858, 0.00286980187534553, 0.0028467730484211494, 0.0015083408287596956, 0.0005861183490604737, 0.0006314205520290673, 0.0008055654882530172, 0.0014374619435409475], [0.0005286142539070671, 0.000691767697135961, 0.000389079187047171, -0.0034214990990515926, 0.0008281017831705029, 0.00109326796196874, 0.0007378725450976509, 0.0007802210409645838, 0.000809389681928101, 0.0038862393858208845], [0.0023470161256705004, 0.0011441861684344712, 0.0008233837093558172, 0.0021529673244150916, 0.0018128743805470116, 0.00026901510623270617, 0.00048189764324875207, 0.0005229307159608342, 0.0008622081945605719, 0.00231154104588319], [0.001005391599412846, 0.00019867107885728651, 0.00042411676133967126, -0.0006427568969707886, 0.0011372123484501807, -0.0003807848196470909, 0.0006276428483753493, 0.0006178319121704367, 0.00032679489908492786, 0.001286132264035298], [0.0013124069863281673, 0.0019062281320053876, 0.00043725518344992273, 0.0024528360294092, 0.0024868372495124545, 0.0009188253157938053, 0.0006517765979135781, 0.0006108148147982817, 0.0009049716559172039, 0.0007774484263795234], [0.0019922321151532984, 0.0016572011228394934, 0.0004186955623779864, 0.00080411298474381, 0.0009889271909388152, 0.00026076043475191434, 0.0008103354248475503, 0.0008577096976733012, 0.0010524381154168871, 0.003579318687690276], [0.001254918638591067, 0.0013234353208919458, 0.0005869116128064511, 0.0011879296356397129, 0.0012731124215304313, 0.0006338008043748156, 0.0007245891396465565, 0.0006782052597781841, 0.0007871931154358514, 0.0012251823587582633], [0.00012204893844589115, -0.0006923701711343156, 8.12983903312048e-05, 0.0017194234976528522, -0.00018129254972513832, -0.0009088535109447161, 0.0006008788235425522, 0.0006224486105469751, -0.0005376730061723478, 0.0008919898242021552], [-0.00011120799952470719, 5.134292059482785e-05, 8.093061756087814e-05, -0.000696089336098118, 9.243518522355831e-05, -0.0004524877231675317, 0.0004566867854748402, 0.0003717195143652452, 0.00045126954338049253, 0.001055342445427816], [0.0005284695038030263, 0.0010866263042301383, -9.08304225253576e-05, 0.0015205276361495957, -9.090993191707142e-07, 0.0010042406956325145, 0.00013946715350080297, 2.5680863552239863e-05, 0.0005492087238362675, 0.00157065586365694], [-0.000368325689642135, 0.00026741536323402257, 0.00027948720112745294, 0.0019591214922324786, 0.0009865124802256409, 0.00023333932447643598, 0.0003989517924368258, 0.0004432581283181003, 0.0005339442717862974, 0.0013466269620469884], [0.00010024129152528036, 0.0007161863589221951, 0.00044257790101888015, 4.005925769848157e-05, 0.0002986583095722351, 0.0005487219814263522, 0.0003325200443564036, -7.405279229053541e-05, 0.0005581730871219825, 0.00320437135265617], [0.0006893560225126685, 0.00042377059866015814, 0.00037203954971418927, 0.0033710415855547015, 0.0009029029885795925, 0.0009414311302772305, 3.5494868638763494e-05, 0.00010754912030456864, 0.00048619863081553747, 0.001523140508954719], [0.0008019337442326256, 0.0005673808565385552, 6.281455183840268e-05, 0.0035399803511408567, -0.001326945044364054, -0.0009670232121394929, -0.0009238267567078928, -0.0008484445353417636, -0.0002854313174445133, -0.0019264760010403404], [0.0002805628386176949, 0.0004229468343078002, 0.0009002077042875434, -0.0002679783358714971, 0.0018083412102441754, 0.001291938280215088, 0.00039269093779787935, -0.0035235868975079486, 0.0002679524956226098, 0.0038876974412122146], [0.0015219504363117764, 0.0009724488660385224, 8.920420147559116e-05, 0.00022375040156467742, -0.0008426144842504789, -0.0004332407447896316, 0.00019520781715848923, 0.0001436242137009458, -0.00026572006205459963, -0.0003383565719308066], [-0.0011931932255092937, 6.184538052245388e-05, 5.9790488294762e-05, -0.0005265844425015409, 0.0022873642153731443, 0.00151042690144509, 8.184736247032198e-05, -0.00035778387396816056, 0.00010150301435850829, 0.0003528137825239286], [-9.547473011497277e-05, 0.00041605495815811634, -2.048328448713165e-05, 0.0011853710524106643, 0.00029486997929760504, -0.0016672764845854693, -0.0007155071219892628, -0.0014541121147096181, 0.00020884115709769895, -0.0008432230749310809], [-0.0002645133609353567, 0.00034158248478844967, 0.0005586377628860439, -0.0007120027481539105, 0.0014634417368177388, 0.00011894791943724219, 0.0005025576474161308, -0.0013838042000248896, 2.9521521982024677e-09, -0.0032221532117291973], [0.002833524290430309, 0.0023250890558399327, 0.00030450798946276, 0.0014038368106116517, -0.00022137056327395043, 0.0016154425520175542, 0.0007595070019135264, 0.00035564366540478785, 0.0007598127353621287, 0.0031167917718304627], [0.0025494411278313843, 0.0023296382662027003, 0.0005210259962677677, -0.0013873676494124121, 0.0021621376263422664, 0.0025969237340239325, 0.0011633938908574538, 0.0012224548241715593, 0.001273157197104542, 0.004212986211797585], [-0.0010303169665828115, -0.00012485297381632066, 0.00017289061430270647, -0.003175075362317705, 0.0010477927848535895, 7.364298260170265e-05, 0.0011903435847270272, 0.0011125927888318142, 0.0001857067046352201, 0.001358263884872124], [0.00061066644241343, 0.00022803934494514125, 0.0003985515855694366, 0.0013837046364220695, 0.0007029823834342341, -0.0006760973492675083, 0.0001829647929304068, 0.00018136581302382826, 0.00018540961335407506, 0.0015531232873565505], [0.000876787180803058, 0.0011292535375653202, 0.0007160193274489968, 0.0005541753446874375, 0.002341464674940337, 0.0006211999132166835, 0.0008390899375562633, 0.0008110243432566744, 0.0011391049269768416, 0.0037939582889763824], [0.0013069868952156004, 0.00013820728503640022, -0.0002629825263911956, -4.523772813436632e-05, 9.50829158452126e-05, 2.3160528720511768e-05, 0.0007277988229090315, 0.0007493696125508098, 0.0006066401721084346, 0.0014308981892219386], [0.0016078218607922313, 0.001576308074181374, 0.0003839555797642458, 0.00035160145960015486, 0.0012723054436782322, 0.002117928452238791, 0.0008904192336989336, 0.000883606577385665, 0.000776030966446899, 0.002696105818538279], [0.0003621763935984812, 0.00037612488099441287, 0.00039726805519767596, 0.0009738343900604729, 0.0008301766590156801, 0.00127608469474902, 0.0005665963783137684, 0.0006292018211323258, 0.00040071021664023654, 0.0025815019972418043], [0.000576568736249703, 0.0007318843696869703, 0.00015048742009278083, 0.0011617609910693537, 0.0005127447124798712, 0.00013974297256412748, 0.0007999016179120666, 0.0008261536482698339, 0.0003364741188191589, 0.0017681367136915727], [0.0003628922817844726, 0.000858676065677082, 0.0003453835221605506, 0.0014436016381219829, 0.00032583734228025296, 0.0016472082625827644, 0.0006525152222940545, 0.0005651869443305291, 0.0002152191424606409, 0.0013040274480297497], [0.0010312935428744919, 0.0009867296154878957, 0.00046715042936960714, 7.677496163748921e-05, 0.0011137096022306326, 0.0008989341551534391, 0.0002764040251669453, 0.00013513889863952855, 0.0005148773756562041, 0.001302059284518844], [0.0003178697266389441, -0.00022074208279116548, 0.00033642196757505127, -0.0008187532245154205, 0.00018685069002974064, -0.0003929888503078316, 0.00024800697128051223, 0.00019850347847369943, -0.0003971956647073549, -0.0004462520964999417], [-0.0019394509494262758, -0.001962479683149374, -0.00041943224842270864, -0.0032241670007689604, -0.0010658326988952417, -0.0011274587061241136, 8.414210429077417e-05, 0.0001862259926112797, -0.0005402901392377802, -0.0011668648504033685], [-1.9585384919735825e-05, -0.0006838672782365629, -0.00019905432403722668, -0.0001517785641140398, -5.051926957699883e-06, 0.00020093969604443755, -0.00012659872875651513, -0.0002799719037256665, 9.451141555953942e-05, -0.0010669042480156365], [-0.002585524848292541, -0.0035852632906063974, -0.0018696984802438232, -0.00037244422119241187, -0.004533482659050719, -0.0050668687760796645, -0.0025150640912084254, -0.00243630039667738, -0.0025897796865695668, -0.004240170955334501], [-0.009256666006692685, -0.007901866081188869, -0.0022208019822087923, -0.01179125272494634, -0.007653621126546568, -0.009210763194889142, -0.002104804655367358, -0.011747336927252779, -0.005928812227705404, -0.010790998640379024], [-0.004623392692332509, -0.005616788201406267, -0.002517642619413213, -0.009786846423671074, -0.005122545770481261, -0.006126668745696788, -0.0025496301919863606, -0.002651281027570791, -0.004344249154440587, -0.006414249245622976], [-0.003988298634595497, -0.005781296907879254, -0.0015350816868733442, -0.005762677955833522, -0.004549083585129328, -0.008334231577279439, -0.003358369767460587, -0.0032623311445062874, -0.0046254571231105325, -0.004226357340640816], [-0.006265475672585433, -0.005806827355939674, -0.0012218711839730235, -0.009291702977022696, -0.004242736874777026, -0.006920685152514672, -0.0024326697928682027, -0.0060664380123016046, -0.004449180754495221, -0.006532931092863254], [0.006465314405531993, 0.005888249090692201, 0.001093153957447115, 0.010046644518095338, 0.005210135880691893, 0.004691059615544318, 0.00011868990056838953, 2.1243410248006184e-06, 0.002981367276201361, 0.000962224417423623], [-0.005230163019159492, -0.004996350880931937, -0.0018118491252188385, -0.005792924609288463, -0.005170463795602456, -0.004600200728927977, -0.0016564605706752068, -0.0016627553219255554, -0.0022871197005407363, -0.005922280977188321], [0.0011610507570663964, 0.0013303031055549623, 0.0010974201358403502, 0.00017168207219358863, 0.005353882568222171, 0.0008268681526506039, 0.001309784960121596, -0.0008964341290341382, 0.0013532907154740182, 0.0029387853319176836], [-0.0026202741333715552, -0.005218414780633205, -0.0013770464207504118, -0.0012218618224371892, -0.0033593461199862775, -0.0037198415787413875, -0.0016271380607991003, -0.0021531715851121234, -0.0011992549945173759, -0.0038443779161905357], [-0.01219139358072546, -0.01600199621215638, -0.003028947308979505, -0.01873321391307568, -0.010088931508313203, -0.01500351676383576, -0.004721151514624711, -0.004689347220132509, -0.009018995244463918, -0.011328040295165232], [0.0058194369914660584, 0.0069885709416090715, 0.00010091242904023181, 0.008460324500705427, 0.00521294918748413, 0.009862472926813581, -0.002417814055285543, -0.0025156594366560103, 0.0016419345948263373, 0.003159684209632907], [-0.018029243893912496, -0.020223336505457042, -0.002366718737307332, -0.019870540427686486, -0.01478526900532227, -0.02091694867453095, -0.000987876787000408, -0.0020026733464991687, -0.010732977573425347, -0.011324988976751776], [0.004386939269322833, 4.1766302051550045e-05, -0.0007260037853192058, 0.00032299552828052704, -0.0026325287311556346, 0.004947765283164709, -0.006307697853192327, -0.006253240965396403, -0.001556978874438042, 0.0005941238018293937], [-0.011227946365670103, -0.01092852994718534, -0.002179080041283833, -0.012020544548297214, -0.009376048196208697, -0.01079613466522119, -0.0033661709902469373, -0.0056091737300899384, -0.009346354660835736, -0.009012067838679996], [-0.011108618148981644, -0.011142185335044913, -0.0012175561704013448, -0.00952962433442715, -0.008541302817197036, -0.011973980588231332, -0.0017608434631747993, -0.0018588312127060425, -0.006880872651802825, -0.006374535721908289], [0.006335359011416595, 0.0044336948178921, 0.000827174057879757, 0.007383375619565178, 0.003912588711814928, 0.007627434682770815, -0.003155992623743615, -0.0031223969305948706, 0.0016873537978546204, 0.0005016272180081938], [-0.011155806277963556, -0.012470062392372297, -0.001373172836932084, -0.012242108898190466, -0.008248689895303793, -0.01180369222646712, -0.0013592783058521051, -0.0042831092955495234, -0.00810531244080054, -0.008408287721245737], [0.010388218842838953, 0.010095943756272258, 0.0015650848455903144, 0.0106514279962905, 0.007483530681006405, 0.015541269959078537, -0.004395281793968264, -0.004315786046996277, 0.0031454258143101877, 0.006763829249667279], [-0.005595154066591877, -0.005172730409189543, 0.000252746911843601, -0.0070301517553045525, -0.0008823213874617025, -0.0008540385482352295, -1.6760322634676857e-05, -0.0007671081252455859, -0.0030896609904155128, -0.0036442683646193963], [0.015382986046308193, 0.01711471939063544, 0.0020618373684560876, 0.016667832454014538, 0.011342518994615828, 0.018974533530751476, -0.0016414567378485146, -0.0023253612533461654, 0.007155358235883686, 0.009961669726909808], [-0.006350301753857504, -0.008984690541383712, -0.0016521333904001645, -0.007144812555177191, -0.00782623149367169, -0.005877417451876803, -0.003134720465243017, -0.0031815536720197503, -0.004000568346709317, -0.010001680340556067], [0.004153203677255507, 0.004661335979264722, 0.0014831818679952534, 0.007641035746565055, 0.008424671880137083, 0.006342652418388528, 0.0014239317283828744, -0.0032547229182431315, 0.003094018181999103, -0.000740426909159404], [-0.002427734820814901, -0.0028579842355114728, 0.00011920637281841669, -0.0013959851558386833, 0.0009343277451409549, -0.0018389018127111178, 0.0007278187305166784, -0.0019152136736365311, -0.00015748395822773987, -0.0007656511578548745], [-0.00025373183126353087, -0.0011915334582288193, 0.0008439616259631311, -0.0011796777307540162, 0.0040007397013108155, -0.00023799414737013747, 0.0018236933295223113, -0.0065045913634339935, 0.0006540435387652188, -0.0013376203913771745], [-0.0008195603290958342, -0.006956952423785035, -0.0024318033118988325, -0.006850648582657937, -0.008884829530835914, -0.0047801099301111915, -0.0027543074495847454, -0.002752625685190395, -0.003862754702128277, -0.005964887182348044], [-0.0076768082194068055, -0.010686408895284959, -0.0011206157835562925, -0.011905438423372874, -0.006358718419388731, -0.008457972432625402, 0.0004765974641171278, -0.0019757019665617515, -0.004310281576513244, -0.004897573101973691], [-0.001875654035214107, -0.006699842093937991, -0.00146550013100327, -0.00835103834781194, -0.007583056665822001, -0.00561109238222208, -0.0022232778561873446, -0.002312038383671702, -0.0033929255924809, -0.0039857233654232525], [-0.01058371714414011, -0.017374138232139694, -0.002924884095746608, -0.011752045080582123, -0.01613978175712925, -0.01130087421533107, -0.005227741862828412, -0.005201734538911906, -0.008713085477405444, -0.01152088480064191], [-0.009758808605569814, -0.009182105856795252, -0.0006732427461229995, -0.011599372255564875, -0.0050076624243004094, -0.010906670285256947, -0.00015023102191967562, -0.002199937061508872, -0.005588811254489085, -0.005366573417133177], [0.0009599850234483895, -0.00046255820706832626, 0.0001534780316816875, 0.0027954613874788016, -0.0004062879882966583, 0.0016464322382296892, -0.0029142180830488496, -0.002912791823041796, -0.000746487034226706, -0.0012945788371740942], [-0.002177583122694161, -0.0016393594625759577, 0.00014683238961553879, -0.004340618143771419, 0.0018138437744464441, -0.0005351604170582247, 0.0006860343741671126, -0.0021112230517412334, -9.469062221143967e-05, -0.0015831423861964481], [-0.00014847609909781067, 0.0009681666506650255, 0.0006466758408973583, 0.007563487583084316, 0.004544462879229565, 0.0005640275305746548, 0.0015312218164748393, -0.007043431092659356, 0.0020432293484605514, 0.00012899954804411985], [-0.005569405904613474, -0.007046354866587445, -0.0007189369043077643, -0.007084161666040343, -0.0033141434601809115, -0.005248793490014736, 0.0012074874554236325, -0.0007471107641824748, -0.0019956663779853432, -0.004588563592971901], [0.0021817066044155296, -0.0067754386199872264, -0.0014603281378413214, -0.011058614399068295, -0.007433001570951081, -0.005786204404930442, -0.00015192620591287565, -0.0006573336724556444, -0.0027523646070940666, -0.004720146229174711], [-0.0018326176610536193, -0.0032671853890956304, -0.00046778764612953827, -0.0050971424004907775, -0.0016249265048664486, -0.0009266618827008655, 0.0010646457619139537, 0.000592419937467219, 0.00012134602242920511, 0.0011389625746277554], [-0.011318278990507732, -0.014915490366923006, -0.00214025448850377, -0.01578439748515002, -0.010993213026771875, -0.013857818037859303, -0.0021791868930316925, -0.0023268724710613187, -0.006936328227530075, -0.011374022384091744], [-0.003936634118680358, -0.006667845825715613, -0.0004094442792243615, -0.008039578741465624, -0.004010634802876769, -0.007433966227167124, 0.0006214251011182492, -9.466424315268451e-05, -0.002490600554738513, 0.0008670651063404923], [-0.010838279888110347, -0.018043020959508427, -0.0024680065323779963, -0.009789936766169136, -0.015406008614825929, -0.0114650457999173, -0.005151115262431807, -0.005227213303688174, -0.008507411770833237, -0.014826254081764967], [-0.011319079417447437, -0.011463919252515203, -0.0020075006004385276, -0.013679651380754065, -0.008419276577633066, -0.010091004510898288, -0.0013800004860910508, -0.004097945690610878, -0.00475735898440135, -0.009001888047223789], [-0.0004949588192200327, -0.0011899798152481367, -0.0009804174698738134, 0.004958654542861041, -0.0034726557649839007, -0.0027321861666947276, -1.3295159409407748e-05, 1.979062184749303e-06, -0.0017647995666643587, -0.0020449931687228154], [-0.004049264232633631, -0.007653589394863412, -0.0011808019407795012, -0.0041149973659191505, -0.00715180781585651, -0.0044955439840860785, -0.0022235618668773947, -0.0022089080067312448, -0.003767512969976523, -0.007134220683401908], [-0.009198184256874851, -0.012091046290327472, -0.0029367866555547973, -0.00805008332108502, -0.012159452684221264, -0.011156766847337582, -0.0051305206604513875, -0.005041567650323348, -0.006591315446896413, -0.016118888850747214], [0.004525379271226596, 0.005157627779269695, 0.001705566507933647, 0.0037965407999614965, 0.006301084357321773, 0.003814980851421881, 0.0013262620354713083, -0.00011606171479355164, 0.002112307837340288, 0.00680444250693308], [0.004189000344953916, 0.002965514118565242, 3.567726682990766e-05, 0.0037219691957617053, 0.0012040361992592087, 0.0024013845259849708, 0.00013816542050473223, 0.00021184156357728856, 0.0016318889218733367, -0.0004902053314789833], [0.0056760608522149845, 0.005667951042157651, 0.0008853269012928056, 0.007639617272844434, 0.005732170151294582, 0.004515315131375526, 0.0011462263092750335, -0.0009810055899552993, 0.002954391215971319, 0.002737051060603086], [0.0009644537612080395, -2.3748986856730984e-05, 0.00028713267104529816, -0.0011414492424305944, 0.0014714829484246872, -0.00016455342266980634, 0.001063620058777972, 0.0010877471741955703, 0.00022281961787007365, 0.0031783240581907935], [0.0005855566698824075, -0.0005027418984160594, 0.00025147592853168256, 0.00035805337853621414, -0.00044232226628828633, -0.0011718172973750264, 0.0007380460878900896, -0.0006871802198596777, 0.00010471836011230359, 0.000919257017978321], [-0.000394061117083786, -0.00014935136064758936, 0.0002902885959272883, -0.0016129441423627445, 0.0013602682593379578, 0.0012570713584250193, 0.0015817568466392107, 0.00024265198157489288, 0.0011275641099945854, 0.004418291630903308], [0.0007106076174842025, -8.660655873498741e-05, -0.00030080534130780045, 0.0031097019185724103, -0.0012001000602640088, -0.0005743997409571501, -0.0006102184272906364, -0.0006572586241792333, 0.00030771785223220765, -0.002073752987685551], [-0.004923802915495323, -0.007131665858247606, -0.001554332062249033, -0.004059044957189588, -0.006663924800511713, -0.004960376710727343, -0.0025439928719096106, -0.00292942556455408, -0.0031309479649057836, -0.007263932921393073], [-0.0019227074324686866, -0.002921487624275847, -0.0009029190057438818, -0.002517386475258938, -0.0034104793058044834, -0.0026481498908257485, -0.000989692446869852, -0.0011192422929814905, -0.0015911951375325731, -0.0031397324749415302], [0.003462840900689923, 0.0031270039749530976, 0.0004423936140015794, 0.0017645678423403143, 0.0031899726817378447, 0.00228994762209199, 0.0004678495318365883, 0.0004678309452086582, 0.0009945342611638308, 0.003940505415802931], [-0.005520529178063949, -0.007111827265940258, -0.001739696138384752, -0.008506264302676265, -0.006921040273356156, -0.005829446109731227, -0.0019556700964271025, -0.0024828254940533066, -0.0028831601913478044, -0.00667229073796936], [0.0003968709912923106, 0.0007090022364874593, 0.0006207741021155943, -0.002320547030237967, 0.0026637522526262235, 0.0007599827785987068, 0.0005205555732019595, 0.000600694008819107, 0.00021509872056582938, -0.00011698899941183339], [0.0006174680407982144, -0.0007719196577423415, 9.126766770575221e-05, -0.004098772854945523, -0.0003654375069677718, -0.0013425098063114052, 0.0008917786117656057, 0.0009387401636887649, 0.00017158149997138056, 0.0007178453862893485], [-0.001960766023927698, -0.00216022563152533, -0.0008268523394704719, -0.0023275088482795246, -0.0013031443979990565, -0.002965759411503024, -0.0002619079419893211, -0.001441732819235506, -0.001081369988574763, -0.0017930359683691233], [-0.0031282634186474145, -0.005371064310083908, -0.0014349973842011465, -0.0035865845077975187, -0.006580992115207538, -0.004567795221365283, -0.0022900046865091195, -0.002289838322114721, -0.002405153497986601, -0.008098809528540682], [-0.001555976878687767, -0.002156416331376165, -0.0010103357750791341, 0.0004331088466362723, -0.003290873198690223, -0.002483200922026787, -0.001502055494375991, -0.0037288109346143863, -0.0017284813741037651, -0.00370472809541317], [-0.0010109802286382918, -0.0008731976528045558, 0.0005126826295505682, -0.0007316689304494874, 0.0008310158124255285, -0.0008334798186651393, -0.0003596450417525032, -0.0002687587192619123, -0.0010829628412716019, -0.00030229522920248274], [0.0010524197861174211, 0.00019174313180018833, 0.00018564850208030892, 0.0015935946323907269, -0.00016508635604074674, 0.0004657313714916625, -0.0007592584906508915, -0.002808655562242688, -0.00014562670975988738, -0.0007301549180823352], [0.004706447935552519, 0.0060577266376341705, 0.0008584894738771564, 0.005031193264269023, 0.005835560441735819, 0.003876994330873187, 0.001598199351933567, 0.0004307688938002796, 0.003347378214877228, 0.004356888924624416], [0.00041267186170877436, 0.0011036228725531982, 0.0003739996831660608, 0.001407765234576881, 0.0005343882999579552, 0.0013135554879608645, 8.606755895884884e-05, -0.0018391601812852176, 0.0009877637801139639, 0.0007996256766891773], [-0.0019153998183486867, -0.00144547982786557, 0.00025265395638045864, -0.009012126720449203, 0.0012084228312734125, -0.0009145735047284376, 0.0015451232971672503, 0.0008243622762337077, 0.0006945423337938728, -0.0021141936032632236], [0.0015084894430745855, -0.005442067910980067, -0.0015045782661132245, -0.008586521790186015, -0.008031190801620585, -0.00389084283289963, -0.0010624267631666351, -0.0010897122841480433, -0.0032324994904014527, -0.005012285269765213], [-0.00038887881125153844, -0.0005870933643601029, -4.1400666730343485e-05, -0.0014048098297155186, -0.0008825580915520037, 0.0008171653664810785, 0.0001111464011228369, 9.784560296129733e-05, -6.846170616463514e-06, -0.0008845221203206857], [-0.006936249398338783, -0.007639417135616431, -0.0007628429421503414, -0.008117600003348921, -0.004436444122378238, -0.007610078445388208, 0.00021782635755978051, 0.00013606031552250376, -0.0032889606020808947, -0.004310864767649325], [0.0001310021668080454, 0.0008798893915305083, 0.00023128609471722794, 0.0009328708888239712, 0.001142729837479748, -0.0015758508825757867, 0.0011065281614852118, 0.0004567717221319789, 0.0003220233657542915, 0.0035790316987315096], [0.004375564921984805, 0.005674653758493336, 0.0007249177087425551, 0.004144353600359652, 0.0034756610539564115, 0.004925527323746411, 0.0025627572714418977, 0.002564933680966761, 0.002966478061012081, 0.004853856501881922], [-0.0016024100228586601, -0.0022090814586146566, -0.00011756741644555871, -0.004382971518866565, -0.0004048447007637002, -0.0012303422079312232, 0.00110819585223207, 0.0006100732232102857, -0.000165371129348051, -0.0015716198916209255], [-0.0037756185026533574, -0.00263514395925605, 0.00033032732641235965, -0.005725724428952566, -0.0004687456084489261, -0.002280854553951328, 0.0012581435633817373, 0.00047683027903310026, -0.0006930887223568007, -0.0013502583938466328], [-0.0009858608286711166, -0.00022456324533950622, 7.320491070176626e-05, -0.0014774409620804008, 0.000674831426065845, -0.0015329215103091398, 0.0016661697193740377, 0.001787533353819355, 0.00045813954282226455, -0.0006011034739325316], [0.0022819198155958243, 0.002905778964819441, 0.0003760640372877422, 0.002591680934869358, 0.002439143390182448, 0.0019465880464476701, 0.001896748157213386, 0.001219691080919163, 0.0018201340199073225, 0.005983385807784969], [-0.006760973391576264, -0.006629027027046017, -0.0003659044552490387, -0.008526563765104078, -0.0019096193538688721, -0.005969020893671413, 0.0016163444721394881, 0.0016361588566974649, -0.0012408818937895473, 0.001220719491698974], [-0.0019907634620335932, -0.002753159824698601, -0.0002323792105471168, -0.004061165491301843, -0.0013065621788989424, -0.001623570645714838, 0.000552557252478163, 3.722588521075654e-05, -0.0002212963968031323, -0.000922363510104609], [-0.00034123083227056484, -0.0008245414458211697, 4.525361919082926e-05, -0.002526150117520647, 0.0009636616214057048, -0.00034900969514752635, 0.0016439925823592593, 0.001012527625391213, 6.328708857910922e-05, -0.0009301031180451114], [0.0008422272654288721, 0.0022040708548312304, 7.926250227677674e-05, -0.002846732807692023, 0.0012203546673075038, 0.002773810195308275, 0.0021349417073965294, 0.0020752852504930665, 0.002231182795259232, 0.004346768741227751], [-0.007876840422668518, -0.00969183378294666, -0.0015888155200656396, -0.007643998131536942, -0.008891553256502167, -0.007948741567457571, -0.002613411085644559, -0.0026040431345783553, -0.004886963136570058, -0.008584887392101899], [-0.006828154073897906, -0.010155153222742463, -0.0021114280089901093, -0.008646052401319432, -0.010108023870230447, -0.00741076883448055, -0.003360162723313009, -0.004642429320515609, -0.005025104915062148, -0.005197283302921188], [-0.007822461508895828, -0.01265615948584106, -0.002482078858682332, -0.009688424023580833, -0.011151769529988744, -0.010199058403721227, -0.004526960060387939, -0.004496951532034741, -0.0076237099456946435, -0.012452319152268933], [-0.003492181832066571, -0.0037294349730826793, -9.624806880463521e-05, -0.003528139700085257, -0.0011978911288935956, -0.006645709514347262, -0.0009742500144469446, -0.002516985188973009, -0.0032937817563842664, -0.003625567352523463], [0.009856075345790942, 0.00986238706167602, 0.0007560681666752433, 0.014645899006314349, 0.005135713779018065, 0.007764222816111741, -0.000397503848255778, -0.0009072303650987612, 0.0037970197207353217, 0.0060826447422062425], [0.0012379978204089415, 0.0026590937698372772, 0.0006356193119496412, 0.0026976167445478525, 0.004003409297629434, 0.0013808010467228904, 0.0014786028764606973, 0.0003483788704949786, 0.001416775418862537, 0.002480970618913285], [0.0009196308356865788, 0.0003312151404906595, 6.314142305504601e-06, 0.0016228147200061697, -0.00018028150315589013, 0.0005299000591027033, 0.0001792734678908658, -0.00040560440748932185, 0.0007005978767510922, 0.0013010450480034131], [-0.011430009157366272, -0.014476146922295, -0.0011164809504364014, -0.010816381091064033, -0.007012518298578447, -0.011172919404412758, -0.0006461286027267077, -0.0015541559250823855, -0.006628929646430342, -0.011885508486956717], [-0.002774828755302262, -0.004455997212476568, -0.0012446626811114393, -0.0011019469859939067, -0.005244943773282888, -0.0042995873404352335, -0.0014417553616390855, -0.0014846912259981959, -0.0020059190382436397, -0.006733777455920378], [0.0012063404168084824, 0.0012546838514041062, 0.0005110769523490966, 0.0009534100955283666, 0.0009382474987044498, 0.00013887054956557065, 0.0006057006720460123, 0.0005310646873953928, 0.00046177680455286916, 0.004274212900447645], [-0.006451491601294212, -0.009691082816807478, -0.0015220998240593963, -0.006302954051658749, -0.00813530293947895, -0.007530046747799533, -0.002682595193837125, -0.0026922262612473036, -0.004528855408191345, -0.009564617265995516], [-0.0007955149112043492, -0.0014719727396025005, 0.0002861784029044201, -0.002689493534052887, 0.0004743372965535109, -0.0015453522664445308, 0.00021419591409396868, -0.00023970818754113666, -0.0013275751236179634, -0.0019416239995112994], [-0.004152873927940974, -0.004470008474596914, -0.0010672637563302356, -0.008387803804968286, -0.005004135601836812, -0.0030369164392845915, -0.002139440877724792, -0.0022063668394355852, -0.0024751204731801478, -0.00800987643669663], [0.0014049286270907157, 0.002193957324407829, 0.0004216377527914272, -0.00015790602239846386, 0.001786336286689396, 0.0015694732933923229, 0.0004350443825546169, -0.000931629803388847, 0.0010658233399617378, 0.0034451332558546443], [-0.0001748916320683503, -0.0009163671383870997, -1.7488650836149367e-05, -0.001311998123996343, -0.0004930536968087962, -0.00026170008290635313, 0.0004307011001942573, -0.0009005003002328049, -0.0004887864932291653, -0.00047030577608556004], [0.0029295987918238164, 0.0031035092513589293, 0.0005770165775048141, 0.0019891258330473026, 0.0023725408091782273, 0.003222705946787583, 0.0008602815272592723, 0.0008521629482354065, 0.0014510960246312665, 0.003336834185566766], [0.0016540222116789294, 0.0020084126833250604, 0.0005912199443848665, 2.4210906128208088e-05, 0.0017377952890748683, 0.002042910780406766, 0.0008731689449184321, 0.00034485324936621263, 0.0011289354437283138, 0.002785166437103066], [0.0031215246597723154, 0.0039043654596967593, 0.0006877858109535983, 0.0062849854847000855, 0.002815153707162179, 0.0033295316394221586, 0.0011291621690536413, 0.0012026198945580457, 0.002333401272065716, 0.0038557391676429464], [0.0005450072849433063, -0.0004166560610649084, 0.00015368938354719751, 0.00018052903701013548, 5.672973876863722e-05, -0.0007060267192054457, 0.0009107213468306785, 0.0008836871922247358, -0.00011149394146442226, 0.0009505582926373179], [-0.00024969635889909197, -0.0019563582949391734, -0.0007395781715319605, 0.00035222025908446594, -0.0040296970841672275, -0.0016631849501033092, -0.0012719899321142459, -0.0013099450801285295, -0.0009260424978164261, -0.0038756502420576842], [-0.0025974523999319054, -0.003662774673466649, -0.0002937605511678676, -0.003629541266423928, -0.0012640831046234213, -0.002612886880422587, 5.0237309373635285e-06, 7.621203089289265e-05, -0.0014821401961133507, -0.0003860349677592456], [-0.002336991212806141, -0.0027181775732804, -0.0005316875324392889, -0.0014237175719800231, -0.0025715351701198984, -0.002205955741392187, -0.0005905934437746296, -0.0005557119794318055, -0.0002965452001664959, -0.004215196529247698], [0.0007338108706282109, 0.0017767745180170746, 0.00030370135329035983, -0.0007628561188375957, 0.001960207943514254, 0.0013782080322764978, 0.0007175845512829016, -0.0001365313077872221, 0.000313858170959067, 0.0026212512051200097], [-0.001266619763806578, -0.0014747617243607003, -0.00021125165815414352, -0.002192990076101844, -0.000597933637250816, 0.00025648406657076563, 0.00010880551079493372, 5.162280448268497e-05, -0.00016359063677862996, -0.0015025051778851939], [0.00027338867697020543, 0.0008444922049493875, 0.00046098148631680715, -5.947729543343435e-05, 0.0015071062131630654, 0.0005303281635794055, 0.0007618776617645162, -0.00015852657091400157, 0.00071942042279447, 0.0012876482454936776], [-2.5779549379225707e-05, 0.0003980985369761525, 8.75583901671062e-05, 0.002710133520724001, 0.0010418333684836113, 0.0008817007274934463, 0.000548329276251569, 0.0005583667026647765, 0.00077323294621237, 0.0027006057082728896], [0.002853006621755243, 0.0035321539309874405, 0.0008390646150728199, 0.004141880226548653, 0.00401592195380732, 0.0027664400785891185, 0.0012479511466395986, 0.0013151028315887148, 0.0021625122091748494, 0.0026273928617502216], [0.0009889144717739118, 0.0010009366812178233, 0.0004005100028811848, -3.7436695633270495e-05, 0.0012087066725140838, 0.00012168018360463551, 0.0009700177627624828, 0.0009249361294808001, 0.00014258607607712915, 0.0015765235746894612], [0.0005508250844208407, -0.000346311077182546, 0.00048513078563212295, 0.001403739040243308, -0.00012927112685717112, 0.00024674087648964845, 0.0006065767162433656, 0.0006215127718115054, -0.00011174381235888208, 0.00033920870915822744], [0.0004606144084839037, 0.0009116332178305942, 0.00011260568772957221, 0.0015897725051242783, -0.0003203109993034259, 0.001093645216108312, 0.0009817651459291276, 0.0008871670063171955, 0.0009339206674249123, 0.0013592854535483933], [-0.0018236432915755317, -0.0017235841003336238, -4.59920825697957e-05, -0.003438544666032306, -0.0006915384605067354, -0.0013225488785542927, 0.0008552416885697456, 0.00087503044097057, -0.0005459426151712154, 0.0005115471593824506], [-0.0031939817518506163, -0.003453475075550336, -0.0009595253729852094, -0.004538375115057938, -0.0033101252654823554, -0.0020884803498789186, -0.00025453628672068797, -0.00028770186161610313, -0.0014728374210607686, -0.0021547380163331508], [0.0006364155618184353, -0.0001259385554532466, -0.0002795103881542138, 0.0007627295647061683, -0.001979729388183209, 0.0003113640301746768, -0.0003901969323751242, -0.0004283927211705496, -0.0002058553474830216, -0.0017551686685713407], [0.001245367143898819, 0.0005637745347874445, 0.00012536205201391315, -0.0012866405720879026, -5.0428473653361133e-05, 4.102486789820056e-05, 0.0009566553491707363, 0.0009561825920314693, -0.0001956868412220647, 0.0007186985231437548], [0.002006640916652489, 0.0024484409591424925, 0.0001216579837709297, 0.0012669193429969239, 0.0010678132114827132, 0.0025459723144738255, 0.00044729084578965406, 0.0004376251304403178, 0.0009531669450884239, 0.001519174718534848], [-0.00041575849221496596, 0.0006534387898890715, 8.03275784665169e-05, -0.0014724180277994226, 0.0008660800805307867, 0.000494955642846302, 0.00034724836505859, -0.0010967466363773638, -9.050429753552969e-05, 0.0014858774132639897], [0.0013137342035946609, 0.001179477517377998, 7.58660279503176e-05, 0.0036612078380540325, 2.234540929468842e-06, 0.0007003496865782898, -0.0005941619319635372, -0.0011358596477230964, 0.00035477477805327505, -0.0007299698214634987], [0.002352328936405206, 0.00303425555848706, 0.0007733662656494256, 0.0040610924611904275, 0.002946500696397476, 0.002510486417524933, 0.00047313219241179816, 0.0004208514739749036, 0.0015531343551924558, 0.002712709282508685], [-0.0009845422305771701, -0.0009120738842426945, 0.00042632325289432727, -0.002233121535090241, 0.0004595412579031999, -0.0008675582201093035, 0.00038425986800309173, 0.00036376045403361255, -0.0005659379186243552, 0.0015608901218062598], [0.0011571973686391602, 0.00038887789626042225, 0.00034902264200453617, -0.0006153333450605557, 0.0007995281567593615, 0.00026199621475273346, 0.000528214300796308, 0.0004963806518732117, 0.0006682133045761107, 0.00042971117568606053], [0.0014215846230226225, 0.0007163883540523997, 0.0004217824822972294, -0.0033511669553430057, 0.001094163315250003, 0.0004788862597586219, 0.0008764114986525362, 0.0008851252650166863, 0.0008522386653359338, 0.0012713903136527538], [0.0007749554385605162, -0.0006311916066293311, 0.00017774305173410055, -0.0027432630605617138, 0.00036400704921385696, -0.0005515778595440901, 0.000584127717258669, 0.0005230097936105293, -0.0003120028985104062, -1.6059261393155283e-05], [-0.0007262303556731209, -0.0008571686917748433, -7.543060962987736e-05, 0.0006937745926962346, 0.0010848996283851697, 0.00030333755428830545, 0.0005369902202629495, 0.0004802229227380117, 2.4422864274447092e-05, -0.000852745114159652], [-0.00019937632534750672, -0.0008271367578805844, 1.286682531530302e-05, -0.0003919859528360624, -0.0007703612042485064, -0.00107691632484604, 0.00037663906088595487, 0.0003054422349431984, 9.204301523155326e-05, -0.0017822562103282501], [-0.002234951871016202, -0.0018346049170825318, -0.0007418886293343596, 0.0013835795978073095, -0.0024180986487854074, -0.00014302274947745276, 2.1300676670845654e-05, 7.459310793486384e-05, -0.00020233668750543998, -0.0025038517004392345], [0.00236573740065702, 0.003265658038045638, 0.0004948868649190019, 0.0011314569073103352, 0.002437068316050994, 0.0033196812946736866, 0.0014650447872242812, 0.0015547336613470008, 0.0011916959153854022, 0.0027685442974194484], [-0.001999030881083883, -0.0020577878803574447, -0.0004172974098861781, -0.00020102921632066727, -0.002068539463554413, -0.002785067918098778, -0.00024249481775031167, -0.00020365145194599864, -0.0011823162967051326, -0.004439700883964028], [-0.0005641628127479503, -0.00017478457572608355, 0.00011298724104608082, 0.0007595373971505515, -0.0004503903569000922, -0.0005945231932668004, -1.860747222008463e-05, -2.1981905852945794e-05, -0.00011866848333082825, -0.0009643299466147281], [-0.0013207152133061584, -0.00027161532047156547, 0.0003314239363434823, -0.00022486959700644975, 0.0010481277959451152, -0.0001415619560333625, 0.00033235619754080404, -0.00021270369105456767, 0.0002942419692671905, 0.0003564339296801355], [0.003798382987470872, 0.0031551458561820665, 0.0006210661066495926, 0.004983671329472545, 0.0012294963027542495, 0.0007555774163766271, 0.0004267339026434325, -0.00012055091212919588, 0.0010627495851248537, 0.0016328706884595646], [0.000614535754465797, -6.034187988911185e-05, 0.00016883539802662774, 0.00016724976818946588, -0.000927216216462794, -0.00035902907354569137, 4.8067956848183436e-05, -0.0003114808546216352, -1.532265853943395e-05, -0.0010358781277167986], [-0.0010669001350931716, -0.00044700934071028263, 0.00021750813492468657, -0.001474948737413584, -0.0005403290934149485, -0.00047378994974808905, -0.00010830596756091104, -0.00014915838779299583, -0.0006115074630407236, 0.000780087415613], [-0.00017817090679819847, -0.0005976919421181416, -4.5235815389962354e-05, 0.00020523126964242078, 0.00038828644126883473, -0.0013571731211882022, 0.0004984245840357593, 0.0005500096715825675, -6.002619252614137e-05, 0.0015467533436028624], [0.0007120918379096875, 0.0018463244398128965, 0.0007386857488265885, 0.001620179293828583, 0.0025366969285630734, 0.0014999130985001408, 0.0010581171290778358, 0.0010840005955689636, 0.0006274583520270483, 0.00357357324805498], [-0.0014352019900895341, -0.00042262573180209986, -6.235249788097308e-05, -0.0018939804620811396, -0.00029322829541690966, -0.0009816169620668314, 0.0004902488177871911, 0.00043492883360693127, -4.932398400713469e-05, 0.0006092774107355048], [0.0011188640474940948, 0.0008800284377030954, 0.00013496873916442277, -0.0008890621430207711, -3.758533507023824e-05, 0.0005738703952577407, 0.00021427381916638844, 0.00023127114252370352, 0.00017685326863444928, 0.0002934267558389347], [0.0009100379442290407, 0.0009609813789672294, 0.00024372427249320206, -0.0010185088607022762, 7.524790908030267e-05, -8.006565597797888e-06, 0.0005834368550665792, 0.0006227108857796316, 0.00045826108543043807, 0.004051553376858315], [0.0004974962594885324, 0.0003495706418190281, 0.00027998765425977124, 0.001753258652975913, 0.0005658337427253324, 0.00043550620264622516, 0.0005472644362567447, 0.00047490905674537845, 0.0003927783531070128, 0.001324508234277264], [-0.00030950557262139134, 9.95962283069041e-05, -0.00018637977270446026, 0.003095547193399226, -0.0007707656459711165, -0.00019647791494995293, -0.0004209398289179811, -0.00043080018605359707, 9.421621364197997e-05, -0.0014591603482666039], [0.0021719420812266565, 0.0022305043173605353, 0.0003125797568388444, 0.0035593663661667874, 0.0017585588156167557, 0.0016039892131432553, 0.0006588196093270549, 0.0006373379967253489, 0.001394216128375909, 0.0018260174597770809], [-0.0003971345013247274, -0.00028645929293806826, 0.00022650512646431144, -0.002582543488080464, 0.0004543173397853017, 0.000475822803485646, 0.0011855673009278078, 0.0005739637692840915, 0.00021242387051795042, 0.0038773921152936096], [-0.0058346776581132305, -0.007400503284435336, -0.001719490077696214, -0.0046257819517817374, -0.006087664581220129, -0.005984956190600854, -0.002448147610754732, -0.0023787105775959906, -0.0032549505184367657, -0.00813967503326753], [-0.00536271845104986, -0.005632635747184489, -0.0009978339138304992, -0.008665337342451096, -0.004349124585293041, -0.004479179832461133, -0.0008085688008541059, -0.0013467368236667898, -0.0029767380139268385, -0.00623844128151561], [0.0005976556746781378, -0.00027336431393650614, -0.0004024732344464421, -0.0002764059036433064, -0.00031753246075178154, -0.0008259458700489852, 0.00023597280489127126, 0.0001936749902753343, -0.00031501855374254983, -0.0002647195516834344], [-0.0023348491551325443, -0.004383459811508952, -0.0009398752059239013, -0.0022928026057813656, -0.004497669809802187, -0.0034029194813289514, -0.002188895576116452, -0.002674737494431496, -0.0028511306062882413, -0.005924894398642469], [0.0023830127159140124, 0.002195233024517258, 0.0011042629828494853, 0.0018054677637818139, 0.0016386345995846475, 0.000965247552862023, 0.0006996977526649495, -0.00023290780466243, 0.0005864438178318121, -0.0002642243693672208], [-0.002234413129167303, -0.003675905495502505, -0.00044831929743720743, -0.0034065058070414534, -0.0029798039235565364, -0.00329561609586851, -0.0011713763713872805, -0.0019989726148165053, -0.0018894293523386452, -0.004012671771400709], [0.0031440455418430945, 0.003638861884677351, 0.0005767129431325024, 0.0037713880036789947, 0.0033827099934397296, 0.00323678023011714, 0.0007725188475939726, 0.000803268460106219, 0.0017316359662905478, 0.0033498965249159607], [-2.4184759650138655e-05, -0.0007487738892767882, 9.672809020510485e-05, -0.004084453619828796, 0.0012598761991259575, -9.798682050424554e-05, 0.0011002817300674427, 0.001118751362730106, -0.00037061000445282044, -0.0018013729956741864], [0.004964140492144562, 0.00593714852687516, 0.0015055804880799773, 0.007045453169901683, 0.005503073695318634, 0.003119966161118204, 0.0013634405787104286, 0.001344243914387171, 0.003004151310766092, 0.003562954867181096], [-0.002436922343500345, -0.0023319614663600886, -0.00013659976089674952, -0.004215794568855897, -0.0004971641423243068, -0.0015845535277150713, 0.0002644258394982479, 0.0002337630171405669, -0.0004900285366761858, -2.5020431124325172e-05], [0.00011684576343728768, 0.0001483720416196799, 9.592642593156917e-06, 0.0030275782660893567, -0.0007158089545567669, 0.00035821154284691346, -0.00023810414475040176, -0.00016728369961362068, 0.00016981180450980287, -0.0013098994706368572], [0.0004078214366652322, -5.564664700862917e-05, -0.00025105745614569685, 0.004048567532181342, -0.0016689802190659763, -0.0007961585965724005, -0.0004963201438060017, -0.00046592768111493934, -0.0003152384119106877, -0.002329992821817326], [-0.00029528834583505975, -0.0022118831194914935, -0.0005106586348963538, 0.0031483325778672235, -0.003211420108375811, -0.0024431752934807884, -0.0018741379377496604, -0.0018491103631222661, -0.0015226539377651794, -0.003964400251862275], [0.0005593428781011511, 0.0008654792038393766, 0.00043864321287305887, -0.0005399568244839118, 0.00039582418279119583, -0.00040140455230677893, -0.00034349513371070286, -0.0017419459907130007, -0.0008587167140814245, -0.0016679162483336277], [-0.003732463804207682, -0.004596304891768021, -0.0011784662270877967, -0.007950043967660076, -0.003925604226922941, -0.004039465791725067, -0.002300139207592151, -0.002261359754978516, -0.002608970987636394, -0.004299663192843037], [-0.00261322508498976, -0.001873442981830156, -0.00026008315930973525, -0.0013434727992621953, 0.0008308720208715758, -0.0027859135644835065, -0.0004748603712952848, -0.0015688946391927373, -0.0010449738090194493, -0.0014542120056204233], [0.002480281507715034, 0.002223863540566893, 0.00022449411750412483, 0.003416177012357591, 0.002599034466422405, 0.002851664791516686, 0.0006050066383804831, -0.0006687289166534604, 0.00099488465951032, -0.0013805834317628606], [0.003401703626800976, 0.003598293446703009, 0.0013332319460048914, 0.00039365875458184706, 0.005414293059620063, 0.002278729679704914, 0.0017543003112561939, 0.0017653779597522944, 0.002304146772071074, 0.003835486913045174], [-0.0029361687603232543, -0.003651824156636072, -0.000649100983358627, -0.0025364236849448087, -0.0019132327892017376, -0.0033531584590802545, -0.000672333173970805, -0.0006103881446496073, -0.0016992048852649644, -0.003739791161102475], [0.0010047196982796247, 0.00035082573168119467, 0.000272786279056827, -9.996607515932787e-05, 0.0022160034018572717, 0.0001239655575223786, 0.0008046005049024086, -0.0017815560673766306, 0.0011215364366757453, 0.0028251313479199427], [0.0005210884979258989, 0.0009744312262268906, 0.000631047658471513, 0.0009951115521846133, 0.0011001274298077313, -0.000630943452502164, 0.001216357699504984, 0.001246973925741055, 0.0003155537754971416, 0.0009903476971443227], [-0.00032570602644873105, -0.0007444645956809048, -0.0002116425342336159, 0.0022346475521327134, -0.0004903244534116924, -0.0003336882897612714, 0.0001778228333893095, 0.00017954116866100378, 0.00045624231188567954, 0.0005107812889648365], [0.001413489153549896, 0.0016219473266395946, 0.0006627579896344082, -0.00091571735613444, 0.0015782756700741096, -4.715542404795766e-05, 0.0012457102641061236, 0.001214275138793961, 0.0013441622838213441, 0.004107275325919844]]'"
      ]
     },
     "execution_count": 154,
     "metadata": {},
     "output_type": "execute_result"
    }
   ],
   "source": [
    "response['Body'].read()"
   ]
  },
  {
   "cell_type": "markdown",
   "metadata": {},
   "source": [
    "# Borrar el endpoint"
   ]
  },
  {
   "cell_type": "code",
   "execution_count": 155,
   "metadata": {},
   "outputs": [
    {
     "data": {
      "text/plain": [
       "{'ResponseMetadata': {'RequestId': 'd0340a98-3a84-40b4-ab73-076e1f25f746',\n",
       "  'HTTPStatusCode': 200,\n",
       "  'HTTPHeaders': {'x-amzn-requestid': 'd0340a98-3a84-40b4-ab73-076e1f25f746',\n",
       "   'content-type': 'application/x-amz-json-1.1',\n",
       "   'content-length': '0',\n",
       "   'date': 'Thu, 29 Oct 2020 22:11:44 GMT'},\n",
       "  'RetryAttempts': 0}}"
      ]
     },
     "execution_count": 155,
     "metadata": {},
     "output_type": "execute_result"
    }
   ],
   "source": [
    "sm_boto3.delete_endpoint(EndpointName=predictor.endpoint)"
   ]
  },
  {
   "cell_type": "code",
   "execution_count": null,
   "metadata": {},
   "outputs": [],
   "source": []
  }
 ],
 "metadata": {
  "kernelspec": {
   "display_name": "conda_python3",
   "language": "python",
   "name": "conda_python3"
  },
  "language_info": {
   "codemirror_mode": {
    "name": "ipython",
    "version": 3
   },
   "file_extension": ".py",
   "mimetype": "text/x-python",
   "name": "python",
   "nbconvert_exporter": "python",
   "pygments_lexer": "ipython3",
   "version": "3.6.10"
  }
 },
 "nbformat": 4,
 "nbformat_minor": 4
}
