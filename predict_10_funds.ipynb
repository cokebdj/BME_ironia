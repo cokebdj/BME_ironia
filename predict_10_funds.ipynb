{
 "cells": [
  {
   "cell_type": "markdown",
   "metadata": {},
   "source": [
    "https://github.com/aws/amazon-sagemaker-examples/blob/master/sagemaker-python-sdk/scikit_learn_randomforest/Sklearn_on_SageMaker_end2end.ipynb"
   ]
  },
  {
   "cell_type": "code",
   "execution_count": 2,
   "metadata": {},
   "outputs": [],
   "source": [
    "import os\n",
    "import boto3\n",
    "import re\n",
    "import sagemaker\n",
    "import pandas as pd\n",
    "import json\n",
    "import numpy as np\n",
    "from sagemaker import get_execution_role\n",
    "from sklearn.metrics import r2_score\n",
    "import pprint\n",
    "\n",
    "role = sagemaker.get_execution_role()\n",
    "region = boto3.Session().region_name\n",
    "sm_boto3 = boto3.client('sagemaker')\n",
    "sess = sagemaker.Session()\n",
    "\n",
    "bucket = sagemaker.Session().default_bucket()\n",
    "prefix = 'sagemaker/bmeajg31'\n",
    "bucket_path = 'https://s3-{}.amazonaws.com/{}'.format(region, bucket)"
   ]
  },
  {
   "cell_type": "code",
   "execution_count": 3,
   "metadata": {},
   "outputs": [],
   "source": [
    "data = pd.read_csv('s3://sagemakerbmeironia/sagemaker_input_data/data.csv', sep=';')\n",
    "data.set_index('date_ws', inplace=True)"
   ]
  },
  {
   "cell_type": "code",
   "execution_count": 4,
   "metadata": {},
   "outputs": [],
   "source": [
    "s3 = boto3.resource('s3')\n",
    "content_object = s3.Object('sagemakerbmeironia', 'sagemaker_input_data/names.json')\n",
    "file_content = content_object.get()['Body'].read().decode('utf-8')\n",
    "names_dict = json.loads(file_content)"
   ]
  },
  {
   "cell_type": "markdown",
   "metadata": {},
   "source": [
    "# Filtrado de fondos"
   ]
  },
  {
   "cell_type": "code",
   "execution_count": 5,
   "metadata": {},
   "outputs": [],
   "source": [
    "n = 10\n",
    "filt_columns = data.columns.tolist()[:10]\n",
    "filt_names = {v:k for k,v in names_dict.items() if str(v) in filt_columns}\n",
    "data_filt = data[filt_columns]"
   ]
  },
  {
   "cell_type": "code",
   "execution_count": 6,
   "metadata": {},
   "outputs": [
    {
     "name": "stderr",
     "output_type": "stream",
     "text": [
      "/home/ec2-user/anaconda3/envs/python3/lib/python3.6/site-packages/pandas/core/frame.py:4153: SettingWithCopyWarning: \n",
      "A value is trying to be set on a copy of a slice from a DataFrame\n",
      "\n",
      "See the caveats in the documentation: https://pandas.pydata.org/pandas-docs/stable/user_guide/indexing.html#returning-a-view-versus-a-copy\n",
      "  downcast=downcast,\n"
     ]
    }
   ],
   "source": [
    "check_equal_df = False\n",
    "while not check_equal_df:\n",
    "    data_pre = data_filt.copy()\n",
    "    data_filt.fillna(method='ffill', inplace=True)\n",
    "    check_equal_df = data_filt.equals(data_pre)\n",
    "\n",
    "check_equal_df = False\n",
    "while not check_equal_df:\n",
    "    data_pre = data_filt.copy()\n",
    "    data_filt.fillna(method='bfill', inplace=True)\n",
    "    check_equal_df = data_filt.equals(data_pre)"
   ]
  },
  {
   "cell_type": "code",
   "execution_count": 7,
   "metadata": {},
   "outputs": [],
   "source": [
    "returns = np.log(data_filt).diff()"
   ]
  },
  {
   "cell_type": "code",
   "execution_count": 8,
   "metadata": {},
   "outputs": [],
   "source": [
    "ret_f1 = returns.shift(-1)"
   ]
  },
  {
   "cell_type": "code",
   "execution_count": 9,
   "metadata": {},
   "outputs": [],
   "source": [
    "ret_p1 = returns.shift(1)\n",
    "ret_p1.columns = [elem+'_1' for elem in returns.columns.tolist()]\n",
    "ret_p2 = returns.shift(2)\n",
    "ret_p2.columns = [elem+'_2' for elem in returns.columns.tolist()]\n",
    "ret_p3 = returns.shift(3)\n",
    "ret_p3.columns = [elem+'_3' for elem in returns.columns.tolist()]\n",
    "ret_p4 = returns.shift(4)\n",
    "ret_p4.columns = [elem+'_4' for elem in returns.columns.tolist()]\n",
    "ret_p5 = returns.shift(5)\n",
    "ret_p5.columns = [elem+'_5' for elem in returns.columns.tolist()]"
   ]
  },
  {
   "cell_type": "code",
   "execution_count": 10,
   "metadata": {},
   "outputs": [],
   "source": [
    "inputs = pd.concat([returns, ret_p1, ret_p2, ret_p3, ret_p4, ret_p5], axis=1).iloc[5+1:-1]\n",
    "target = ret_f1.iloc[5+1:-1]"
   ]
  },
  {
   "cell_type": "markdown",
   "metadata": {},
   "source": [
    "# División en train, test y split"
   ]
  },
  {
   "cell_type": "code",
   "execution_count": 11,
   "metadata": {},
   "outputs": [],
   "source": [
    "perc_train = 0.7\n",
    "perc_test = 0.2"
   ]
  },
  {
   "cell_type": "code",
   "execution_count": 12,
   "metadata": {},
   "outputs": [],
   "source": [
    "train_x, train_y = inputs.iloc[:int(len(inputs)*perc_train)] , target.iloc[:int(len(inputs)*perc_train)]\n",
    "test_x, test_y = inputs.iloc[int(len(inputs)*perc_train):int(len(inputs)*(perc_train+perc_test))] , target.iloc[int(len(inputs)*perc_train):int(len(inputs)*(perc_train+perc_test))]\n",
    "val_x, val_y = inputs.iloc[int(len(inputs)*(perc_train+perc_test)):] , target.iloc[int(len(inputs)*(perc_train+perc_test)):]"
   ]
  },
  {
   "cell_type": "markdown",
   "metadata": {},
   "source": [
    "# Persisitmos datos"
   ]
  },
  {
   "cell_type": "code",
   "execution_count": 13,
   "metadata": {},
   "outputs": [],
   "source": [
    "with open('fund_names.json', 'w') as fp:\n",
    "    json.dump(filt_names, fp)"
   ]
  },
  {
   "cell_type": "code",
   "execution_count": 14,
   "metadata": {},
   "outputs": [],
   "source": [
    "train_x.to_csv('train_x.csv', index=False)\n",
    "train_y.to_csv('train_y.csv', index=False)\n",
    "test_x.to_csv('test_x.csv', index=False)\n",
    "test_y.to_csv('test_y.csv', index=False)"
   ]
  },
  {
   "cell_type": "code",
   "execution_count": 15,
   "metadata": {},
   "outputs": [],
   "source": [
    "names = sess.upload_data(\n",
    "    path='fund_names.json', bucket=bucket,\n",
    "    key_prefix='sagemaker/sklearncontainer')\n",
    "\n",
    "train_x_path = sess.upload_data(\n",
    "    path='train_x.csv', bucket=bucket,\n",
    "    key_prefix='sagemaker/sklearncontainer')\n",
    "\n",
    "train_y_path = sess.upload_data(\n",
    "    path='train_y.csv', bucket=bucket,\n",
    "    key_prefix='sagemaker/sklearncontainer')\n",
    "\n",
    "test_x_path = sess.upload_data(\n",
    "    path='test_x.csv', bucket=bucket,\n",
    "    key_prefix='sagemaker/sklearncontainer')\n",
    "\n",
    "test_y_path = sess.upload_data(\n",
    "    path='test_y.csv', bucket=bucket,\n",
    "    key_prefix='sagemaker/sklearncontainer')"
   ]
  },
  {
   "cell_type": "markdown",
   "metadata": {},
   "source": [
    "# Generamos script"
   ]
  },
  {
   "cell_type": "code",
   "execution_count": 16,
   "metadata": {},
   "outputs": [
    {
     "name": "stdout",
     "output_type": "stream",
     "text": [
      "Writing script.py\n"
     ]
    }
   ],
   "source": [
    "%%writefile script.py\n",
    "\n",
    "import argparse\n",
    "import joblib\n",
    "import json\n",
    "import os\n",
    "import pprint\n",
    "\n",
    "import boto3\n",
    "import numpy as np\n",
    "import pandas as pd\n",
    "from sklearn.ensemble import RandomForestRegressor\n",
    "from sklearn.metrics import r2_score\n",
    "\n",
    "import subprocess\n",
    "import sys\n",
    "\n",
    "\n",
    "\n",
    "# inference functions ---------------\n",
    "def model_fn(model_dir):\n",
    "    clf = joblib.load(os.path.join(model_dir, \"model.joblib\"))\n",
    "    return clf\n",
    "\n",
    "\n",
    "\n",
    "if __name__ =='__main__':\n",
    "    \n",
    "    subprocess.check_call([sys.executable, \"-m\", \"pip\", \"install\", \"s3fs\"])\n",
    "    subprocess.check_call([sys.executable, \"-m\", \"pip\", \"install\", \"fsspec\"])\n",
    "    \n",
    "\n",
    "    print('extracting arguments')\n",
    "    parser = argparse.ArgumentParser()\n",
    "\n",
    "    # hyperparameters sent by the client are passed as command-line arguments to the script.\n",
    "    # to simplify the demo we don't use all sklearn RandomForest hyperparameters\n",
    "    parser.add_argument('--n-estimators', type=int, default=10)\n",
    "\n",
    "    # Data, model, and output directories\n",
    "    parser.add_argument('--model-dir', type=str, default=os.environ.get('SM_MODEL_DIR'))\n",
    "    parser.add_argument('--train', type=str, default=os.environ.get('SM_CHANNEL_TRAIN'))\n",
    "    parser.add_argument('--test', type=str, default=os.environ.get('SM_CHANNEL_TEST'))\n",
    "    parser.add_argument('--x_train_file', type=str, default='train_x.csv')\n",
    "    parser.add_argument('--y_train_file', type=str, default='train_y.csv')\n",
    "    parser.add_argument('--x_test_file', type=str, default='test_x.csv')\n",
    "    parser.add_argument('--y_test_file', type=str, default='test_y.csv')\n",
    "    parser.add_argument('--names_file', type=str, default='fund_names.json')\n",
    "\n",
    "    args, _ = parser.parse_known_args()\n",
    "\n",
    "\n",
    "    if args.train == 'unused':\n",
    "        print('reading data')\n",
    "        x_train = pd.read_csv(args.x_train_file).values\n",
    "        y_train = pd.read_csv(args.y_train_file).values\n",
    "        x_test = pd.read_csv(args.x_test_file).values\n",
    "        y_test_df = pd.read_csv(args.y_test_file)\n",
    "        y_test = y_test_df.values\n",
    "        columns = y_test_df.columns.tolist()\n",
    "        \n",
    "        print('reading fund names')\n",
    "        s3 = boto3.resource('s3')\n",
    "        a = args.names_file\n",
    "        bucket = a.split('//')[1].split('/')[0]\n",
    "        file = a.split(bucket)[1][1:]\n",
    "        content_object = s3.Object(bucket, file)\n",
    "        file_content = content_object.get()['Body'].read().decode('utf-8')\n",
    "        names_dict = json.loads(file_content)\n",
    "        \n",
    "    else:\n",
    "        print('reading data')\n",
    "        x_train = pd.read_csv(os.path.join(args.train, args.x_train_file)).values\n",
    "        y_train = pd.read_csv(os.path.join(args.train, args.y_train_file)).values\n",
    "        x_test = pd.read_csv(os.path.join(args.test, args.x_test_file)).values\n",
    "        y_test_df = pd.read_csv(os.path.join(args.test, args.y_test_file))\n",
    "        y_test = y_test_df.values\n",
    "        columns = y_test_df.columns.tolist()\n",
    "\n",
    "        print('reading fund names')\n",
    "        json_file = open(os.path.join(args.train, args.names_file))\n",
    "        json_str = json_file.read()\n",
    "        names_dict = json.loads(json_str)\n",
    "\n",
    "\n",
    "    print('training model')\n",
    "    model = RandomForestRegressor(\n",
    "        n_estimators=args.n_estimators)\n",
    "    \n",
    "    model.fit(x_train, y_train)\n",
    "\n",
    "    # print abs error\n",
    "    print('validating model')\n",
    "    pred = model.predict(x_test)\n",
    "    results_dict = {}\n",
    "    for index, elem in enumerate(columns):\n",
    "        score = r2_score(y_test[:,index], pred[:,index])\n",
    "        results_dict[names_dict[elem]] = score\n",
    "\n",
    "    pprint.pprint(results_dict)\n",
    "\n",
    "    # persist model\n",
    "    path = os.path.join(args.model_dir, \"model.joblib\")\n",
    "    joblib.dump(model, path)\n",
    "    print('model persisted at ' + path)"
   ]
  },
  {
   "cell_type": "markdown",
   "metadata": {},
   "source": [
    "# Test local"
   ]
  },
  {
   "cell_type": "code",
   "execution_count": 17,
   "metadata": {},
   "outputs": [
    {
     "name": "stdout",
     "output_type": "stream",
     "text": [
      "Requirement already satisfied: s3fs in /home/ec2-user/anaconda3/envs/python3/lib/python3.6/site-packages (0.4.2)\n",
      "Requirement already satisfied: fsspec>=0.6.0 in /home/ec2-user/anaconda3/envs/python3/lib/python3.6/site-packages (from s3fs) (0.6.2)\n",
      "Requirement already satisfied: botocore>=1.12.91 in /home/ec2-user/anaconda3/envs/python3/lib/python3.6/site-packages (from s3fs) (1.19.6)\n",
      "Requirement already satisfied: urllib3<1.26,>=1.25.4; python_version != \"3.4\" in /home/ec2-user/anaconda3/envs/python3/lib/python3.6/site-packages (from botocore>=1.12.91->s3fs) (1.25.10)\n",
      "Requirement already satisfied: jmespath<1.0.0,>=0.7.1 in /home/ec2-user/anaconda3/envs/python3/lib/python3.6/site-packages (from botocore>=1.12.91->s3fs) (0.10.0)\n",
      "Requirement already satisfied: python-dateutil<3.0.0,>=2.1 in /home/ec2-user/anaconda3/envs/python3/lib/python3.6/site-packages (from botocore>=1.12.91->s3fs) (2.8.1)\n",
      "Requirement already satisfied: six>=1.5 in /home/ec2-user/anaconda3/envs/python3/lib/python3.6/site-packages (from python-dateutil<3.0.0,>=2.1->botocore>=1.12.91->s3fs) (1.14.0)\n",
      "\u001b[33mWARNING: You are using pip version 20.0.2; however, version 20.2.4 is available.\n",
      "You should consider upgrading via the '/home/ec2-user/anaconda3/envs/python3/bin/python -m pip install --upgrade pip' command.\u001b[0m\n",
      "Requirement already satisfied: fsspec in /home/ec2-user/anaconda3/envs/python3/lib/python3.6/site-packages (0.6.2)\n",
      "\u001b[33mWARNING: You are using pip version 20.0.2; however, version 20.2.4 is available.\n",
      "You should consider upgrading via the '/home/ec2-user/anaconda3/envs/python3/bin/python -m pip install --upgrade pip' command.\u001b[0m\n",
      "extracting arguments\n",
      "reading data\n",
      "reading fund names\n",
      "training model\n",
      "validating model\n",
      "{'\"FRANKLIN BIOTECHNOLOGY DISCOVERY \"\"I\"\"\"': -0.027675129507533702,\n",
      " '\"FRANKLIN EURO HIGH YIELD \"\"I\"\" (EUR) ACC\"': 0.086387143101197,\n",
      " '\"FRANKLIN EURO HIGH YIELD \"\"I\"\" (EUR) INC\"': -0.058639555228167106,\n",
      " '\"FRANKLIN EUROPEAN GROWTH \"\"I\"\"\"': 0.009186029419416819,\n",
      " '\"FRANKLIN GLOBAL REAL ESTATE \"\"I\"\" ACC\"': -0.016463225406092574,\n",
      " '\"FRANKLIN INCOME \"\"I\"\"\"': -0.0050965522329047275,\n",
      " '\"FRANKLIN INDIA \"\"I\"\" (USD)\"': -0.023214526436507343,\n",
      " '\"JAN HEN GLOBAL EQUITY \"\"R\"\" (GBP) ACC\"': -0.02883038222917289,\n",
      " '\"JAN HEN GLOBAL EQUITY \"\"R\"\" (USD) ACC\"': -0.0018103041294308397,\n",
      " '\"JAN HEN UK ABSOLUTE RETURN \"\"R\"\" (GBP) ACC\"': -0.011029781479804823}\n",
      "model persisted at ./model.joblib\n"
     ]
    }
   ],
   "source": [
    "! python script.py --n-estimators 100 \\\n",
    "                   --model-dir ./ \\\n",
    "                   --train ./ \\\n",
    "                   --test ./ \\"
   ]
  },
  {
   "cell_type": "markdown",
   "metadata": {},
   "source": [
    "# Entranamos en Sagemaker"
   ]
  },
  {
   "cell_type": "code",
   "execution_count": 19,
   "metadata": {},
   "outputs": [],
   "source": [
    "from sagemaker.sklearn.estimator import SKLearn\n",
    "\n",
    "FRAMEWORK_VERSION = '0.23-1'\n",
    "\n",
    "sklearn_estimator = SKLearn(\n",
    "    entry_point='script.py',\n",
    "    role = get_execution_role(),\n",
    "    train_instance_count=1,\n",
    "    train_instance_type='ml.m5.large',\n",
    "    framework_version=FRAMEWORK_VERSION,\n",
    "    base_job_name='rf-scikit',\n",
    "    hyperparameters = {'n-estimators': 100,\n",
    "                       'train':'unused',\n",
    "                       'test':'unused',\n",
    "                       'x_train_file': train_x_path,\n",
    "                       'y_train_file': train_y_path,\n",
    "                       'x_test_file': test_x_path,\n",
    "                       'y_test_file': test_y_path,\n",
    "                       'names_file': names})"
   ]
  },
  {
   "cell_type": "code",
   "execution_count": 20,
   "metadata": {},
   "outputs": [],
   "source": [
    "sklearn_estimator.fit( wait=False)"
   ]
  },
  {
   "cell_type": "markdown",
   "metadata": {},
   "source": [
    "# Despliegue de un endpoint"
   ]
  },
  {
   "cell_type": "code",
   "execution_count": 22,
   "metadata": {},
   "outputs": [
    {
     "name": "stdout",
     "output_type": "stream",
     "text": [
      "2020-10-30 11:55:43 Starting - Launching requested ML instances......\n",
      "2020-10-30 11:56:49 Starting - Preparing the instances for training...\n",
      "2020-10-30 11:57:28 Downloading - Downloading input data...\n",
      "2020-10-30 11:57:47 Training - Downloading the training image.....\u001b[34m2020-10-30 11:58:45,515 sagemaker-training-toolkit INFO     Imported framework sagemaker_sklearn_container.training\u001b[0m\n",
      "\u001b[34m2020-10-30 11:58:45,517 sagemaker-training-toolkit INFO     No GPUs detected (normal if no gpus installed)\u001b[0m\n",
      "\u001b[34m2020-10-30 11:58:45,526 sagemaker_sklearn_container.training INFO     Invoking user training script.\u001b[0m\n",
      "\u001b[34m2020-10-30 11:58:45,915 sagemaker-training-toolkit INFO     No GPUs detected (normal if no gpus installed)\u001b[0m\n",
      "\u001b[34m2020-10-30 11:58:48,949 sagemaker-training-toolkit INFO     No GPUs detected (normal if no gpus installed)\u001b[0m\n",
      "\u001b[34m2020-10-30 11:58:48,960 sagemaker-training-toolkit INFO     No GPUs detected (normal if no gpus installed)\u001b[0m\n",
      "\u001b[34m2020-10-30 11:58:48,969 sagemaker-training-toolkit INFO     Invoking user script\n",
      "\u001b[0m\n",
      "\u001b[34mTraining Env:\n",
      "\u001b[0m\n",
      "\u001b[34m{\n",
      "    \"additional_framework_parameters\": {},\n",
      "    \"channel_input_dirs\": {},\n",
      "    \"current_host\": \"algo-1\",\n",
      "    \"framework_module\": \"sagemaker_sklearn_container.training:main\",\n",
      "    \"hosts\": [\n",
      "        \"algo-1\"\n",
      "    ],\n",
      "    \"hyperparameters\": {\n",
      "        \"test\": \"unused\",\n",
      "        \"names_file\": \"s3://sagemaker-us-east-2-561323288832/sagemaker/sklearncontainer/fund_names.json\",\n",
      "        \"y_train_file\": \"s3://sagemaker-us-east-2-561323288832/sagemaker/sklearncontainer/train_y.csv\",\n",
      "        \"x_test_file\": \"s3://sagemaker-us-east-2-561323288832/sagemaker/sklearncontainer/test_x.csv\",\n",
      "        \"n-estimators\": 100,\n",
      "        \"y_test_file\": \"s3://sagemaker-us-east-2-561323288832/sagemaker/sklearncontainer/test_y.csv\",\n",
      "        \"x_train_file\": \"s3://sagemaker-us-east-2-561323288832/sagemaker/sklearncontainer/train_x.csv\",\n",
      "        \"train\": \"unused\"\n",
      "    },\n",
      "    \"input_config_dir\": \"/opt/ml/input/config\",\n",
      "    \"input_data_config\": {},\n",
      "    \"input_dir\": \"/opt/ml/input\",\n",
      "    \"is_master\": true,\n",
      "    \"job_name\": \"rf-scikit-2020-10-30-11-55-41-612\",\n",
      "    \"log_level\": 20,\n",
      "    \"master_hostname\": \"algo-1\",\n",
      "    \"model_dir\": \"/opt/ml/model\",\n",
      "    \"module_dir\": \"s3://sagemaker-us-east-2-561323288832/rf-scikit-2020-10-30-11-55-41-612/source/sourcedir.tar.gz\",\n",
      "    \"module_name\": \"script\",\n",
      "    \"network_interface_name\": \"eth0\",\n",
      "    \"num_cpus\": 2,\n",
      "    \"num_gpus\": 0,\n",
      "    \"output_data_dir\": \"/opt/ml/output/data\",\n",
      "    \"output_dir\": \"/opt/ml/output\",\n",
      "    \"output_intermediate_dir\": \"/opt/ml/output/intermediate\",\n",
      "    \"resource_config\": {\n",
      "        \"current_host\": \"algo-1\",\n",
      "        \"hosts\": [\n",
      "            \"algo-1\"\n",
      "        ],\n",
      "        \"network_interface_name\": \"eth0\"\n",
      "    },\n",
      "    \"user_entry_point\": \"script.py\"\u001b[0m\n",
      "\u001b[34m}\n",
      "\u001b[0m\n",
      "\u001b[34mEnvironment variables:\n",
      "\u001b[0m\n",
      "\u001b[34mSM_HOSTS=[\"algo-1\"]\u001b[0m\n",
      "\u001b[34mSM_NETWORK_INTERFACE_NAME=eth0\u001b[0m\n",
      "\u001b[34mSM_HPS={\"n-estimators\":100,\"names_file\":\"s3://sagemaker-us-east-2-561323288832/sagemaker/sklearncontainer/fund_names.json\",\"test\":\"unused\",\"train\":\"unused\",\"x_test_file\":\"s3://sagemaker-us-east-2-561323288832/sagemaker/sklearncontainer/test_x.csv\",\"x_train_file\":\"s3://sagemaker-us-east-2-561323288832/sagemaker/sklearncontainer/train_x.csv\",\"y_test_file\":\"s3://sagemaker-us-east-2-561323288832/sagemaker/sklearncontainer/test_y.csv\",\"y_train_file\":\"s3://sagemaker-us-east-2-561323288832/sagemaker/sklearncontainer/train_y.csv\"}\u001b[0m\n",
      "\u001b[34mSM_USER_ENTRY_POINT=script.py\u001b[0m\n",
      "\u001b[34mSM_FRAMEWORK_PARAMS={}\u001b[0m\n",
      "\u001b[34mSM_RESOURCE_CONFIG={\"current_host\":\"algo-1\",\"hosts\":[\"algo-1\"],\"network_interface_name\":\"eth0\"}\u001b[0m\n",
      "\u001b[34mSM_INPUT_DATA_CONFIG={}\u001b[0m\n",
      "\u001b[34mSM_OUTPUT_DATA_DIR=/opt/ml/output/data\u001b[0m\n",
      "\u001b[34mSM_CHANNELS=[]\u001b[0m\n",
      "\u001b[34mSM_CURRENT_HOST=algo-1\u001b[0m\n",
      "\u001b[34mSM_MODULE_NAME=script\u001b[0m\n",
      "\u001b[34mSM_LOG_LEVEL=20\u001b[0m\n",
      "\u001b[34mSM_FRAMEWORK_MODULE=sagemaker_sklearn_container.training:main\u001b[0m\n",
      "\u001b[34mSM_INPUT_DIR=/opt/ml/input\u001b[0m\n",
      "\u001b[34mSM_INPUT_CONFIG_DIR=/opt/ml/input/config\u001b[0m\n",
      "\u001b[34mSM_OUTPUT_DIR=/opt/ml/output\u001b[0m\n",
      "\u001b[34mSM_NUM_CPUS=2\u001b[0m\n",
      "\u001b[34mSM_NUM_GPUS=0\u001b[0m\n",
      "\u001b[34mSM_MODEL_DIR=/opt/ml/model\u001b[0m\n",
      "\u001b[34mSM_MODULE_DIR=s3://sagemaker-us-east-2-561323288832/rf-scikit-2020-10-30-11-55-41-612/source/sourcedir.tar.gz\u001b[0m\n",
      "\u001b[34mSM_TRAINING_ENV={\"additional_framework_parameters\":{},\"channel_input_dirs\":{},\"current_host\":\"algo-1\",\"framework_module\":\"sagemaker_sklearn_container.training:main\",\"hosts\":[\"algo-1\"],\"hyperparameters\":{\"n-estimators\":100,\"names_file\":\"s3://sagemaker-us-east-2-561323288832/sagemaker/sklearncontainer/fund_names.json\",\"test\":\"unused\",\"train\":\"unused\",\"x_test_file\":\"s3://sagemaker-us-east-2-561323288832/sagemaker/sklearncontainer/test_x.csv\",\"x_train_file\":\"s3://sagemaker-us-east-2-561323288832/sagemaker/sklearncontainer/train_x.csv\",\"y_test_file\":\"s3://sagemaker-us-east-2-561323288832/sagemaker/sklearncontainer/test_y.csv\",\"y_train_file\":\"s3://sagemaker-us-east-2-561323288832/sagemaker/sklearncontainer/train_y.csv\"},\"input_config_dir\":\"/opt/ml/input/config\",\"input_data_config\":{},\"input_dir\":\"/opt/ml/input\",\"is_master\":true,\"job_name\":\"rf-scikit-2020-10-30-11-55-41-612\",\"log_level\":20,\"master_hostname\":\"algo-1\",\"model_dir\":\"/opt/ml/model\",\"module_dir\":\"s3://sagemaker-us-east-2-561323288832/rf-scikit-2020-10-30-11-55-41-612/source/sourcedir.tar.gz\",\"module_name\":\"script\",\"network_interface_name\":\"eth0\",\"num_cpus\":2,\"num_gpus\":0,\"output_data_dir\":\"/opt/ml/output/data\",\"output_dir\":\"/opt/ml/output\",\"output_intermediate_dir\":\"/opt/ml/output/intermediate\",\"resource_config\":{\"current_host\":\"algo-1\",\"hosts\":[\"algo-1\"],\"network_interface_name\":\"eth0\"},\"user_entry_point\":\"script.py\"}\u001b[0m\n",
      "\u001b[34mSM_USER_ARGS=[\"--n-estimators\",\"100\",\"--names_file\",\"s3://sagemaker-us-east-2-561323288832/sagemaker/sklearncontainer/fund_names.json\",\"--test\",\"unused\",\"--train\",\"unused\",\"--x_test_file\",\"s3://sagemaker-us-east-2-561323288832/sagemaker/sklearncontainer/test_x.csv\",\"--x_train_file\",\"s3://sagemaker-us-east-2-561323288832/sagemaker/sklearncontainer/train_x.csv\",\"--y_test_file\",\"s3://sagemaker-us-east-2-561323288832/sagemaker/sklearncontainer/test_y.csv\",\"--y_train_file\",\"s3://sagemaker-us-east-2-561323288832/sagemaker/sklearncontainer/train_y.csv\"]\u001b[0m\n",
      "\u001b[34mSM_OUTPUT_INTERMEDIATE_DIR=/opt/ml/output/intermediate\u001b[0m\n",
      "\u001b[34mSM_HP_TEST=unused\u001b[0m\n",
      "\u001b[34mSM_HP_NAMES_FILE=s3://sagemaker-us-east-2-561323288832/sagemaker/sklearncontainer/fund_names.json\u001b[0m\n",
      "\u001b[34mSM_HP_Y_TRAIN_FILE=s3://sagemaker-us-east-2-561323288832/sagemaker/sklearncontainer/train_y.csv\u001b[0m\n",
      "\u001b[34mSM_HP_X_TEST_FILE=s3://sagemaker-us-east-2-561323288832/sagemaker/sklearncontainer/test_x.csv\u001b[0m\n",
      "\u001b[34mSM_HP_N-ESTIMATORS=100\u001b[0m\n",
      "\u001b[34mSM_HP_Y_TEST_FILE=s3://sagemaker-us-east-2-561323288832/sagemaker/sklearncontainer/test_y.csv\u001b[0m\n",
      "\u001b[34mSM_HP_X_TRAIN_FILE=s3://sagemaker-us-east-2-561323288832/sagemaker/sklearncontainer/train_x.csv\u001b[0m\n",
      "\u001b[34mSM_HP_TRAIN=unused\u001b[0m\n",
      "\u001b[34mPYTHONPATH=/opt/ml/code:/miniconda3/bin:/miniconda3/lib/python37.zip:/miniconda3/lib/python3.7:/miniconda3/lib/python3.7/lib-dynload:/miniconda3/lib/python3.7/site-packages\n",
      "\u001b[0m\n",
      "\u001b[34mInvoking script with the following command:\n",
      "\u001b[0m\n",
      "\u001b[34m/miniconda3/bin/python script.py --n-estimators 100 --names_file s3://sagemaker-us-east-2-561323288832/sagemaker/sklearncontainer/fund_names.json --test unused --train unused --x_test_file s3://sagemaker-us-east-2-561323288832/sagemaker/sklearncontainer/test_x.csv --x_train_file s3://sagemaker-us-east-2-561323288832/sagemaker/sklearncontainer/train_x.csv --y_test_file s3://sagemaker-us-east-2-561323288832/sagemaker/sklearncontainer/test_y.csv --y_train_file s3://sagemaker-us-east-2-561323288832/sagemaker/sklearncontainer/train_y.csv\n",
      "\n",
      "\u001b[0m\n",
      "\u001b[34mCollecting s3fs\n",
      "  Downloading s3fs-0.5.1-py3-none-any.whl (21 kB)\u001b[0m\n",
      "\u001b[34mCollecting aiobotocore>=1.0.1\n",
      "  Downloading aiobotocore-1.1.2-py3-none-any.whl (45 kB)\u001b[0m\n",
      "\u001b[34mCollecting fsspec>=0.8.0\n",
      "  Downloading fsspec-0.8.4-py3-none-any.whl (91 kB)\u001b[0m\n",
      "\u001b[34mCollecting botocore<1.17.45,>=1.17.44\n",
      "  Downloading botocore-1.17.44-py2.py3-none-any.whl (6.5 MB)\u001b[0m\n",
      "\u001b[34mCollecting aioitertools>=0.5.1\n",
      "  Downloading aioitertools-0.7.0-py3-none-any.whl (20 kB)\u001b[0m\n",
      "\u001b[34mCollecting aiohttp>=3.3.1\n",
      "  Downloading aiohttp-3.7.2-cp37-cp37m-manylinux2014_x86_64.whl (1.3 MB)\u001b[0m\n",
      "\u001b[34mCollecting wrapt>=1.10.10\n",
      "  Downloading wrapt-1.12.1.tar.gz (27 kB)\u001b[0m\n",
      "\u001b[34mRequirement already satisfied: urllib3<1.26,>=1.20; python_version != \"3.4\" in /miniconda3/lib/python3.7/site-packages (from botocore<1.17.45,>=1.17.44->aiobotocore>=1.0.1->s3fs) (1.25.10)\u001b[0m\n",
      "\u001b[34mRequirement already satisfied: python-dateutil<3.0.0,>=2.1 in /miniconda3/lib/python3.7/site-packages (from botocore<1.17.45,>=1.17.44->aiobotocore>=1.0.1->s3fs) (2.8.1)\u001b[0m\n",
      "\u001b[34mCollecting docutils<0.16,>=0.10\n",
      "  Downloading docutils-0.15.2-py3-none-any.whl (547 kB)\u001b[0m\n",
      "\u001b[34mRequirement already satisfied: jmespath<1.0.0,>=0.7.1 in /miniconda3/lib/python3.7/site-packages (from botocore<1.17.45,>=1.17.44->aiobotocore>=1.0.1->s3fs) (0.10.0)\u001b[0m\n",
      "\u001b[34mCollecting typing_extensions>=3.7\n",
      "  Downloading typing_extensions-3.7.4.3-py3-none-any.whl (22 kB)\u001b[0m\n",
      "\u001b[34mCollecting yarl<2.0,>=1.0\n",
      "  Downloading yarl-1.6.2-cp37-cp37m-manylinux2014_x86_64.whl (295 kB)\u001b[0m\n",
      "\u001b[34mCollecting multidict<7.0,>=4.5\n",
      "  Downloading multidict-5.0.0-cp37-cp37m-manylinux2014_x86_64.whl (142 kB)\u001b[0m\n",
      "\u001b[34mCollecting async-timeout<4.0,>=3.0\n",
      "  Downloading async_timeout-3.0.1-py3-none-any.whl (8.2 kB)\u001b[0m\n",
      "\u001b[34mRequirement already satisfied: chardet<4.0,>=2.0 in /miniconda3/lib/python3.7/site-packages (from aiohttp>=3.3.1->aiobotocore>=1.0.1->s3fs) (3.0.4)\u001b[0m\n",
      "\u001b[34mCollecting attrs>=17.3.0\u001b[0m\n",
      "\u001b[34m  Downloading attrs-20.2.0-py2.py3-none-any.whl (48 kB)\u001b[0m\n",
      "\u001b[34mRequirement already satisfied: six>=1.5 in /miniconda3/lib/python3.7/site-packages (from python-dateutil<3.0.0,>=2.1->botocore<1.17.45,>=1.17.44->aiobotocore>=1.0.1->s3fs) (1.15.0)\u001b[0m\n",
      "\u001b[34mRequirement already satisfied: idna>=2.0 in /miniconda3/lib/python3.7/site-packages (from yarl<2.0,>=1.0->aiohttp>=3.3.1->aiobotocore>=1.0.1->s3fs) (2.10)\u001b[0m\n",
      "\u001b[34mBuilding wheels for collected packages: wrapt\n",
      "  Building wheel for wrapt (setup.py): started\u001b[0m\n",
      "\u001b[34m  Building wheel for wrapt (setup.py): finished with status 'done'\n",
      "  Created wheel for wrapt: filename=wrapt-1.12.1-cp37-cp37m-linux_x86_64.whl size=66374 sha256=f909f43563105b64abe7a9c238d697981d50c65d847050c7290b98a054f4b64d\n",
      "  Stored in directory: /root/.cache/pip/wheels/62/76/4c/aa25851149f3f6d9785f6c869387ad82b3fd37582fa8147ac6\u001b[0m\n",
      "\u001b[34mSuccessfully built wrapt\u001b[0m\n",
      "\u001b[34mInstalling collected packages: docutils, botocore, typing-extensions, aioitertools, multidict, yarl, async-timeout, attrs, aiohttp, wrapt, aiobotocore, fsspec, s3fs\n",
      "  Attempting uninstall: botocore\n",
      "    Found existing installation: botocore 1.18.9\n",
      "    Uninstalling botocore-1.18.9:\n",
      "      Successfully uninstalled botocore-1.18.9\u001b[0m\n",
      "\u001b[34mERROR: After October 2020 you may experience errors when installing or updating packages. This is because pip will change the way that it resolves dependency conflicts.\n",
      "\u001b[0m\n",
      "\u001b[34mWe recommend you use --use-feature=2020-resolver to test your packages with the new resolver before it becomes the default.\n",
      "\u001b[0m\n",
      "\u001b[34mboto3 1.15.9 requires botocore<1.19.0,>=1.18.9, but you'll have botocore 1.17.44 which is incompatible.\u001b[0m\n",
      "\u001b[34mSuccessfully installed aiobotocore-1.1.2 aiohttp-3.7.2 aioitertools-0.7.0 async-timeout-3.0.1 attrs-20.2.0 botocore-1.17.44 docutils-0.15.2 fsspec-0.8.4 multidict-5.0.0 s3fs-0.5.1 typing-extensions-3.7.4.3 wrapt-1.12.1 yarl-1.6.2\u001b[0m\n",
      "\n",
      "2020-10-30 11:58:45 Training - Training image download completed. Training in progress.\u001b[34mRequirement already satisfied: fsspec in /miniconda3/lib/python3.7/site-packages (0.8.4)\u001b[0m\n",
      "\u001b[34mextracting arguments\u001b[0m\n",
      "\u001b[34mreading data\u001b[0m\n",
      "\u001b[34mreading fund names\u001b[0m\n",
      "\u001b[34mtraining model\u001b[0m\n",
      "\u001b[34mvalidating model\u001b[0m\n",
      "\u001b[34m{'\"FRANKLIN BIOTECHNOLOGY DISCOVERY \"\"I\"\"\"': -0.0560505842168344,\n",
      " '\"FRANKLIN EURO HIGH YIELD \"\"I\"\" (EUR) ACC\"': 0.0846314630787165,\n",
      " '\"FRANKLIN EURO HIGH YIELD \"\"I\"\" (EUR) INC\"': -0.09824332772297417,\n",
      " '\"FRANKLIN EUROPEAN GROWTH \"\"I\"\"\"': -0.012254492662589156,\n",
      " '\"FRANKLIN GLOBAL REAL ESTATE \"\"I\"\" ACC\"': -0.030062506788919308,\n",
      " '\"FRANKLIN INCOME \"\"I\"\"\"': -0.0183321922107631,\n",
      " '\"FRANKLIN INDIA \"\"I\"\" (USD)\"': -0.023740039146715963,\n",
      " '\"JAN HEN GLOBAL EQUITY \"\"R\"\" (GBP) ACC\"': -0.04886898263126671,\n",
      " '\"JAN HEN GLOBAL EQUITY \"\"R\"\" (USD) ACC\"': -0.03357673819998541,\n",
      " '\"JAN HEN UK ABSOLUTE RETURN \"\"R\"\" (GBP) ACC\"': -0.0010990742205050363}\u001b[0m\n",
      "\u001b[34mmodel persisted at /opt/ml/model/model.joblib\u001b[0m\n",
      "\u001b[34m2020-10-30 11:59:16,707 sagemaker-training-toolkit INFO     Reporting training SUCCESS\u001b[0m\n",
      "\n",
      "2020-10-30 11:59:33 Uploading - Uploading generated training model\n",
      "2020-10-30 11:59:33 Completed - Training job completed\n",
      "Training seconds: 125\n",
      "Billable seconds: 125\n",
      "Model artifact persisted at s3://sagemaker-us-east-2-561323288832/rf-scikit-2020-10-30-11-55-41-612/output/model.tar.gz\n"
     ]
    }
   ],
   "source": [
    "sklearn_estimator.latest_training_job.wait()\n",
    "artifact = sm_boto3.describe_training_job(\n",
    "    TrainingJobName=sklearn_estimator.latest_training_job.name)['ModelArtifacts']['S3ModelArtifacts']\n",
    "\n",
    "print('Model artifact persisted at ' + artifact)"
   ]
  },
  {
   "cell_type": "code",
   "execution_count": 23,
   "metadata": {},
   "outputs": [
    {
     "name": "stderr",
     "output_type": "stream",
     "text": [
      "Parameter image will be renamed to image_uri in SageMaker Python SDK v2.\n"
     ]
    }
   ],
   "source": [
    "from sagemaker.sklearn.model import SKLearnModel\n",
    "\n",
    "model = SKLearnModel(\n",
    "    model_data=artifact,\n",
    "    role=get_execution_role(),\n",
    "    entry_point='script.py',\n",
    "    framework_version=FRAMEWORK_VERSION)"
   ]
  },
  {
   "cell_type": "code",
   "execution_count": 24,
   "metadata": {},
   "outputs": [
    {
     "name": "stdout",
     "output_type": "stream",
     "text": [
      "-----------------------------!"
     ]
    }
   ],
   "source": [
    "predictor = model.deploy(\n",
    "    instance_type='ml.t2.medium',\n",
    "    initial_instance_count=1)"
   ]
  },
  {
   "cell_type": "markdown",
   "metadata": {},
   "source": [
    "# Predicciones"
   ]
  },
  {
   "cell_type": "code",
   "execution_count": 30,
   "metadata": {},
   "outputs": [],
   "source": [
    "runtime = boto3.client('sagemaker-runtime')"
   ]
  },
  {
   "cell_type": "code",
   "execution_count": 31,
   "metadata": {},
   "outputs": [],
   "source": [
    "response = runtime.invoke_endpoint(\n",
    "    EndpointName=predictor.endpoint,\n",
    "    Body=val_x.to_csv(header=False, index=False).encode('utf-8'),\n",
    "    ContentType='text/csv')"
   ]
  },
  {
   "cell_type": "code",
   "execution_count": 32,
   "metadata": {},
   "outputs": [],
   "source": [
    "pred = np.asarray(json.loads(response['Body'].read().decode()))"
   ]
  },
  {
   "cell_type": "code",
   "execution_count": 47,
   "metadata": {},
   "outputs": [],
   "source": [
    "columns = returns.columns.tolist()\n",
    "dict_results = {}\n",
    "dict_metrics = {}\n",
    "for elem in range(pred.shape[1]):\n",
    "    dict_results[filt_names[int(columns[elem])]] = pred[:,elem]\n",
    "    dict_metrics[filt_names[int(columns[elem])]] = r2_score(val_x.values[:,elem], pred[:,elem])"
   ]
  },
  {
   "cell_type": "code",
   "execution_count": 48,
   "metadata": {},
   "outputs": [
    {
     "name": "stdout",
     "output_type": "stream",
     "text": [
      "{'\"FRANKLIN BIOTECHNOLOGY DISCOVERY \"\"I\"\"\"': -0.0730260807461196,\n",
      " '\"FRANKLIN EURO HIGH YIELD \"\"I\"\" (EUR) ACC\"': 0.22670586671819626,\n",
      " '\"FRANKLIN EURO HIGH YIELD \"\"I\"\" (EUR) INC\"': 0.09879536720594773,\n",
      " '\"FRANKLIN EUROPEAN GROWTH \"\"I\"\"\"': 0.04271303305510421,\n",
      " '\"FRANKLIN GLOBAL REAL ESTATE \"\"I\"\" ACC\"': 0.043264228954850936,\n",
      " '\"FRANKLIN INCOME \"\"I\"\"\"': 0.006422644004763445,\n",
      " '\"FRANKLIN INDIA \"\"I\"\" (USD)\"': 0.05725437069898487,\n",
      " '\"JAN HEN GLOBAL EQUITY \"\"R\"\" (GBP) ACC\"': -0.07907399727912923,\n",
      " '\"JAN HEN GLOBAL EQUITY \"\"R\"\" (USD) ACC\"': -0.013093707748482286,\n",
      " '\"JAN HEN UK ABSOLUTE RETURN \"\"R\"\" (GBP) ACC\"': 0.07868525294518525}\n"
     ]
    }
   ],
   "source": [
    "pprint.pprint(dict_metrics)"
   ]
  },
  {
   "cell_type": "code",
   "execution_count": 53,
   "metadata": {},
   "outputs": [
    {
     "data": {
      "text/plain": [
       "array([ 2.24523398e-03, -4.42569920e-03, -4.80388497e-03,  2.23791403e-03,\n",
       "       -3.56618008e-04, -1.78467827e-03, -1.82429894e-03,  1.78019384e-03,\n",
       "        1.53473108e-03,  3.03456772e-03,  7.52677786e-03,  1.77735641e-03,\n",
       "        1.47628425e-03, -6.01861402e-04,  5.37259501e-04,  7.15102234e-04,\n",
       "        3.69284590e-03,  3.51444661e-03, -2.68548443e-03, -3.32714110e-03,\n",
       "        1.09566216e-03,  1.35656267e-03, -2.00676765e-03, -5.42755057e-04,\n",
       "        4.47618616e-04,  4.99372212e-03,  1.16215859e-03,  3.56782600e-03,\n",
       "       -1.53350052e-03,  5.59619252e-04, -1.07876396e-03,  4.78885448e-04,\n",
       "       -3.33849075e-03,  1.48610591e-03,  7.23051392e-04,  2.44878498e-03,\n",
       "        6.67236755e-04,  2.61044368e-03, -5.06042999e-05, -1.19572093e-04,\n",
       "        2.80754396e-03,  1.48982116e-03,  3.90905117e-03, -2.14024204e-03,\n",
       "        1.00691215e-03,  2.04481894e-03, -1.36277796e-03, -2.59711283e-03,\n",
       "       -8.94115497e-04, -1.56925152e-03, -7.45117640e-04,  5.88300280e-04,\n",
       "        3.54257648e-04,  2.71430938e-03,  4.13401331e-03, -1.78877742e-03,\n",
       "        1.30310749e-03,  1.55057635e-03,  9.04264330e-04,  1.40018250e-03,\n",
       "        7.35774115e-04,  1.36025169e-03,  4.49305243e-03, -5.44061037e-04,\n",
       "        3.05733890e-03, -1.72530421e-03,  3.36644358e-03,  7.94511798e-04,\n",
       "       -5.84528139e-05,  1.61619285e-04,  3.98391466e-04,  1.97502291e-04,\n",
       "        1.89923452e-04,  1.09050526e-04,  9.02234051e-04,  7.76909976e-04,\n",
       "       -9.02863635e-04,  1.60013659e-03,  1.30578424e-04, -9.14873125e-04,\n",
       "        5.96823744e-04, -1.38585387e-03,  5.19738037e-04,  1.84440012e-03,\n",
       "       -9.90232882e-04,  4.46124338e-03,  1.60948010e-03, -9.90872440e-04,\n",
       "        9.82202168e-04,  3.71277015e-04,  2.87350818e-03, -6.66242435e-04,\n",
       "       -8.08611538e-04,  1.55436965e-03, -1.22509170e-03,  1.60873127e-03,\n",
       "        2.29885843e-03,  2.21496344e-03,  3.77959598e-03,  5.68812428e-03,\n",
       "        8.55362861e-04, -3.93232278e-03,  3.13281866e-04,  1.40330763e-04,\n",
       "       -1.65929659e-03,  2.88135411e-03, -2.44219824e-03, -1.60134925e-03,\n",
       "       -1.88683619e-03, -1.44552575e-03, -1.57366649e-04, -7.25167604e-04,\n",
       "       -1.19785337e-03, -1.05241587e-03,  2.58737659e-03,  2.71733482e-03,\n",
       "       -4.77617823e-04,  2.97997765e-05,  1.72757114e-03, -4.51384144e-03,\n",
       "       -7.99819127e-03,  7.42705181e-04, -7.77506024e-03, -6.24811823e-03,\n",
       "        1.09736665e-02, -8.36844582e-03,  2.52543474e-03, -5.45885312e-03,\n",
       "       -1.46135916e-02,  1.23207945e-02, -1.78862176e-02,  6.34797975e-03,\n",
       "       -7.30953589e-03, -8.66656274e-03,  5.37762974e-03, -2.24968417e-02,\n",
       "        2.08609367e-02, -3.41963311e-03,  2.14831334e-02, -7.35739014e-03,\n",
       "        1.20189965e-02, -2.31034963e-04,  1.97309437e-03, -9.43875734e-03,\n",
       "       -1.58922451e-02, -2.74104668e-03, -1.51062699e-02, -9.34786386e-03,\n",
       "       -1.75881692e-03,  2.02543838e-03,  1.40131791e-03, -6.58979053e-03,\n",
       "       -1.09434670e-02, -7.60280533e-03, -1.26775996e-02, -6.65549892e-03,\n",
       "       -7.51995107e-03, -7.37016980e-03,  3.32508427e-03, -4.37939065e-03,\n",
       "       -8.09245460e-03,  1.70819961e-03,  4.85469703e-03,  7.34740329e-05,\n",
       "       -1.75799481e-03,  2.50462769e-03, -2.90551904e-04,  1.73678834e-03,\n",
       "       -7.42586977e-03,  6.70871129e-04,  3.24922498e-03, -4.73784870e-03,\n",
       "       -3.37437981e-03, -4.57414597e-03, -4.13174208e-03, -2.83562811e-03,\n",
       "       -4.92720831e-03, -3.42918998e-03,  2.56465532e-03,  3.89427546e-03,\n",
       "        6.30585041e-03, -9.17691595e-03, -9.70275058e-03, -3.99473684e-03,\n",
       "       -8.36522822e-03,  1.76969576e-03,  1.99276143e-03, -9.01032581e-04,\n",
       "       -2.70025607e-03, -2.55924811e-03,  5.37922127e-03, -1.79913749e-03,\n",
       "       -4.41117795e-03, -2.98922444e-03, -2.36952356e-03, -8.77141684e-03,\n",
       "       -4.21124282e-03, -1.53738423e-02,  8.08139366e-04,  1.23874825e-02,\n",
       "        1.71710585e-03, -1.58783233e-03, -1.28840522e-02, -1.38503350e-03,\n",
       "        2.99033638e-03, -6.69978627e-03, -2.89774874e-03, -7.36096410e-03,\n",
       "        3.08308577e-03, -2.61089462e-03,  3.64549445e-03, -1.47252774e-03,\n",
       "        4.09245963e-03, -7.85769677e-04,  1.95543933e-03, -2.47003873e-03,\n",
       "       -1.23630509e-03,  3.84226935e-03, -9.18909905e-04,  2.93919912e-03,\n",
       "        6.29582559e-04,  1.65909105e-03, -2.45439843e-04,  6.06703289e-04,\n",
       "        2.22200721e-04, -3.46572088e-03, -1.15439394e-03,  3.08946296e-03,\n",
       "       -8.21566116e-04,  4.01297680e-03, -1.85017746e-04, -1.19986719e-03,\n",
       "        2.09629146e-03, -7.86696215e-04,  1.02249909e-03, -3.97149914e-03,\n",
       "       -3.93519125e-03, -1.97094469e-03, -2.84766532e-03,  3.88962449e-03,\n",
       "       -9.58205694e-04,  1.68670880e-03, -7.99842880e-05, -3.66817038e-04,\n",
       "        2.48151221e-04,  1.06819275e-03, -1.03694467e-03, -1.91774522e-03,\n",
       "        1.72222344e-04, -2.52955276e-03,  1.25075973e-03, -8.72001403e-04,\n",
       "        2.72219150e-04,  2.38842965e-03,  1.90907053e-03, -2.10598375e-03,\n",
       "       -1.04074386e-02, -4.96155345e-03,  2.39135524e-03, -1.27196513e-03,\n",
       "        3.46426288e-03, -2.72372141e-03,  3.66512229e-03, -3.21196672e-03,\n",
       "        6.19365751e-03, -2.97012124e-03,  2.09115735e-03,  4.20722502e-03,\n",
       "        2.86571728e-03,  1.99954494e-03, -2.51045494e-03, -1.66894969e-03,\n",
       "        2.57091202e-03,  3.47899433e-03, -8.05396732e-04, -2.07908617e-03,\n",
       "        4.00105523e-04, -3.43511999e-04,  2.12531954e-03])"
      ]
     },
     "execution_count": 53,
     "metadata": {},
     "output_type": "execute_result"
    }
   ],
   "source": [
    "dict_results['\"FRANKLIN BIOTECHNOLOGY DISCOVERY \"\"I\"\"\"']"
   ]
  },
  {
   "cell_type": "markdown",
   "metadata": {},
   "source": [
    "# Borrar endpoint"
   ]
  },
  {
   "cell_type": "code",
   "execution_count": null,
   "metadata": {},
   "outputs": [],
   "source": [
    "sm_boto3.delete_endpoint(EndpointName=predictor.endpoint)"
   ]
  }
 ],
 "metadata": {
  "kernelspec": {
   "display_name": "conda_python3",
   "language": "python",
   "name": "conda_python3"
  },
  "language_info": {
   "codemirror_mode": {
    "name": "ipython",
    "version": 3
   },
   "file_extension": ".py",
   "mimetype": "text/x-python",
   "name": "python",
   "nbconvert_exporter": "python",
   "pygments_lexer": "ipython3",
   "version": "3.6.10"
  }
 },
 "nbformat": 4,
 "nbformat_minor": 4
}
